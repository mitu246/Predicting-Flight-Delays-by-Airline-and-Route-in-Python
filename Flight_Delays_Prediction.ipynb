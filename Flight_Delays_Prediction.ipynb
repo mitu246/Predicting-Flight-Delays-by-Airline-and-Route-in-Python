{
 "cells": [
  {
   "cell_type": "markdown",
   "metadata": {
    "colab_type": "text",
    "deletable": true,
    "editable": true,
    "id": "lp2cl_8jM7Za"
   },
   "source": [
    "Loading Essential Libraries:\n",
    "---"
   ]
  },
  {
   "cell_type": "code",
   "execution_count": 1,
   "metadata": {
    "collapsed": true,
    "deletable": true,
    "editable": true
   },
   "outputs": [],
   "source": [
    "import warnings\n",
    "warnings.simplefilter('ignore')"
   ]
  },
  {
   "cell_type": "code",
   "execution_count": 2,
   "metadata": {
    "colab": {
     "base_uri": "https://localhost:8080/",
     "height": 92
    },
    "colab_type": "code",
    "collapsed": false,
    "deletable": true,
    "editable": true,
    "id": "QYHxr6ngM7Zc",
    "outputId": "63c173d7-0401-435b-ac34-fb098d349d85"
   },
   "outputs": [],
   "source": [
    "import os\n",
    "import pandas as pd\n",
    "import matplotlib.pyplot as plt\n",
    "import seaborn as sns\n",
    "import numpy as np\n",
    "import scipy.stats as stats\n",
    "import joblib\n",
    "%matplotlib inline"
   ]
  },
  {
   "cell_type": "code",
   "execution_count": 3,
   "metadata": {
    "colab": {
     "base_uri": "https://localhost:8080/",
     "height": 35
    },
    "colab_type": "code",
    "collapsed": false,
    "deletable": true,
    "editable": true,
    "id": "z9VEL_bqNIZD",
    "outputId": "c65f0797-0416-4076-c334-df3fee42af72"
   },
   "outputs": [
    {
     "name": "stdout",
     "output_type": "stream",
     "text": [
      "Drive already mounted at /content/gdrive; to attempt to forcibly remount, call drive.mount(\"/content/gdrive\", force_remount=True).\n"
     ]
    }
   ],
   "source": [
    "from google.colab import drive\n",
    "drive.mount('/content/gdrive')"
   ]
  },
  {
   "cell_type": "code",
   "execution_count": null,
   "metadata": {
    "colab": {},
    "colab_type": "code",
    "collapsed": true,
    "deletable": true,
    "editable": true,
    "id": "G4C95WpmM7aC"
   },
   "outputs": [],
   "source": [
    "colab_path='/content/gdrive/My Drive'"
   ]
  },
  {
   "cell_type": "markdown",
   "metadata": {
    "colab_type": "text",
    "deletable": true,
    "editable": true,
    "id": "6Rks_1dBM7aI"
   },
   "source": [
    "# Datasets Description:\n",
    "Two datasets were provided for the task of predicting flight delays for the 3rd Quarter of 2019.\n",
    "- Flight Delays Dataset: This is the main dataset which has all the information about different flights that flew from the start of 2018 till the 2nd quarter of 2019 for 17 carriers. All these flights were domestic. The dataset includes the record of about 11 million flights for about 17 different carriers, and has about 50 features which gives the information regarding each flight. This information includes flights origin, destinatination, departure delay, arrival delay, departure time, arrival time etc.\n",
    "-  Routes Dataset: Routes dataset is an additional dataset that just contains extra information about each flight route. There are 6684 unique routes in the flights dataset and this dataset includes information like origin state, destination state and the distance of each route (Length of the route).\n",
    "\n",
    "Loading the two datasets of \"Flight Delays\" and \"Routes\" data file."
   ]
  },
  {
   "cell_type": "code",
   "execution_count": 3,
   "metadata": {
    "colab": {},
    "colab_type": "code",
    "collapsed": false,
    "deletable": true,
    "editable": true,
    "id": "xkeC1RwxM7aJ",
    "outputId": "52eb7694-e954-4a86-d1b2-9e84a80fed40"
   },
   "outputs": [],
   "source": [
    "# Setting the Directory Path.\n",
    "path=os.getcwd()\n",
    "\n",
    "# Importing all data files:\n",
    "\n",
    "routes=pd.read_csv(os.path.join(path,\"Routes.csv\"))\n",
    "flight_delays=pd.read_csv(os.path.join(path,\"FlightDelays_ff.csv\"))"
   ]
  },
  {
   "cell_type": "markdown",
   "metadata": {
    "colab_type": "text",
    "deletable": true,
    "editable": true,
    "id": "kWZbYAo9M_5D"
   },
   "source": [
    "# Flight Delays Data File:"
   ]
  },
  {
   "cell_type": "code",
   "execution_count": 4,
   "metadata": {
    "colab": {},
    "colab_type": "code",
    "collapsed": false,
    "deletable": true,
    "editable": true,
    "id": "YoPP5AG1M_5H",
    "outputId": "838913bf-c369-4cd2-b6f3-4b80aba92e77"
   },
   "outputs": [
    {
     "data": {
      "text/html": [
       "<div>\n",
       "<style scoped>\n",
       "    .dataframe tbody tr th:only-of-type {\n",
       "        vertical-align: middle;\n",
       "    }\n",
       "\n",
       "    .dataframe tbody tr th {\n",
       "        vertical-align: top;\n",
       "    }\n",
       "\n",
       "    .dataframe thead th {\n",
       "        text-align: right;\n",
       "    }\n",
       "</style>\n",
       "<table border=\"1\" class=\"dataframe\">\n",
       "  <thead>\n",
       "    <tr style=\"text-align: right;\">\n",
       "      <th></th>\n",
       "      <th>YEAR</th>\n",
       "      <th>QUARTER</th>\n",
       "      <th>MONTH</th>\n",
       "      <th>DAY_OF_MONTH</th>\n",
       "      <th>DAY_OF_WEEK</th>\n",
       "      <th>FL_DATE</th>\n",
       "      <th>CARRIER</th>\n",
       "      <th>FL_NUM</th>\n",
       "      <th>Route</th>\n",
       "      <th>ORIGIN</th>\n",
       "      <th>...</th>\n",
       "      <th>NAS_DELAY</th>\n",
       "      <th>SECURITY_DELAY</th>\n",
       "      <th>LATE_AIRCRAFT_DELAY</th>\n",
       "      <th>PASSENGERS</th>\n",
       "      <th>EMPFULL</th>\n",
       "      <th>EMPPART</th>\n",
       "      <th>EMPTOTAL</th>\n",
       "      <th>EMPFTE</th>\n",
       "      <th>NET_INCOME</th>\n",
       "      <th>OP_REVENUES</th>\n",
       "    </tr>\n",
       "  </thead>\n",
       "  <tbody>\n",
       "    <tr>\n",
       "      <th>0</th>\n",
       "      <td>2018</td>\n",
       "      <td>1</td>\n",
       "      <td>1</td>\n",
       "      <td>1</td>\n",
       "      <td>1</td>\n",
       "      <td>2018-01-01</td>\n",
       "      <td>9E</td>\n",
       "      <td>3331</td>\n",
       "      <td>42</td>\n",
       "      <td>ABY</td>\n",
       "      <td>...</td>\n",
       "      <td>NaN</td>\n",
       "      <td>NaN</td>\n",
       "      <td>NaN</td>\n",
       "      <td>2677.0</td>\n",
       "      <td>4191.0</td>\n",
       "      <td>109.0</td>\n",
       "      <td>4300.0</td>\n",
       "      <td>4246.0</td>\n",
       "      <td>-126.37</td>\n",
       "      <td>674.25</td>\n",
       "    </tr>\n",
       "    <tr>\n",
       "      <th>1</th>\n",
       "      <td>2018</td>\n",
       "      <td>1</td>\n",
       "      <td>1</td>\n",
       "      <td>1</td>\n",
       "      <td>1</td>\n",
       "      <td>2018-01-01</td>\n",
       "      <td>9E</td>\n",
       "      <td>3940</td>\n",
       "      <td>42</td>\n",
       "      <td>ABY</td>\n",
       "      <td>...</td>\n",
       "      <td>NaN</td>\n",
       "      <td>NaN</td>\n",
       "      <td>NaN</td>\n",
       "      <td>2677.0</td>\n",
       "      <td>4191.0</td>\n",
       "      <td>109.0</td>\n",
       "      <td>4300.0</td>\n",
       "      <td>4246.0</td>\n",
       "      <td>-126.37</td>\n",
       "      <td>674.25</td>\n",
       "    </tr>\n",
       "    <tr>\n",
       "      <th>2</th>\n",
       "      <td>2018</td>\n",
       "      <td>1</td>\n",
       "      <td>1</td>\n",
       "      <td>2</td>\n",
       "      <td>2</td>\n",
       "      <td>2018-01-02</td>\n",
       "      <td>9E</td>\n",
       "      <td>3409</td>\n",
       "      <td>42</td>\n",
       "      <td>ABY</td>\n",
       "      <td>...</td>\n",
       "      <td>NaN</td>\n",
       "      <td>NaN</td>\n",
       "      <td>NaN</td>\n",
       "      <td>2677.0</td>\n",
       "      <td>4191.0</td>\n",
       "      <td>109.0</td>\n",
       "      <td>4300.0</td>\n",
       "      <td>4246.0</td>\n",
       "      <td>-126.37</td>\n",
       "      <td>674.25</td>\n",
       "    </tr>\n",
       "    <tr>\n",
       "      <th>3</th>\n",
       "      <td>2018</td>\n",
       "      <td>1</td>\n",
       "      <td>1</td>\n",
       "      <td>2</td>\n",
       "      <td>2</td>\n",
       "      <td>2018-01-02</td>\n",
       "      <td>9E</td>\n",
       "      <td>3940</td>\n",
       "      <td>42</td>\n",
       "      <td>ABY</td>\n",
       "      <td>...</td>\n",
       "      <td>NaN</td>\n",
       "      <td>NaN</td>\n",
       "      <td>NaN</td>\n",
       "      <td>2677.0</td>\n",
       "      <td>4191.0</td>\n",
       "      <td>109.0</td>\n",
       "      <td>4300.0</td>\n",
       "      <td>4246.0</td>\n",
       "      <td>-126.37</td>\n",
       "      <td>674.25</td>\n",
       "    </tr>\n",
       "    <tr>\n",
       "      <th>4</th>\n",
       "      <td>2018</td>\n",
       "      <td>1</td>\n",
       "      <td>1</td>\n",
       "      <td>3</td>\n",
       "      <td>3</td>\n",
       "      <td>2018-01-03</td>\n",
       "      <td>9E</td>\n",
       "      <td>3353</td>\n",
       "      <td>42</td>\n",
       "      <td>ABY</td>\n",
       "      <td>...</td>\n",
       "      <td>NaN</td>\n",
       "      <td>NaN</td>\n",
       "      <td>NaN</td>\n",
       "      <td>2677.0</td>\n",
       "      <td>4191.0</td>\n",
       "      <td>109.0</td>\n",
       "      <td>4300.0</td>\n",
       "      <td>4246.0</td>\n",
       "      <td>-126.37</td>\n",
       "      <td>674.25</td>\n",
       "    </tr>\n",
       "  </tbody>\n",
       "</table>\n",
       "<p>5 rows × 50 columns</p>\n",
       "</div>"
      ],
      "text/plain": [
       "   YEAR  QUARTER  MONTH  DAY_OF_MONTH  DAY_OF_WEEK     FL_DATE CARRIER  \\\n",
       "0  2018        1      1             1            1  2018-01-01      9E   \n",
       "1  2018        1      1             1            1  2018-01-01      9E   \n",
       "2  2018        1      1             2            2  2018-01-02      9E   \n",
       "3  2018        1      1             2            2  2018-01-02      9E   \n",
       "4  2018        1      1             3            3  2018-01-03      9E   \n",
       "\n",
       "   FL_NUM  Route ORIGIN  ... NAS_DELAY SECURITY_DELAY LATE_AIRCRAFT_DELAY  \\\n",
       "0    3331     42    ABY  ...       NaN            NaN                 NaN   \n",
       "1    3940     42    ABY  ...       NaN            NaN                 NaN   \n",
       "2    3409     42    ABY  ...       NaN            NaN                 NaN   \n",
       "3    3940     42    ABY  ...       NaN            NaN                 NaN   \n",
       "4    3353     42    ABY  ...       NaN            NaN                 NaN   \n",
       "\n",
       "   PASSENGERS  EMPFULL  EMPPART  EMPTOTAL  EMPFTE  NET_INCOME OP_REVENUES  \n",
       "0      2677.0   4191.0    109.0    4300.0  4246.0     -126.37      674.25  \n",
       "1      2677.0   4191.0    109.0    4300.0  4246.0     -126.37      674.25  \n",
       "2      2677.0   4191.0    109.0    4300.0  4246.0     -126.37      674.25  \n",
       "3      2677.0   4191.0    109.0    4300.0  4246.0     -126.37      674.25  \n",
       "4      2677.0   4191.0    109.0    4300.0  4246.0     -126.37      674.25  \n",
       "\n",
       "[5 rows x 50 columns]"
      ]
     },
     "execution_count": 4,
     "metadata": {},
     "output_type": "execute_result"
    }
   ],
   "source": [
    "flight_delays.head()"
   ]
  },
  {
   "cell_type": "markdown",
   "metadata": {
    "colab_type": "text",
    "deletable": true,
    "editable": true,
    "id": "TzJs3300M_5T"
   },
   "source": [
    "# Data Cleaning, Preprocessing and Feature Engineering:\n",
    "\n",
    "Data Cleaning:\n",
    "---\n",
    "- The flight dataset had some of errors that needed to be addressed. For example we have two variables called \"CRS_DEP_TIME\" which gives us the expected departure time of flight, and then we have \"DEP_TIME\" which gives us the actual departure time of the flight, the time at which the flight actually departs. There was an error where when the flight left on time meaning that the \"CRS_DEP_TIME\" and \"DEP_TIME\" would be the same the Delay is calculated as \"NULL\" which is wrong as the Delay is shown as \"NULL\" for only those flights that were \"Cancelled\".\n",
    "- Same is the case with the arrival data, when expected arrival time and the actual arrival time are the same meaning the flight arrived on time, the Arrival Delay is given \"NULL\" values.\n",
    "\n",
    "These errors are being rectified in the next step."
   ]
  },
  {
   "cell_type": "code",
   "execution_count": 5,
   "metadata": {
    "colab": {},
    "colab_type": "code",
    "collapsed": true,
    "deletable": true,
    "editable": true,
    "id": "5HIAEEvCM_5U"
   },
   "outputs": [],
   "source": [
    "# Correcting the error where flight left exact on time and the difference calculated is Nan.\n",
    "# same error is with the entrees when arrival time and scheduled arrival times are the same.\n",
    "\n",
    "ff=flight_delays.loc[:,[\"CRS_DEP_TIME\",\"DEP_TIME\",\"DEP_DELAY\",\"DEP_DELAY_NEW\",\"DEP_DEL15\",\"DEP_DELAY_GROUP\",\"DEP_TIME_BLK\",\"CANCELED\",\n",
    "                       \"CRS_ARR_TIME\",\"ARR_TIME\",\"ARR_DELAY\",\"ARR_DELAY_NEW\",\"ARR_DEL15\",\"ARR_DELAY_GROUP\",\"ARR_TIME_BLK\",\"DIVERTED\"]]\n",
    "# Departure data error correction:\n",
    "flight_delays[(flight_delays[\"CANCELED\"]!=1) & flight_delays[\"DEP_DELAY\"].isnull()]=ff[(ff[\"CANCELED\"]!=1) & ff[\"DEP_DELAY\"].isnull()].fillna(0,axis=1)\n",
    "# Arrival data error correction:\n",
    "flight_delays[(flight_delays[\"CANCELED\"]!=1) & flight_delays[\"ARR_DELAY\"].isnull()]=ff[(ff[\"CANCELED\"]!=1) & ff[\"ARR_DELAY\"].isnull()].fillna(0,axis=1)\n"
   ]
  },
  {
   "cell_type": "markdown",
   "metadata": {
    "colab_type": "text",
    "deletable": true,
    "editable": true,
    "id": "GjgM9fONM7aa"
   },
   "source": [
    "There were a few indices where Arrival Delay was Null as no information was given about the Arrival Time, so we can't include them in our modela s Arrival Delayb would be the dependent variable for our modeling purposes."
   ]
  },
  {
   "cell_type": "code",
   "execution_count": 6,
   "metadata": {
    "colab": {},
    "colab_type": "code",
    "collapsed": true,
    "deletable": true,
    "editable": true,
    "id": "eupVGBQ9M_5a"
   },
   "outputs": [],
   "source": [
    "# Dropping rows where \"Arr_Delay\" is null:\n",
    "indices=flight_delays[['ARR_DELAY','CRS_DEP_TIME','DEP_TIME','CRS_ARR_TIME','ARR_TIME']][flight_delays[['ARR_DELAY','CRS_DEP_TIME','DEP_TIME','CRS_ARR_TIME','ARR_TIME']].isnull().any(axis=1)].index\n",
    "\n",
    "flight_delays.drop(indices,axis=0,inplace=True)\n"
   ]
  },
  {
   "cell_type": "markdown",
   "metadata": {
    "colab_type": "text",
    "deletable": true,
    "editable": true,
    "id": "ZTwjYiV0M_5g"
   },
   "source": [
    "# Feature Engineering for Flight Delays Data:\n",
    "Expected flight departure and Arrival times are given by the variables of \"CRS_DEP_TIME\" and \"CRS_ARR_TIME\" in 24 hr format. e.g if a flight departed at 8:00 PM then the time would be given as 2000. So, my idea waas if i bin them such that flight departures are segregated on the basis of 4 categories of \"Morning Time\",Evening Time\", \"Night Time\",\"Late/Odd Time\". No why i would think of doing this is because it would help us determine the departure delay and arrival delay among different categories of departure and arrival time.\n",
    "\n",
    "The binning is performed such that:\n",
    "- Morning Time = 8:00 AM to 2:00 PM\n",
    "- Evening Time = 2:00 PM to 7:00 PM\n",
    "- Night Time = 7:00 PM to 12:00 AM\n",
    "- Odd Time = 12:00 AM to 8:00 AM\n",
    "\n",
    "The two created categorical variables are:\n",
    "- dep_flight_times = Departure Flight Time Categories\n",
    "- arr_flight_times = Arrival Flight Time Categorries"
   ]
  },
  {
   "cell_type": "code",
   "execution_count": 7,
   "metadata": {
    "colab": {},
    "colab_type": "code",
    "collapsed": true,
    "deletable": true,
    "editable": true,
    "id": "iIo64Q90M_5h"
   },
   "outputs": [],
   "source": [
    "# Creating Categorical Variables for Dep_time and Arr_Time:\n",
    "\n",
    "# Departure:\n",
    "dep_flight_times=[]\n",
    "for i in flight_delays.CRS_DEP_TIME:\n",
    "    if i>= 800 and i<1400:\n",
    "        dep_flight_times.append(\"Morning Time\")\n",
    "    elif i>=1400 and i<1900:\n",
    "        dep_flight_times.append(\"Evening Time\")\n",
    "    elif i>=1900 and i<=2400:\n",
    "        dep_flight_times.append(\"Night Time\")\n",
    "    elif i>=0 and i<800:\n",
    "        dep_flight_times.append(\"Late/Odd Time\")\n",
    "    else:\n",
    "        dep_flight_times.append(\"time_NA\")\n",
    "    \n",
    "flight_delays[\"dep_flight_times\"]=dep_flight_times\n",
    "\n",
    "# Arrival:\n",
    "arr_flight_times=[]\n",
    "\n",
    "for i in flight_delays.CRS_ARR_TIME:\n",
    "    if i>= 800 and i<1400:\n",
    "        arr_flight_times.append(\"Morning Time\")\n",
    "    elif i>=1400 and i<1900:\n",
    "        arr_flight_times.append(\"Evening Time\")\n",
    "    elif i>=1900 and i<=2400:\n",
    "        arr_flight_times.append(\"Night Time\")\n",
    "    elif i>=0 and i<800:\n",
    "        arr_flight_times.append(\"Late/Odd Time\")\n",
    "    else:\n",
    "        arr_flight_times.append(\"time_NA\")\n",
    "    \n",
    "flight_delays[\"arr_flight_times\"]=arr_flight_times\n"
   ]
  },
  {
   "cell_type": "markdown",
   "metadata": {
    "colab_type": "text",
    "deletable": true,
    "editable": true,
    "id": "ANibWAbVM7am"
   },
   "source": [
    "Many times we have heard that flights on weekends are expensive becaus emost of the people travel on the weekends. So, my idea was to see if flights departing on weekends would generally be delayed than flights departing on weekdays. Also, to see if flight's departure week in a month would have any significance in determining the delay.\n",
    "Thus, i created two more variables:\n",
    "- week_day/end = Categorical Variable that just has two categories 'weekend' and 'weekday'\n",
    "- week_of_month = Categorical variable that has four categories named as 'first week', 'second week', 'third week' and 'fourth week'."
   ]
  },
  {
   "cell_type": "code",
   "execution_count": 8,
   "metadata": {
    "colab": {},
    "colab_type": "code",
    "collapsed": true,
    "deletable": true,
    "editable": true,
    "id": "TIfLHVj-M_5o"
   },
   "outputs": [],
   "source": [
    "# Adding \"week of month\" and a categorical variable as \"Weekend or Weekday\" identifier:\n",
    "\n",
    "week_day_end=[]\n",
    "for i in flight_delays[\"DAY_OF_WEEK\"]:\n",
    "    if i>=5:\n",
    "        week_day_end.append(\"weekday\")\n",
    "    elif i<5:\n",
    "        week_day_end.append(\"weekend\")\n",
    "    else:\n",
    "        week_day_end.append(\"day_NA\")\n",
    "        \n",
    "week_of_month=[]\n",
    "\n",
    "for i in flight_delays[\"DAY_OF_MONTH\"]:\n",
    "    if i<=7:\n",
    "        week_of_month.append(\"first_week\")\n",
    "    elif i>7 and i<=14:\n",
    "        week_of_month.append(\"second_week\")\n",
    "    elif i>14 and i<=21:\n",
    "        week_of_month.append(\"third_week\")\n",
    "    elif i>21:\n",
    "        week_of_month.append(\"last_week\")\n",
    "    else:\n",
    "        week_of_month.append(\"week_NA\")\n",
    "        \n",
    "flight_delays[\"week_day/end\"],flight_delays[\"week_of_month\"]=week_day_end,week_of_month"
   ]
  },
  {
   "cell_type": "markdown",
   "metadata": {
    "colab_type": "text",
    "deletable": true,
    "editable": true,
    "id": "XkU7dY4YM7at"
   },
   "source": [
    "Removing Null Values in the data:\n",
    "---\n",
    "There are around 35141 records where there is no info regarding origin, date, year, month, departure time and arrival time, so i think these observations are not informative and would provide no insights, also as we have about 10 million records so it means that we can safely remove these 35141 observations."
   ]
  },
  {
   "cell_type": "code",
   "execution_count": 9,
   "metadata": {
    "colab": {},
    "colab_type": "code",
    "collapsed": true,
    "deletable": true,
    "editable": true,
    "id": "pkmWW9ngM_5t"
   },
   "outputs": [],
   "source": [
    "remove_indexes=flight_delays.loc[flight_delays[\"week_day/end\"]==\"day_NA\",[\"CRS_ARR_TIME\",\"CRS_DEP_TIME\",\"ORIGIN\"]].index\n",
    "flight_delays.drop(remove_indexes, inplace=True)\n",
    "del(remove_indexes)"
   ]
  },
  {
   "cell_type": "markdown",
   "metadata": {
    "colab_type": "text",
    "deletable": true,
    "editable": true,
    "id": "7i1Nze2hM7ax"
   },
   "source": [
    "There are only two records where flights were diverted and elapsed time was not mentioned, because it would be the only way to gauge the reason for diverting the flight, and for those flights arrival time and delay had \"NULL\" values so i would safely remove these 2 observations aswell."
   ]
  },
  {
   "cell_type": "code",
   "execution_count": 10,
   "metadata": {
    "colab": {},
    "colab_type": "code",
    "collapsed": true,
    "deletable": true,
    "editable": true,
    "id": "gEfSJJn8M_51"
   },
   "outputs": [],
   "source": [
    "flight_delays=flight_delays.loc[flight_delays[\"DIVERTED\"]==0,:]"
   ]
  },
  {
   "cell_type": "markdown",
   "metadata": {
    "colab_type": "text",
    "deletable": true,
    "editable": true,
    "id": "krzU0oKUM7a4"
   },
   "source": [
    "Dropping Certain Variables:\n",
    "---\n",
    "Carrier Delay, Weather Delay and NAS Delay etc have about 95% of the values as Nan, so i would not include these variables for analysis."
   ]
  },
  {
   "cell_type": "code",
   "execution_count": 11,
   "metadata": {
    "colab": {},
    "colab_type": "code",
    "collapsed": false,
    "deletable": true,
    "editable": true,
    "id": "3E3dvZ92M_58",
    "outputId": "28f7baaf-68fc-4fdb-c0d3-60c322788595"
   },
   "outputs": [
    {
     "data": {
      "text/plain": [
       "CARRIER_DELAY          8595341\n",
       "WEATHER_DELAY          8595341\n",
       "NAS_DELAY              8595341\n",
       "SECURITY_DELAY         8595341\n",
       "LATE_AIRCRAFT_DELAY    8595341\n",
       "dtype: int64"
      ]
     },
     "execution_count": 11,
     "metadata": {},
     "output_type": "execute_result"
    }
   ],
   "source": [
    "# Carrier Delay, Weather Delay and NAS Delay etc have about 95% of the values as Nan, so i would not include these variables for ana;ysis.\n",
    "flight_delays[['CARRIER_DELAY', 'WEATHER_DELAY', 'NAS_DELAY',\n",
    "       'SECURITY_DELAY', 'LATE_AIRCRAFT_DELAY']].isnull().sum()"
   ]
  },
  {
   "cell_type": "code",
   "execution_count": 12,
   "metadata": {
    "colab": {},
    "colab_type": "code",
    "collapsed": true,
    "deletable": true,
    "editable": true,
    "id": "EIf-eDjaM_6D"
   },
   "outputs": [],
   "source": [
    "flight_delays=flight_delays.reset_index()"
   ]
  },
  {
   "cell_type": "code",
   "execution_count": 13,
   "metadata": {
    "colab": {},
    "colab_type": "code",
    "collapsed": false,
    "deletable": true,
    "editable": true,
    "id": "bkj3liekM_6J",
    "outputId": "960eaf28-47c4-4fab-b540-5b739429e076"
   },
   "outputs": [
    {
     "data": {
      "text/plain": [
       "Index(['index', 'YEAR', 'QUARTER', 'MONTH', 'DAY_OF_MONTH', 'DAY_OF_WEEK',\n",
       "       'FL_DATE', 'CARRIER', 'FL_NUM', 'Route', 'ORIGIN', 'DEST', 'DEST_CITY',\n",
       "       'DEST_STATE', 'CRS_DEP_TIME', 'DEP_TIME', 'DEP_DELAY', 'DEP_DELAY_NEW',\n",
       "       'DEP_DEL15', 'DEP_DELAY_GROUP', 'DEP_TIME_BLK', 'TAXI_OUT',\n",
       "       'WHEELS_OFF', 'WHEELS_ON', 'TAXI_IN', 'CRS_ARR_TIME', 'ARR_TIME',\n",
       "       'ARR_DELAY', 'ARR_DELAY_NEW', 'ARR_DEL15', 'ARR_DELAY_GROUP',\n",
       "       'ARR_TIME_BLK', 'CANCELED', 'CANCELLATION_CODE', 'DIVERTED',\n",
       "       'CRS_ELAPSED_TIME', 'ACTUAL_ELAPSED_TIME', 'AIR_TIME', 'DISTANCE',\n",
       "       'CARRIER_DELAY', 'WEATHER_DELAY', 'NAS_DELAY', 'SECURITY_DELAY',\n",
       "       'LATE_AIRCRAFT_DELAY', 'PASSENGERS', 'EMPFULL', 'EMPPART', 'EMPTOTAL',\n",
       "       'EMPFTE', 'NET_INCOME', 'OP_REVENUES', 'dep_flight_times',\n",
       "       'arr_flight_times', 'week_day/end', 'week_of_month'],\n",
       "      dtype='object')"
      ]
     },
     "execution_count": 13,
     "metadata": {},
     "output_type": "execute_result"
    }
   ],
   "source": [
    "flight_delays.columns"
   ]
  },
  {
   "cell_type": "code",
   "execution_count": 14,
   "metadata": {
    "colab": {},
    "colab_type": "code",
    "collapsed": true,
    "deletable": true,
    "editable": true,
    "id": "4eGqbSpeM_6O"
   },
   "outputs": [],
   "source": [
    "# Dropping columns which does not seem important from my knowledge, data cleaning:\n",
    "columns_drop=['index','DAY_OF_MONTH','DAY_OF_WEEK', 'FL_DATE','CRS_DEP_TIME',\n",
    "             'DEP_DELAY_NEW', 'DEP_DEL15','DEP_TIME_BLK', 'TAXI_OUT','TAXI_IN','CRS_ARR_TIME',\n",
    "             'ARR_TIME_BLK','ARR_DELAY_NEW', 'ARR_DEL15','CANCELLATION_CODE','DIVERTED',\n",
    "              'CARRIER_DELAY', 'WEATHER_DELAY', 'NAS_DELAY','SECURITY_DELAY', 'LATE_AIRCRAFT_DELAY',\n",
    "              'EMPFULL','EMPPART', 'EMPFTE']\n",
    "flight_delays=flight_delays.drop(columns_drop,axis=1)"
   ]
  },
  {
   "cell_type": "markdown",
   "metadata": {
    "colab_type": "text",
    "deletable": true,
    "editable": true,
    "id": "tRnMR6QtM7bN"
   },
   "source": [
    "# Generating 3 more variables Variable:\n",
    "\n",
    "Air Delay:\n",
    "---\n",
    "Generating a variable called \"Air Delay\", this variable is the difference between the the Actual Air time of the flight and expected air time of the flight. I created this feature to see if more extra air time taken by flight can be related to the route the flight is travelling on or to the arrival delay.\n",
    "\n",
    "Time Gate to Takeoff:\n",
    "---\n",
    "This variable gives us the information regarding the time it took for the aircraft for a certain flight to take off from the time it left the gate. This can give us better insights in looking for the relationship between the flight departure time and this variable and see how this can contribute to the Departure Delay as shown below that the departure delay has a strong correlation with Arrival Delay.\n",
    "\n",
    "Time Landing to Gate:\n",
    "---\n",
    "This variable gives us the information regarding the time it took for the aircraft for a certain flight to reach the gate from the time it landed at the airport. This can give us better insights in looking for the relationship between the flight arrival time and this variable and see how this can contribute to the Arrival Delay Delay."
   ]
  },
  {
   "cell_type": "code",
   "execution_count": 15,
   "metadata": {
    "colab": {},
    "colab_type": "code",
    "collapsed": true,
    "deletable": true,
    "editable": true,
    "id": "7i2lW9nSM_6T"
   },
   "outputs": [],
   "source": [
    "# Delay in Air Time:\n",
    "flight_delays[\"Air_Delay\"]=flight_delays[\"ACTUAL_ELAPSED_TIME\"]-flight_delays[\"CRS_ELAPSED_TIME\"]\n",
    "# Time from landing to gate:\n",
    "flight_delays[\"time_land_gate\"]=abs(flight_delays[\"ARR_TIME\"]-flight_delays[\"WHEELS_ON\"])\n",
    "# Time from gate to take off:\n",
    "flight_delays[\"time_gate_takeoff\"]=abs(flight_delays[\"WHEELS_OFF\"]-flight_delays[\"DEP_TIME\"])"
   ]
  },
  {
   "cell_type": "markdown",
   "metadata": {
    "colab_type": "text",
    "deletable": true,
    "editable": true,
    "id": "0EHQesbcM7bT"
   },
   "source": [
    "Checking the correlation of Arrival Delay with the variables defined to see if time taken by aircraft from gate to takeoff, landing to gate, Air delay, Distance and Departure Delay."
   ]
  },
  {
   "cell_type": "code",
   "execution_count": 16,
   "metadata": {
    "colab": {},
    "colab_type": "code",
    "collapsed": false,
    "deletable": true,
    "editable": true,
    "id": "SfIRxMlpM_6Y",
    "outputId": "3dd783d5-f60f-4aa3-f87b-9b8e6a80d07d"
   },
   "outputs": [
    {
     "data": {
      "text/html": [
       "<div>\n",
       "<style scoped>\n",
       "    .dataframe tbody tr th:only-of-type {\n",
       "        vertical-align: middle;\n",
       "    }\n",
       "\n",
       "    .dataframe tbody tr th {\n",
       "        vertical-align: top;\n",
       "    }\n",
       "\n",
       "    .dataframe thead th {\n",
       "        text-align: right;\n",
       "    }\n",
       "</style>\n",
       "<table border=\"1\" class=\"dataframe\">\n",
       "  <thead>\n",
       "    <tr style=\"text-align: right;\">\n",
       "      <th></th>\n",
       "      <th>DEP_DELAY</th>\n",
       "      <th>time_land_gate</th>\n",
       "      <th>time_gate_takeoff</th>\n",
       "      <th>Air_Delay</th>\n",
       "      <th>DISTANCE</th>\n",
       "      <th>ARR_DELAY</th>\n",
       "    </tr>\n",
       "  </thead>\n",
       "  <tbody>\n",
       "    <tr>\n",
       "      <th>DEP_DELAY</th>\n",
       "      <td>1.000000</td>\n",
       "      <td>0.028934</td>\n",
       "      <td>0.049009</td>\n",
       "      <td>0.026414</td>\n",
       "      <td>0.010743</td>\n",
       "      <td>0.959658</td>\n",
       "    </tr>\n",
       "    <tr>\n",
       "      <th>time_land_gate</th>\n",
       "      <td>0.028934</td>\n",
       "      <td>1.000000</td>\n",
       "      <td>0.000485</td>\n",
       "      <td>0.051376</td>\n",
       "      <td>0.023060</td>\n",
       "      <td>0.042003</td>\n",
       "    </tr>\n",
       "    <tr>\n",
       "      <th>time_gate_takeoff</th>\n",
       "      <td>0.049009</td>\n",
       "      <td>0.000485</td>\n",
       "      <td>1.000000</td>\n",
       "      <td>0.084189</td>\n",
       "      <td>0.053686</td>\n",
       "      <td>0.070348</td>\n",
       "    </tr>\n",
       "    <tr>\n",
       "      <th>Air_Delay</th>\n",
       "      <td>0.026414</td>\n",
       "      <td>0.051376</td>\n",
       "      <td>0.084189</td>\n",
       "      <td>1.000000</td>\n",
       "      <td>-0.089785</td>\n",
       "      <td>0.306313</td>\n",
       "    </tr>\n",
       "    <tr>\n",
       "      <th>DISTANCE</th>\n",
       "      <td>0.010743</td>\n",
       "      <td>0.023060</td>\n",
       "      <td>0.053686</td>\n",
       "      <td>-0.089785</td>\n",
       "      <td>1.000000</td>\n",
       "      <td>-0.015027</td>\n",
       "    </tr>\n",
       "    <tr>\n",
       "      <th>ARR_DELAY</th>\n",
       "      <td>0.959658</td>\n",
       "      <td>0.042003</td>\n",
       "      <td>0.070348</td>\n",
       "      <td>0.306313</td>\n",
       "      <td>-0.015027</td>\n",
       "      <td>1.000000</td>\n",
       "    </tr>\n",
       "  </tbody>\n",
       "</table>\n",
       "</div>"
      ],
      "text/plain": [
       "                   DEP_DELAY  time_land_gate  time_gate_takeoff  Air_Delay  \\\n",
       "DEP_DELAY           1.000000        0.028934           0.049009   0.026414   \n",
       "time_land_gate      0.028934        1.000000           0.000485   0.051376   \n",
       "time_gate_takeoff   0.049009        0.000485           1.000000   0.084189   \n",
       "Air_Delay           0.026414        0.051376           0.084189   1.000000   \n",
       "DISTANCE            0.010743        0.023060           0.053686  -0.089785   \n",
       "ARR_DELAY           0.959658        0.042003           0.070348   0.306313   \n",
       "\n",
       "                   DISTANCE  ARR_DELAY  \n",
       "DEP_DELAY          0.010743   0.959658  \n",
       "time_land_gate     0.023060   0.042003  \n",
       "time_gate_takeoff  0.053686   0.070348  \n",
       "Air_Delay         -0.089785   0.306313  \n",
       "DISTANCE           1.000000  -0.015027  \n",
       "ARR_DELAY         -0.015027   1.000000  "
      ]
     },
     "execution_count": 16,
     "metadata": {},
     "output_type": "execute_result"
    }
   ],
   "source": [
    "flight_delays[['DEP_DELAY','time_land_gate','time_gate_takeoff','Air_Delay','DISTANCE','ARR_DELAY']].corr(method='pearson')"
   ]
  },
  {
   "cell_type": "markdown",
   "metadata": {
    "colab": {},
    "colab_type": "code",
    "deletable": true,
    "editable": true,
    "id": "v2sVTZBfCkYQ"
   },
   "source": [
    "Departure Delay is strongly correlated with the Arrival Delay with the r=0.96. This seems like most of the variance in the Arrival Delay can be explained by Departure Delay if we regress Arrival Delay over Departure Delay. This point can serve as defining agent for our strategy in predicting Arrival Delays for 3rd Quarter of 2019.\n",
    "However, other variables does not show any strong correlation with any of the two Delays (Departure and Arrival)."
   ]
  },
  {
   "cell_type": "markdown",
   "metadata": {
    "colab_type": "text",
    "deletable": true,
    "editable": true,
    "id": "ZP1Jf4vyM7bd"
   },
   "source": [
    "Dropping some columns which are already been used for feature engineering and now we don't need them."
   ]
  },
  {
   "cell_type": "code",
   "execution_count": 17,
   "metadata": {
    "colab": {},
    "colab_type": "code",
    "collapsed": true,
    "deletable": true,
    "editable": true,
    "id": "BySgfE_FM_6c"
   },
   "outputs": [],
   "source": [
    "# Dropping Further columns which are already been used for feature engineering and now we don't need them.\n",
    "drop_columns=['DEP_TIME','ARR_TIME','CRS_ELAPSED_TIME','ACTUAL_ELAPSED_TIME','WHEELS_OFF','WHEELS_ON']\n",
    "flight_delays=flight_delays.drop(drop_columns,axis=1)"
   ]
  },
  {
   "cell_type": "code",
   "execution_count": 18,
   "metadata": {
    "colab": {},
    "colab_type": "code",
    "collapsed": false,
    "deletable": true,
    "editable": true,
    "id": "tkFPSiLQM_6i",
    "outputId": "72ce71b2-9577-49d8-9915-f977e0c8aa81"
   },
   "outputs": [
    {
     "data": {
      "text/plain": [
       "Index(['YEAR', 'QUARTER', 'MONTH', 'CARRIER', 'FL_NUM', 'Route', 'ORIGIN',\n",
       "       'DEST', 'DEST_CITY', 'DEST_STATE', 'DEP_DELAY', 'DEP_DELAY_GROUP',\n",
       "       'ARR_DELAY', 'ARR_DELAY_GROUP', 'CANCELED', 'AIR_TIME', 'DISTANCE',\n",
       "       'PASSENGERS', 'EMPTOTAL', 'NET_INCOME', 'OP_REVENUES',\n",
       "       'dep_flight_times', 'arr_flight_times', 'week_day/end', 'week_of_month',\n",
       "       'Air_Delay', 'time_land_gate', 'time_gate_takeoff'],\n",
       "      dtype='object')"
      ]
     },
     "execution_count": 18,
     "metadata": {},
     "output_type": "execute_result"
    }
   ],
   "source": [
    "flight_delays.columns"
   ]
  },
  {
   "cell_type": "code",
   "execution_count": 19,
   "metadata": {
    "colab": {},
    "colab_type": "code",
    "collapsed": true,
    "deletable": true,
    "editable": true,
    "id": "a_ocgEcUM_6p"
   },
   "outputs": [],
   "source": [
    "flight_delays.columns=[\"year\",\"quarter\",\"month\",\"carrier\",\"flight_num\",\"route\",\"origin\",\"dest\",\"d_city\",\"d_state\",\n",
    "                      'dep_delay','dep_delay_group','arr_delay','arr_delay_group','cancelled','air_time','distance',\n",
    "                      'num_passengers','num_employees','net_income','op_revenue','dep_flight_times', 'arr_flight_times', 'week_day/end',\n",
    "       'week_of_month', 'air_delay', 'time_land_gate', 'time_gate_takeoff']"
   ]
  },
  {
   "cell_type": "markdown",
   "metadata": {
    "colab_type": "text",
    "deletable": true,
    "editable": true,
    "id": "63jF-uh_M_6v"
   },
   "source": [
    "# Routes Data File:\n",
    "The second data file we have is the Routes Dataset, this dataset contains information regarding the 6684 unique routes where flights could fly. This dataset contains infor regarding Origin City, Origin State, Origin Airport, Destination Airport, Destination City and State."
   ]
  },
  {
   "cell_type": "code",
   "execution_count": 20,
   "metadata": {
    "colab": {},
    "colab_type": "code",
    "collapsed": false,
    "deletable": true,
    "editable": true,
    "id": "XrDEIfmXM_6x",
    "outputId": "24fbcace-526a-4b45-dc5b-0f150fb217e6"
   },
   "outputs": [
    {
     "data": {
      "text/html": [
       "<div>\n",
       "<style scoped>\n",
       "    .dataframe tbody tr th:only-of-type {\n",
       "        vertical-align: middle;\n",
       "    }\n",
       "\n",
       "    .dataframe tbody tr th {\n",
       "        vertical-align: top;\n",
       "    }\n",
       "\n",
       "    .dataframe thead th {\n",
       "        text-align: right;\n",
       "    }\n",
       "</style>\n",
       "<table border=\"1\" class=\"dataframe\">\n",
       "  <thead>\n",
       "    <tr style=\"text-align: right;\">\n",
       "      <th></th>\n",
       "      <th>route</th>\n",
       "      <th>origin</th>\n",
       "      <th>o_city</th>\n",
       "      <th>o_state</th>\n",
       "      <th>dest</th>\n",
       "      <th>d_city</th>\n",
       "      <th>d_state</th>\n",
       "      <th>distance</th>\n",
       "    </tr>\n",
       "  </thead>\n",
       "  <tbody>\n",
       "    <tr>\n",
       "      <th>0</th>\n",
       "      <td>1.0</td>\n",
       "      <td>ABE</td>\n",
       "      <td>Allentown/Bethlehem/Easton</td>\n",
       "      <td>PA</td>\n",
       "      <td>ATL</td>\n",
       "      <td>Atlanta</td>\n",
       "      <td>GA</td>\n",
       "      <td>692.0</td>\n",
       "    </tr>\n",
       "    <tr>\n",
       "      <th>1</th>\n",
       "      <td>2.0</td>\n",
       "      <td>ABE</td>\n",
       "      <td>Allentown/Bethlehem/Easton</td>\n",
       "      <td>PA</td>\n",
       "      <td>BNA</td>\n",
       "      <td>Nashville</td>\n",
       "      <td>TN</td>\n",
       "      <td>685.0</td>\n",
       "    </tr>\n",
       "    <tr>\n",
       "      <th>2</th>\n",
       "      <td>3.0</td>\n",
       "      <td>ABE</td>\n",
       "      <td>Allentown/Bethlehem/Easton</td>\n",
       "      <td>PA</td>\n",
       "      <td>CLT</td>\n",
       "      <td>Charlotte</td>\n",
       "      <td>NC</td>\n",
       "      <td>481.0</td>\n",
       "    </tr>\n",
       "    <tr>\n",
       "      <th>3</th>\n",
       "      <td>4.0</td>\n",
       "      <td>ABE</td>\n",
       "      <td>Allentown/Bethlehem/Easton</td>\n",
       "      <td>PA</td>\n",
       "      <td>DTW</td>\n",
       "      <td>Detroit</td>\n",
       "      <td>MI</td>\n",
       "      <td>425.0</td>\n",
       "    </tr>\n",
       "    <tr>\n",
       "      <th>4</th>\n",
       "      <td>5.0</td>\n",
       "      <td>ABE</td>\n",
       "      <td>Allentown/Bethlehem/Easton</td>\n",
       "      <td>PA</td>\n",
       "      <td>FLL</td>\n",
       "      <td>Fort Lauderdale</td>\n",
       "      <td>FL</td>\n",
       "      <td>1041.0</td>\n",
       "    </tr>\n",
       "  </tbody>\n",
       "</table>\n",
       "</div>"
      ],
      "text/plain": [
       "   route origin                      o_city o_state dest           d_city  \\\n",
       "0    1.0    ABE  Allentown/Bethlehem/Easton      PA  ATL          Atlanta   \n",
       "1    2.0    ABE  Allentown/Bethlehem/Easton      PA  BNA        Nashville   \n",
       "2    3.0    ABE  Allentown/Bethlehem/Easton      PA  CLT        Charlotte   \n",
       "3    4.0    ABE  Allentown/Bethlehem/Easton      PA  DTW          Detroit   \n",
       "4    5.0    ABE  Allentown/Bethlehem/Easton      PA  FLL  Fort Lauderdale   \n",
       "\n",
       "  d_state  distance  \n",
       "0      GA     692.0  \n",
       "1      TN     685.0  \n",
       "2      NC     481.0  \n",
       "3      MI     425.0  \n",
       "4      FL    1041.0  "
      ]
     },
     "execution_count": 20,
     "metadata": {},
     "output_type": "execute_result"
    }
   ],
   "source": [
    "routes=routes.loc[:,[\"Route\",\"ORIGIN\",\"Origin_City\",\"Origin_State\",\"DEST\",\"Dest_City\",\"Dest_State\",\"DISTANCE\"]]\n",
    "routes.columns=[\"route\",\"origin\",\"o_city\",\"o_state\",\"dest\",\"d_city\",\"d_state\",\"distance\"]\n",
    "routes=routes.astype({'route':'float64','distance':'float64'})\n",
    "routes.head()"
   ]
  },
  {
   "cell_type": "markdown",
   "metadata": {
    "colab_type": "text",
    "deletable": true,
    "editable": true,
    "id": "dOGLjBEFM_63"
   },
   "source": [
    "# Merging dataframes:\n",
    "Merging Routes and Flight Delay file into one dataframe to get info regarding \"origin state\" and \"origin city of a route."
   ]
  },
  {
   "cell_type": "code",
   "execution_count": 21,
   "metadata": {
    "colab": {},
    "colab_type": "code",
    "collapsed": true,
    "deletable": true,
    "editable": true,
    "id": "PUGp4pBbM_64"
   },
   "outputs": [],
   "source": [
    "flight_delays=flight_delays.merge(routes[['route','origin','dest','o_city','o_state']],on=['route','origin','dest'],how='inner')"
   ]
  },
  {
   "cell_type": "code",
   "execution_count": 22,
   "metadata": {
    "colab": {},
    "colab_type": "code",
    "collapsed": false,
    "deletable": true,
    "editable": true,
    "id": "5Jx8PUWEM_6-",
    "outputId": "143e6119-5dd6-4ede-ef48-7efab6ec6c39"
   },
   "outputs": [
    {
     "data": {
      "text/plain": [
       "Index(['year', 'quarter', 'month', 'carrier', 'flight_num', 'route', 'origin',\n",
       "       'dest', 'd_city', 'd_state', 'dep_delay', 'dep_delay_group',\n",
       "       'arr_delay', 'arr_delay_group', 'cancelled', 'air_time', 'distance',\n",
       "       'num_passengers', 'num_employees', 'net_income', 'op_revenue',\n",
       "       'dep_flight_times', 'arr_flight_times', 'week_day/end', 'week_of_month',\n",
       "       'air_delay', 'time_land_gate', 'time_gate_takeoff', 'o_city',\n",
       "       'o_state'],\n",
       "      dtype='object')"
      ]
     },
     "execution_count": 22,
     "metadata": {},
     "output_type": "execute_result"
    }
   ],
   "source": [
    "flight_delays.columns"
   ]
  },
  {
   "cell_type": "markdown",
   "metadata": {
    "colab_type": "text",
    "deletable": true,
    "editable": true,
    "id": "5B7qWXWSM7b8"
   },
   "source": [
    "# Preliminary Analysis:\n",
    "Before we start modeling, we need to perform some analysis to figure out the relationship of different variables with the \"Departure Delay\" and \"Arrival Delay\" as these two are the variables of interest to us."
   ]
  },
  {
   "cell_type": "markdown",
   "metadata": {
    "colab_type": "text",
    "deletable": true,
    "editable": true,
    "id": "9lHb3HxQM_7D"
   },
   "source": [
    "# Effect of Flight Month, Day and Time on the Arrival Delay:\n",
    "Let's find if the date, time and day of flight has any effect on the arrival delay. This can help us see if days of week, month or time of flight serve as the probable cause for the arrival delay."
   ]
  },
  {
   "cell_type": "markdown",
   "metadata": {
    "colab_type": "text",
    "deletable": true,
    "editable": true,
    "id": "UPcyBBgGM_7E"
   },
   "source": [
    "Delay w.r.t Day of the week:\n",
    "- Avg Delay on weekends\n",
    "- Avg Delay on Weekdays"
   ]
  },
  {
   "cell_type": "code",
   "execution_count": 23,
   "metadata": {
    "colab": {},
    "colab_type": "code",
    "collapsed": false,
    "deletable": true,
    "editable": true,
    "id": "5YGPp0aeM_7F",
    "outputId": "0ca80e86-d32a-428c-be9d-4ee9be2ace5e"
   },
   "outputs": [
    {
     "data": {
      "text/html": [
       "<div>\n",
       "<style scoped>\n",
       "    .dataframe tbody tr th:only-of-type {\n",
       "        vertical-align: middle;\n",
       "    }\n",
       "\n",
       "    .dataframe tbody tr th {\n",
       "        vertical-align: top;\n",
       "    }\n",
       "\n",
       "    .dataframe thead th {\n",
       "        text-align: right;\n",
       "    }\n",
       "</style>\n",
       "<table border=\"1\" class=\"dataframe\">\n",
       "  <thead>\n",
       "    <tr style=\"text-align: right;\">\n",
       "      <th></th>\n",
       "      <th>avg_delay</th>\n",
       "    </tr>\n",
       "    <tr>\n",
       "      <th>week_day/end</th>\n",
       "      <th></th>\n",
       "    </tr>\n",
       "  </thead>\n",
       "  <tbody>\n",
       "    <tr>\n",
       "      <th>weekday</th>\n",
       "      <td>5.450066</td>\n",
       "    </tr>\n",
       "    <tr>\n",
       "      <th>weekend</th>\n",
       "      <td>5.660200</td>\n",
       "    </tr>\n",
       "  </tbody>\n",
       "</table>\n",
       "</div>"
      ],
      "text/plain": [
       "              avg_delay\n",
       "week_day/end           \n",
       "weekday        5.450066\n",
       "weekend        5.660200"
      ]
     },
     "execution_count": 23,
     "metadata": {},
     "output_type": "execute_result"
    }
   ],
   "source": [
    "flight_delays.groupby(['week_day/end'])['arr_delay'].agg({'avg_delay':'mean'})"
   ]
  },
  {
   "cell_type": "markdown",
   "metadata": {
    "colab_type": "text",
    "deletable": true,
    "editable": true,
    "id": "WPejsn91M_7L"
   },
   "source": [
    "Seems like there is not much of a difference between Avg Delay on weekdays and weekends. One other way to double check this finding is to see the carrier wise distribution of Avg Delay on weekends and weekdays. Let's do that and see if there is a difference."
   ]
  },
  {
   "cell_type": "code",
   "execution_count": 25,
   "metadata": {
    "colab": {},
    "colab_type": "code",
    "collapsed": true,
    "deletable": true,
    "editable": true,
    "id": "yNwTVZ8JM_7M"
   },
   "outputs": [],
   "source": [
    "summary_1=flight_delays.groupby(['carrier','week_day/end'])['arr_delay'].agg({'avg_delay':'mean'}).reset_index().sort_values('avg_delay')"
   ]
  },
  {
   "cell_type": "code",
   "execution_count": 27,
   "metadata": {
    "colab": {},
    "colab_type": "code",
    "collapsed": false,
    "deletable": true,
    "editable": true,
    "id": "hPmpp-LsM_7R",
    "outputId": "a00f763b-d650-4256-e17b-6403f3ab0d95"
   },
   "outputs": [
    {
     "data": {
      "text/plain": [
       "Text(0.5, 0, 'Average Arrival Delay')"
      ]
     },
     "execution_count": 27,
     "metadata": {},
     "output_type": "execute_result"
    },
    {
     "data": {
      "image/png": "[encoded data removed]",
      "text/plain": [
       "<Figure size 720x504 with 1 Axes>"
      ]
     },
     "metadata": {
      "needs_background": "light"
     },
     "output_type": "display_data"
    }
   ],
   "source": [
    "plt.figure(figsize=(10,7))\n",
    "g=sns.barplot(x='avg_delay',y='carrier',hue='week_day/end',data=summary_1)\n",
    "plt.title('Carrier wise Average Arrival Delay for Weekend and Weekdays')\n",
    "g.set_ylabel('Carrier')\n",
    "g.set_xlabel('Average Arrival Delay')"
   ]
  },
  {
   "cell_type": "markdown",
   "metadata": {
    "colab_type": "text",
    "deletable": true,
    "editable": true,
    "id": "SIAcUIuaM_7W"
   },
   "source": [
    "So, its evident from the above summary that the most difference we have got for any carrier for Avg Arrival Delay between weekends and weekdays is of 2 minutes, which is pretty small. So, the departure of flight on weekend or weekdays does'nt seem to make any difference in the delay.\n",
    "however with the above chart we can deduce that for Airlines F9, B6, EV, YV the delays are significantly greater than the rest of the airlines.\n",
    "\n",
    "2. Now, let's look at the Week of Month Variable."
   ]
  },
  {
   "cell_type": "code",
   "execution_count": null,
   "metadata": {
    "colab": {},
    "colab_type": "code",
    "collapsed": false,
    "deletable": true,
    "editable": true,
    "id": "plFBU9dyM_7W",
    "outputId": "636f4fec-2e19-43ef-b423-a4741ca8e40a"
   },
   "outputs": [
    {
     "data": {
      "text/html": [
       "<div>\n",
       "<style>\n",
       "    .dataframe thead tr:only-child th {\n",
       "        text-align: right;\n",
       "    }\n",
       "\n",
       "    .dataframe thead th {\n",
       "        text-align: left;\n",
       "    }\n",
       "\n",
       "    .dataframe tbody tr th {\n",
       "        vertical-align: top;\n",
       "    }\n",
       "</style>\n",
       "<table border=\"1\" class=\"dataframe\">\n",
       "  <thead>\n",
       "    <tr style=\"text-align: right;\">\n",
       "      <th></th>\n",
       "      <th>avg_delay</th>\n",
       "    </tr>\n",
       "    <tr>\n",
       "      <th>week_of_month</th>\n",
       "      <th></th>\n",
       "    </tr>\n",
       "  </thead>\n",
       "  <tbody>\n",
       "    <tr>\n",
       "      <th>first_week</th>\n",
       "      <td>4.962301</td>\n",
       "    </tr>\n",
       "    <tr>\n",
       "      <th>last_week</th>\n",
       "      <td>4.509309</td>\n",
       "    </tr>\n",
       "    <tr>\n",
       "      <th>second_week</th>\n",
       "      <td>5.924157</td>\n",
       "    </tr>\n",
       "    <tr>\n",
       "      <th>third_week</th>\n",
       "      <td>7.243407</td>\n",
       "    </tr>\n",
       "  </tbody>\n",
       "</table>\n",
       "</div>"
      ],
      "text/plain": [
       "               avg_delay\n",
       "week_of_month           \n",
       "first_week      4.962301\n",
       "last_week       4.509309\n",
       "second_week     5.924157\n",
       "third_week      7.243407"
      ]
     },
     "execution_count": 55,
     "metadata": {
      "tags": []
     },
     "output_type": "execute_result"
    }
   ],
   "source": [
    "flight_delays.groupby(['week_of_month'])['arr_delay'].agg({'avg_delay':'mean'})"
   ]
  },
  {
   "cell_type": "markdown",
   "metadata": {
    "colab_type": "text",
    "deletable": true,
    "editable": true,
    "id": "ywwiQ3yYM_7a"
   },
   "source": [
    "Seems like the flights in the 2nd or 3rd week of a month are more likely to be delayed, i checked this with Carrier wise group operation and got the same result. So, it seems like this variable is important in terms of deciding the arrival delay.\n",
    "\n",
    "3. Let's look at the month variable and see the Scheduling of a flight in different months has any effect on average delay."
   ]
  },
  {
   "cell_type": "code",
   "execution_count": null,
   "metadata": {
    "colab": {},
    "colab_type": "code",
    "collapsed": false,
    "deletable": true,
    "editable": true,
    "id": "roat5bqPM_7s",
    "outputId": "d12e8fe2-38b8-448c-b572-c36a36ccce85"
   },
   "outputs": [
    {
     "data": {
      "text/html": [
       "<div>\n",
       "<style scoped>\n",
       "    .dataframe tbody tr th:only-of-type {\n",
       "        vertical-align: middle;\n",
       "    }\n",
       "\n",
       "    .dataframe tbody tr th {\n",
       "        vertical-align: top;\n",
       "    }\n",
       "\n",
       "    .dataframe thead tr th {\n",
       "        text-align: left;\n",
       "    }\n",
       "\n",
       "    .dataframe thead tr:last-of-type th {\n",
       "        text-align: right;\n",
       "    }\n",
       "</style>\n",
       "<table border=\"1\" class=\"dataframe\">\n",
       "  <thead>\n",
       "    <tr>\n",
       "      <th></th>\n",
       "      <th colspan=\"2\" halign=\"left\">arr_delay</th>\n",
       "      <th>time_gate_takeoff</th>\n",
       "    </tr>\n",
       "    <tr>\n",
       "      <th></th>\n",
       "      <th>mean</th>\n",
       "      <th>count</th>\n",
       "      <th>mean</th>\n",
       "    </tr>\n",
       "    <tr>\n",
       "      <th>dep_flight_times</th>\n",
       "      <th></th>\n",
       "      <th></th>\n",
       "      <th></th>\n",
       "    </tr>\n",
       "  </thead>\n",
       "  <tbody>\n",
       "    <tr>\n",
       "      <th>Evening Time</th>\n",
       "      <td>10.220984</td>\n",
       "      <td>3184752</td>\n",
       "      <td>30.262797</td>\n",
       "    </tr>\n",
       "    <tr>\n",
       "      <th>Late/Odd Time</th>\n",
       "      <td>-1.627143</td>\n",
       "      <td>1796889</td>\n",
       "      <td>32.282101</td>\n",
       "    </tr>\n",
       "    <tr>\n",
       "      <th>Morning Time</th>\n",
       "      <td>2.904672</td>\n",
       "      <td>3926381</td>\n",
       "      <td>30.306036</td>\n",
       "    </tr>\n",
       "    <tr>\n",
       "      <th>Night Time</th>\n",
       "      <td>10.439240</td>\n",
       "      <td>1770247</td>\n",
       "      <td>61.513094</td>\n",
       "    </tr>\n",
       "  </tbody>\n",
       "</table>\n",
       "</div>"
      ],
      "text/plain": [
       "                  arr_delay          time_gate_takeoff\n",
       "                       mean    count              mean\n",
       "dep_flight_times                                      \n",
       "Evening Time      10.220984  3184752         30.262797\n",
       "Late/Odd Time     -1.627143  1796889         32.282101\n",
       "Morning Time       2.904672  3926381         30.306036\n",
       "Night Time        10.439240  1770247         61.513094"
      ]
     },
     "execution_count": 64,
     "metadata": {
      "tags": []
     },
     "output_type": "execute_result"
    }
   ],
   "source": [
    "flight_delays.groupby(['dep_flight_times'])[['arr_delay','time_gate_takeoff']].agg({'arr_delay':['mean','count'],\n",
    "                                                                                'time_gate_takeoff':'mean'})"
   ]
  },
  {
   "cell_type": "code",
   "execution_count": null,
   "metadata": {
    "colab": {},
    "colab_type": "code",
    "collapsed": false,
    "deletable": true,
    "editable": true,
    "id": "s_-khiPUM_71",
    "outputId": "ae009de9-116e-4048-849f-c2dd0326a355"
   },
   "outputs": [
    {
     "data": {
      "text/html": [
       "<div>\n",
       "<style scoped>\n",
       "    .dataframe tbody tr th:only-of-type {\n",
       "        vertical-align: middle;\n",
       "    }\n",
       "\n",
       "    .dataframe tbody tr th {\n",
       "        vertical-align: top;\n",
       "    }\n",
       "\n",
       "    .dataframe thead tr th {\n",
       "        text-align: left;\n",
       "    }\n",
       "\n",
       "    .dataframe thead tr:last-of-type th {\n",
       "        text-align: right;\n",
       "    }\n",
       "</style>\n",
       "<table border=\"1\" class=\"dataframe\">\n",
       "  <thead>\n",
       "    <tr>\n",
       "      <th></th>\n",
       "      <th colspan=\"2\" halign=\"left\">arr_delay</th>\n",
       "      <th>time_land_gate</th>\n",
       "    </tr>\n",
       "    <tr>\n",
       "      <th></th>\n",
       "      <th>mean</th>\n",
       "      <th>count</th>\n",
       "      <th>mean</th>\n",
       "    </tr>\n",
       "    <tr>\n",
       "      <th>arr_flight_times</th>\n",
       "      <th></th>\n",
       "      <th></th>\n",
       "      <th></th>\n",
       "    </tr>\n",
       "  </thead>\n",
       "  <tbody>\n",
       "    <tr>\n",
       "      <th>Evening Time</th>\n",
       "      <td>7.125022</td>\n",
       "      <td>3215551</td>\n",
       "      <td>12.748497</td>\n",
       "    </tr>\n",
       "    <tr>\n",
       "      <th>Late/Odd Time</th>\n",
       "      <td>1.588151</td>\n",
       "      <td>850990</td>\n",
       "      <td>47.961876</td>\n",
       "    </tr>\n",
       "    <tr>\n",
       "      <th>Morning Time</th>\n",
       "      <td>0.500307</td>\n",
       "      <td>3697623</td>\n",
       "      <td>12.857209</td>\n",
       "    </tr>\n",
       "    <tr>\n",
       "      <th>Night Time</th>\n",
       "      <td>11.461518</td>\n",
       "      <td>2914105</td>\n",
       "      <td>31.407213</td>\n",
       "    </tr>\n",
       "  </tbody>\n",
       "</table>\n",
       "</div>"
      ],
      "text/plain": [
       "                  arr_delay          time_land_gate\n",
       "                       mean    count           mean\n",
       "arr_flight_times                                   \n",
       "Evening Time       7.125022  3215551      12.748497\n",
       "Late/Odd Time      1.588151   850990      47.961876\n",
       "Morning Time       0.500307  3697623      12.857209\n",
       "Night Time        11.461518  2914105      31.407213"
      ]
     },
     "execution_count": 63,
     "metadata": {
      "tags": []
     },
     "output_type": "execute_result"
    }
   ],
   "source": [
    "flight_delays.groupby(['arr_flight_times'])[['arr_delay','time_land_gate']].agg({'arr_delay':['mean','count'],\n",
    "                                                                                'time_land_gate':'mean'})"
   ]
  },
  {
   "cell_type": "code",
   "execution_count": null,
   "metadata": {
    "colab": {},
    "colab_type": "code",
    "collapsed": false,
    "deletable": true,
    "editable": true,
    "id": "9xjT5ulXM_8B",
    "outputId": "212dd18c-d2e4-423d-f256-2dedc296b81e"
   },
   "outputs": [
    {
     "data": {
      "text/plain": [
       "Index(['year', 'quarter', 'month', 'carrier', 'route', 'origin', 'dest',\n",
       "       'd_city', 'd_state', 'dep_delay', 'dep_delay_group', 'arr_delay',\n",
       "       'arr_delay_group', 'cancelled', 'distance', 'num_passengers',\n",
       "       'net_income', 'op_revenue', 'dep_flight_times', 'arr_flight_times',\n",
       "       'week_day/end', 'week_of_month', 'air_delay', 'time_land_gate',\n",
       "       'time_gate_takeoff', 'o_city', 'o_state'],\n",
       "      dtype='object')"
      ]
     },
     "execution_count": 27,
     "metadata": {
      "tags": []
     },
     "output_type": "execute_result"
    }
   ],
   "source": [
    "flight_delays.columns"
   ]
  },
  {
   "cell_type": "markdown",
   "metadata": {
    "colab_type": "text",
    "deletable": true,
    "editable": true,
    "id": "-Lj2F9iOM_8F"
   },
   "source": [
    "It is quite evident from above analysis that the flights arriving and departing at evening time or night time; which are from 2 PM to 11 PM at night, are delayed the most. As, we saw that most of the flights leave either in the morning or the evening time, which means that most arrivals would be happening around morning, evening and night time. Which is the case where arrival delay is highest around night and evening time. During the evening time, arrivals and departure are both high, and maybe due to this traffic the flights are delayed. Now, you might question that why isn't there a delay during morning timewhile we have the most flights arriving at morning time (I still need to figure that out and will discover it then. "
   ]
  },
  {
   "cell_type": "markdown",
   "metadata": {
    "colab_type": "text",
    "deletable": true,
    "editable": true,
    "id": "hv0Zi4_GM_8G"
   },
   "source": [
    "# Checking Arrival and Departure Delay distribution among Destination and Origin States:\n",
    "To do that we are going to check whether there are difference in Average delay (Both Departure and Arrival) w.r.t origin and destination states."
   ]
  },
  {
   "cell_type": "code",
   "execution_count": 30,
   "metadata": {
    "colab": {},
    "colab_type": "code",
    "collapsed": false,
    "deletable": true,
    "editable": true,
    "id": "TKtvEh4zM_8G",
    "outputId": "6c82d067-13df-407e-88e5-297111ca0cfc"
   },
   "outputs": [
    {
     "data": {
      "text/plain": [
       "Text(0, 0.5, 'Average Departure Delay')"
      ]
     },
     "execution_count": 30,
     "metadata": {},
     "output_type": "execute_result"
    },
    {
     "data": {
      "image/png": "[encoded data removed]",
      "text/plain": [
       "<Figure size 1080x360 with 1 Axes>"
      ]
     },
     "metadata": {
      "needs_background": "light"
     },
     "output_type": "display_data"
    }
   ],
   "source": [
    "# Dest state:\n",
    "summary_1=flight_delays.groupby(['o_state'])['dep_delay'].agg({'avg_dep_delay':'mean'}).reset_index()\n",
    "plt.figure(figsize=(15,5))\n",
    "g=sns.barplot(x='o_state',y='avg_dep_delay',data=summary_1)\n",
    "# labels=chart.get_xticklabels()\n",
    "plt.xticks(rotation=45, horizontalalignment='right')\n",
    "plt.title('Average Departure Delay for Flights Originating from these States')\n",
    "g.set_xlabel('Origin State')\n",
    "g.set_ylabel('Average Departure Delay')"
   ]
  },
  {
   "cell_type": "code",
   "execution_count": 31,
   "metadata": {
    "colab": {},
    "colab_type": "code",
    "collapsed": false,
    "deletable": true,
    "editable": true,
    "id": "gevv08urM_8L",
    "outputId": "f7835c48-f780-4128-cfbf-53123bd8f21c"
   },
   "outputs": [
    {
     "data": {
      "text/plain": [
       "Text(0, 0.5, 'Average Arrival Delay')"
      ]
     },
     "execution_count": 31,
     "metadata": {},
     "output_type": "execute_result"
    },
    {
     "data": {
      "image/png": "[encoded data removed]",
      "text/plain": [
       "<Figure size 1080x360 with 1 Axes>"
      ]
     },
     "metadata": {
      "needs_background": "light"
     },
     "output_type": "display_data"
    }
   ],
   "source": [
    "# Destination State:\n",
    "summary_2=flight_delays.groupby(['d_state'])['arr_delay'].agg({'avg_arr_delay':'mean'}).reset_index()\n",
    "plt.figure(figsize=(15,5))\n",
    "g=sns.barplot(x='d_state',y='avg_arr_delay',data=summary_2)\n",
    "plt.xticks(rotation=45, horizontalalignment='right')\n",
    "plt.title('Average Arrival Delay for Flights Originating from these States')\n",
    "g.set_xlabel('Origin State')\n",
    "g.set_ylabel('Average Arrival Delay')"
   ]
  },
  {
   "cell_type": "markdown",
   "metadata": {
    "colab_type": "text",
    "deletable": true,
    "editable": true,
    "id": "97XJr3cYM7co"
   },
   "source": [
    "Looking at Departure and Arrival Delay together:\n",
    "---"
   ]
  },
  {
   "cell_type": "code",
   "execution_count": 37,
   "metadata": {
    "colab": {},
    "colab_type": "code",
    "collapsed": false,
    "deletable": true,
    "editable": true,
    "id": "lj0HDpqyM_8N",
    "outputId": "5b288ab3-453e-4232-a579-4ff9cde51f0b"
   },
   "outputs": [
    {
     "data": {
      "image/png": "[encoded data removed]",
      "text/plain": [
       "<Figure size 1080x360 with 1 Axes>"
      ]
     },
     "metadata": {
      "needs_background": "light"
     },
     "output_type": "display_data"
    }
   ],
   "source": [
    "summary_states=summary_1.merge(summary_2,left_on=['o_state'],right_on=['d_state'],how='inner').drop('d_state',axis=1)\n",
    "summary_states=pd.melt(summary_states,id_vars=['o_state'],value_vars=['avg_dep_delay','avg_arr_delay'],var_name='Delay_Type',value_name='Avg_Delay')\n",
    "summary_states.columns=['State','Delay_Type','Avg_Delay']\n",
    "plt.figure(figsize=(15,5))\n",
    "g=sns.barplot(x='State',y='Avg_Delay',hue='Delay_Type',data=summary_states)\n",
    "plt.xticks(rotation=60)\n",
    "g.set_xlabel('State')\n",
    "g.set_ylabel('Average Delay')\n",
    "leg = g.axes.get_legend()\n",
    "new_labels = ['Average Departure Delay', 'Average Arrival Delay']\n",
    "for t, l in zip(leg.texts, new_labels): t.set_text(l)"
   ]
  },
  {
   "cell_type": "code",
   "execution_count": null,
   "metadata": {
    "colab": {},
    "colab_type": "code",
    "collapsed": false,
    "deletable": true,
    "editable": true,
    "id": "mekagzSJM_8R",
    "outputId": "acd71a6c-c1f3-48d2-848b-bb1ab3482146"
   },
   "outputs": [
    {
     "data": {
      "text/html": [
       "<div>\n",
       "<style scoped>\n",
       "    .dataframe tbody tr th:only-of-type {\n",
       "        vertical-align: middle;\n",
       "    }\n",
       "\n",
       "    .dataframe tbody tr th {\n",
       "        vertical-align: top;\n",
       "    }\n",
       "\n",
       "    .dataframe thead th {\n",
       "        text-align: right;\n",
       "    }\n",
       "</style>\n",
       "<table border=\"1\" class=\"dataframe\">\n",
       "  <thead>\n",
       "    <tr style=\"text-align: right;\">\n",
       "      <th></th>\n",
       "      <th>avg_dep_delay</th>\n",
       "      <th>avg_arr_delay</th>\n",
       "    </tr>\n",
       "  </thead>\n",
       "  <tbody>\n",
       "    <tr>\n",
       "      <th>avg_dep_delay</th>\n",
       "      <td>1.000000</td>\n",
       "      <td>0.812196</td>\n",
       "    </tr>\n",
       "    <tr>\n",
       "      <th>avg_arr_delay</th>\n",
       "      <td>0.812196</td>\n",
       "      <td>1.000000</td>\n",
       "    </tr>\n",
       "  </tbody>\n",
       "</table>\n",
       "</div>"
      ],
      "text/plain": [
       "               avg_dep_delay  avg_arr_delay\n",
       "avg_dep_delay       1.000000       0.812196\n",
       "avg_arr_delay       0.812196       1.000000"
      ]
     },
     "execution_count": 114,
     "metadata": {
      "tags": []
     },
     "output_type": "execute_result"
    }
   ],
   "source": [
    "summary_1.merge(summary_2,left_on=['o_state'],right_on=['d_state'],how='inner').drop('d_state',axis=1).corr(method='pearson')"
   ]
  },
  {
   "cell_type": "markdown",
   "metadata": {
    "colab_type": "text",
    "deletable": true,
    "editable": true,
    "id": "GKh35Db_M_8U"
   },
   "source": [
    "For MD, OR, UT, MT, HI and GA has high departure delay and the corresponding Arrival Delay is less. Otherwise for every other state there is a strong positive correlation between Departure Delay and arrival Delay. This can be caused due to numerous factors,:\n",
    "1. Weather\n",
    "2. Busyness of the corrsponding Airport in the state\n",
    "3. State Size and Its Popularity in terms of Business and Tourism, this is related to the Busyness of the airports in the state\n",
    "E.g. the states like Virginia, New Jersey, Illinois, Massacheussets and Texas all are big states in terms of business capital etc, so they have high avg delays for both arrival and departure. Whereas, states like Arkansas, Idaho etc have small delays relatively. So, the state of variable for both destination and origin of any route is important for prediction."
   ]
  },
  {
   "cell_type": "markdown",
   "metadata": {
    "colab_type": "text",
    "deletable": true,
    "editable": true,
    "id": "zRoy95WLM_8Y"
   },
   "source": [
    "Departure and Arrival Delays w.r.t Carriers:\n",
    "---"
   ]
  },
  {
   "cell_type": "code",
   "execution_count": 39,
   "metadata": {
    "collapsed": true,
    "deletable": true,
    "editable": true
   },
   "outputs": [],
   "source": [
    "q3=flight_delays[['arr_delay','dep_delay']].quantile(0.75,axis=0)\n",
    "q1=flight_delays[['arr_delay','dep_delay']].quantile(0.25,axis=0)\n",
    "up_range=q3+1.5*(q3-q1)\n",
    "low_range=q1-1.5*(q3-q1)"
   ]
  },
  {
   "cell_type": "code",
   "execution_count": 45,
   "metadata": {
    "collapsed": true,
    "deletable": true,
    "editable": true
   },
   "outputs": [],
   "source": []
  },
  {
   "cell_type": "code",
   "execution_count": 49,
   "metadata": {
    "colab": {},
    "colab_type": "code",
    "collapsed": false,
    "deletable": true,
    "editable": true,
    "id": "7VTq-I3NM7cx",
    "outputId": "43152cd2-947c-4deb-de17-505add405eea"
   },
   "outputs": [
    {
     "data": {
      "text/plain": [
       "Text(0, 0.5, 'Arrival Delay')"
      ]
     },
     "execution_count": 49,
     "metadata": {},
     "output_type": "execute_result"
    },
    {
     "data": {
      "image/png": "[encoded data removed]",
      "text/plain": [
       "<Figure size 1008x792 with 2 Axes>"
      ]
     },
     "metadata": {
      "needs_background": "light"
     },
     "output_type": "display_data"
    }
   ],
   "source": [
    "%matplotlib inline\n",
    "q3=flight_delays[['arr_delay','dep_delay']].quantile(0.75,axis=0)\n",
    "q1=flight_delays[['arr_delay','dep_delay']].quantile(0.25,axis=0)\n",
    "up_range=q3+1.5*(q3-q1)\n",
    "low_range=q1-1.5*(q3-q1)\n",
    "\n",
    "datu_summary_dep=flight_delays.loc[(flight_delays['dep_delay']<up_range[1]) & (flight_delays['dep_delay']>low_range[1]),:]\n",
    "datu_summary_arr=flight_delays.loc[(flight_delays['arr_delay']<up_range[0]) & (flight_delays['arr_delay']>low_range[0]),:]\n",
    "\n",
    "plt.figure(figsize=(14,11))\n",
    "plt.subplot(2,1,1)\n",
    "g1=sns.boxplot(x='carrier',y='dep_delay',data=datu_summary_dep)\n",
    "g1.set_title('Departure Delay w.r.t Carriers')\n",
    "g1.set_xlabel('Carrier')\n",
    "g1.set_ylabel('Departure Delay')\n",
    "\n",
    "plt.subplot(2,1,2)\n",
    "g2=sns.boxplot(x='carrier',y='arr_delay',data=datu_summary_arr)\n",
    "g2.set_title('Arrival Delay w.r.t Carriers')\n",
    "g2.set_xlabel('Carrier')\n",
    "g2.set_ylabel('Arrival Delay')\n"
   ]
  },
  {
   "cell_type": "markdown",
   "metadata": {
    "colab_type": "text",
    "deletable": true,
    "editable": true,
    "id": "VmmXOe5qM7c1"
   },
   "source": [
    "Let's look at the average delays:\n",
    "---"
   ]
  },
  {
   "cell_type": "code",
   "execution_count": 52,
   "metadata": {
    "colab": {},
    "colab_type": "code",
    "collapsed": false,
    "deletable": true,
    "editable": true,
    "id": "SxmhwN7sM_8Y",
    "outputId": "5f969958-f9e9-46bb-a12f-681f54b46f07"
   },
   "outputs": [
    {
     "data": {
      "image/png": "[encoded data removed]",
      "text/plain": [
       "<Figure size 576x288 with 1 Axes>"
      ]
     },
     "metadata": {
      "needs_background": "light"
     },
     "output_type": "display_data"
    }
   ],
   "source": [
    "summary=flight_delays.groupby(['carrier'])['arr_delay','dep_delay'].agg(\"mean\").reset_index().sort_values('arr_delay',ascending=False)\n",
    "summary=pd.melt(summary,id_vars=['carrier'],value_vars=['arr_delay','dep_delay'],var_name='delay_type',value_name='avg_delay')\n",
    "plt.figure(figsize=(8,4))\n",
    "g=sns.barplot(x='carrier',y='avg_delay', hue='delay_type',data=summary)\n",
    "g.set_title('Average Delay w.r.t Carriers')\n",
    "g.set_xlabel('Carrier')\n",
    "g.set_ylabel('Average Delay')\n",
    "leg = g.axes.get_legend()\n",
    "leg.set_title('Delay Type')\n",
    "\n",
    "new_labels = ['Average Arrival Delay', 'Average Departure Delay']\n",
    "for t, l in zip(leg.texts, new_labels): t.set_text(l)"
   ]
  },
  {
   "cell_type": "markdown",
   "metadata": {
    "colab_type": "text",
    "deletable": true,
    "editable": true,
    "id": "Dgqv-9-uM_8c"
   },
   "source": [
    "Above summary provides information regarding the average departure and arrival delays w.r.t the Carrier. We can clearly see the about 70% of the carriers are those where arrival and departure delay have a positive correlation as they have large values for both type of delays.\n",
    "Whereas a surprising thing is that for the carrier of DL, AS, NK, WN the departure delay is pretty large whereas the arrival delay is minute in comparison to the departure delay. Let's dig a bit deepr into this."
   ]
  },
  {
   "cell_type": "markdown",
   "metadata": {
    "colab_type": "text",
    "deletable": true,
    "editable": true,
    "id": "elKZ88DnM_8c"
   },
   "source": [
    "I would start the analysis by looking at the origin and destination for these flights that is the most frequent for these 4 carriers."
   ]
  },
  {
   "cell_type": "code",
   "execution_count": 54,
   "metadata": {
    "colab": {},
    "colab_type": "code",
    "collapsed": false,
    "deletable": true,
    "editable": true,
    "id": "1AC2SzTsM_8d",
    "outputId": "30cf99ba-6691-444e-b3fc-3a40ce332f1d"
   },
   "outputs": [
    {
     "data": {
      "text/html": [
       "<div>\n",
       "<style scoped>\n",
       "    .dataframe tbody tr th:only-of-type {\n",
       "        vertical-align: middle;\n",
       "    }\n",
       "\n",
       "    .dataframe tbody tr th {\n",
       "        vertical-align: top;\n",
       "    }\n",
       "\n",
       "    .dataframe thead th {\n",
       "        text-align: right;\n",
       "    }\n",
       "</style>\n",
       "<table border=\"1\" class=\"dataframe\">\n",
       "  <thead>\n",
       "    <tr style=\"text-align: right;\">\n",
       "      <th></th>\n",
       "      <th></th>\n",
       "      <th>flights_from_origin</th>\n",
       "    </tr>\n",
       "    <tr>\n",
       "      <th>carrier</th>\n",
       "      <th>o_state</th>\n",
       "      <th></th>\n",
       "    </tr>\n",
       "  </thead>\n",
       "  <tbody>\n",
       "    <tr>\n",
       "      <th>WN</th>\n",
       "      <th>CA</th>\n",
       "      <td>363749</td>\n",
       "    </tr>\n",
       "    <tr>\n",
       "      <th>NK</th>\n",
       "      <th>FL</th>\n",
       "      <td>65150</td>\n",
       "    </tr>\n",
       "    <tr>\n",
       "      <th>DL</th>\n",
       "      <th>GA</th>\n",
       "      <td>380541</td>\n",
       "    </tr>\n",
       "    <tr>\n",
       "      <th>AS</th>\n",
       "      <th>CA</th>\n",
       "      <td>101825</td>\n",
       "    </tr>\n",
       "  </tbody>\n",
       "</table>\n",
       "</div>"
      ],
      "text/plain": [
       "                 flights_from_origin\n",
       "carrier o_state                     \n",
       "WN      CA                    363749\n",
       "NK      FL                     65150\n",
       "DL      GA                    380541\n",
       "AS      CA                    101825"
      ]
     },
     "execution_count": 54,
     "metadata": {},
     "output_type": "execute_result"
    }
   ],
   "source": [
    "carriers=['DL','AS','NK','WN']\n",
    "summary=flight_delays.loc[flight_delays['carrier'].isin(carriers),:].groupby(['carrier','o_state'])['o_state'].agg({'flights_from_origin':'count'}).reset_index()\n",
    "\n",
    "states=summary.sort_values(['carrier','flights_from_origin'],ascending=False).groupby(['carrier']).head(1).set_index(['carrier','o_state']).reset_index()['o_state']\n",
    "summary.sort_values(['carrier','flights_from_origin'],ascending=False).groupby(['carrier']).head(1).set_index(['carrier','o_state'])\n"
   ]
  },
  {
   "cell_type": "code",
   "execution_count": null,
   "metadata": {
    "colab": {},
    "colab_type": "code",
    "collapsed": false,
    "deletable": true,
    "editable": true,
    "id": "LDDFZBFlM_8i",
    "outputId": "f54a21a6-1e2b-412a-a025-fe6935b4bf79"
   },
   "outputs": [
    {
     "name": "stderr",
     "output_type": "stream",
     "text": [
      "C:\\Users\\Muhammad Hussain\\Anaconda3\\lib\\site-packages\\ipykernel_launcher.py:1: FutureWarning: using a dict on a Series for aggregation\n",
      "is deprecated and will be removed in a future version\n",
      "  \"\"\"Entry point for launching an IPython kernel.\n"
     ]
    },
    {
     "data": {
      "text/html": [
       "<div>\n",
       "<style scoped>\n",
       "    .dataframe tbody tr th:only-of-type {\n",
       "        vertical-align: middle;\n",
       "    }\n",
       "\n",
       "    .dataframe tbody tr th {\n",
       "        vertical-align: top;\n",
       "    }\n",
       "\n",
       "    .dataframe thead th {\n",
       "        text-align: right;\n",
       "    }\n",
       "</style>\n",
       "<table border=\"1\" class=\"dataframe\">\n",
       "  <thead>\n",
       "    <tr style=\"text-align: right;\">\n",
       "      <th></th>\n",
       "      <th></th>\n",
       "      <th>flights_to_dest</th>\n",
       "    </tr>\n",
       "    <tr>\n",
       "      <th>carrier</th>\n",
       "      <th>d_state</th>\n",
       "      <th></th>\n",
       "    </tr>\n",
       "  </thead>\n",
       "  <tbody>\n",
       "    <tr>\n",
       "      <th>WN</th>\n",
       "      <th>CA</th>\n",
       "      <td>371904</td>\n",
       "    </tr>\n",
       "    <tr>\n",
       "      <th>NK</th>\n",
       "      <th>FL</th>\n",
       "      <td>65764</td>\n",
       "    </tr>\n",
       "    <tr>\n",
       "      <th>DL</th>\n",
       "      <th>GA</th>\n",
       "      <td>382100</td>\n",
       "    </tr>\n",
       "    <tr>\n",
       "      <th>AS</th>\n",
       "      <th>CA</th>\n",
       "      <td>103371</td>\n",
       "    </tr>\n",
       "  </tbody>\n",
       "</table>\n",
       "</div>"
      ],
      "text/plain": [
       "                 flights_to_dest\n",
       "carrier d_state                 \n",
       "WN      CA                371904\n",
       "NK      FL                 65764\n",
       "DL      GA                382100\n",
       "AS      CA                103371"
      ]
     },
     "execution_count": 175,
     "metadata": {
      "tags": []
     },
     "output_type": "execute_result"
    }
   ],
   "source": [
    "summary=flight_delays.loc[flight_delays['carrier'].isin(carriers),:].groupby(['carrier','d_state'])['d_state'].agg({'flights_to_dest':'count'}).reset_index()\n",
    "\n",
    "summary.sort_values(['carrier','flights_to_dest'],ascending=False).groupby(['carrier']).head(1).set_index(['carrier','d_state'])"
   ]
  },
  {
   "cell_type": "markdown",
   "metadata": {
    "colab_type": "text",
    "deletable": true,
    "editable": true,
    "id": "tk3LzJRvM_8l"
   },
   "source": [
    "To compare the above results, let's see how the average departure and arrival delay are distributed for these states in the above analysis."
   ]
  },
  {
   "cell_type": "code",
   "execution_count": 73,
   "metadata": {
    "colab": {},
    "colab_type": "code",
    "collapsed": false,
    "deletable": true,
    "editable": true,
    "id": "MNbgIdouM_8l",
    "outputId": "23caf6b2-9ead-49de-8878-eb2e6e29d666"
   },
   "outputs": [
    {
     "data": {
      "image/png": "[encoded data removed]",
      "text/plain": [
       "<Figure size 504x360 with 1 Axes>"
      ]
     },
     "metadata": {
      "needs_background": "light"
     },
     "output_type": "display_data"
    }
   ],
   "source": [
    "x1=flight_delays.groupby('d_state')['arr_delay'].agg({'avg_arr_delay':'mean'}).reset_index()\n",
    "x2=flight_delays.groupby('o_state')['dep_delay'].agg({'avg_dep_delay':'mean'}).reset_index()\n",
    "x1.columns=['State','avg_arr_delay']\n",
    "x2.columns=['State','avg_dep_delay']\n",
    "\n",
    "summary_states=x1.merge(x2,on='State')\n",
    "summary_states.loc[summary_states['State'].isin(states),:]\n",
    "data=summary_states.loc[summary_states['State'].isin(states),:]\n",
    "data=pd.melt(data,id_vars=['State'],value_vars=['avg_arr_delay','avg_dep_delay'],value_name='Avg_Delay',var_name='Delay_Type')\n",
    "\n",
    "plt.figure(figsize=(7,5))\n",
    "g= sns.barplot(x='State',y='Avg_Delay',hue='Delay_Type',data=data)\n",
    "\n",
    "g.set_xlabel('State')\n",
    "g.set_ylabel('Average Delay')\n",
    "plt.legend(loc='upper left')\n",
    "leg = g.axes.get_legend()\n",
    "leg.set_title('Delay Type')\n",
    "\n",
    "new_labels = ['Average Arrival Delay', 'Average Departure Delay']\n",
    "for t, l in zip(leg.texts, new_labels): t.set_text(l)"
   ]
  },
  {
   "cell_type": "markdown",
   "metadata": {
    "colab_type": "text",
    "deletable": true,
    "editable": true,
    "id": "dzs5Kr9pM_8o"
   },
   "source": [
    "Thus, it seems like the Carriers DL, AS, NK, WN who has the highest difference in Departure and Arrival Delay has the most flights operated from these 3 states outlined above above (CA, FL, GA). When i tried looking at the average departure and arrival delay w.r.t these 3 states i found the same behavior, which is the abnormally high difference between the arrival and departure delay.\n",
    "\n",
    "So, it seems to me that origin and destination state is an important variable in modeling the delays. But as we have about 6684 unique routes which are based on travel between airports in different states, so instead of using two categorical features of Origin and Destination States, we can use just the Routes Feature as this would also contain the effect of State Variables because Routes are decided on Airports, Origin and Destination States.  "
   ]
  },
  {
   "cell_type": "markdown",
   "metadata": {
    "colab_type": "text",
    "deletable": true,
    "editable": true,
    "id": "lmLjGALQM_8p"
   },
   "source": [
    "Looking to see if size of Carrier (Num Passengers it carries on average), its Financial Stature (Revenue and Income) has something to do with delays:\n",
    "---"
   ]
  },
  {
   "cell_type": "code",
   "execution_count": null,
   "metadata": {
    "colab": {},
    "colab_type": "code",
    "collapsed": false,
    "deletable": true,
    "editable": true,
    "id": "uEC3AxGvM_8p",
    "outputId": "811295ed-5db6-41b6-a195-07990702d71f"
   },
   "outputs": [
    {
     "data": {
      "text/plain": [
       "num_passengers   -0.612895\n",
       "num_employees    -0.272064\n",
       "net_income       -0.400670\n",
       "op_revenue       -0.395028\n",
       "arr_delay         1.000000\n",
       "Name: arr_delay, dtype: float64"
      ]
     },
     "execution_count": 66,
     "metadata": {
      "tags": []
     },
     "output_type": "execute_result"
    }
   ],
   "source": [
    "summary=flight_delays.groupby(['carrier'])['num_passengers','num_employees','net_income','op_revenue','arr_delay'].agg('mean').reset_index().corr()\n",
    "summary.iloc[4,:]"
   ]
  },
  {
   "cell_type": "code",
   "execution_count": null,
   "metadata": {
    "colab": {},
    "colab_type": "code",
    "collapsed": false,
    "deletable": true,
    "editable": true,
    "id": "cow3ApX3M_8u",
    "outputId": "bee610ce-6dfe-42fd-a2a3-265abb11e4c5"
   },
   "outputs": [
    {
     "data": {
      "text/html": [
       "<div>\n",
       "<style scoped>\n",
       "    .dataframe tbody tr th:only-of-type {\n",
       "        vertical-align: middle;\n",
       "    }\n",
       "\n",
       "    .dataframe tbody tr th {\n",
       "        vertical-align: top;\n",
       "    }\n",
       "\n",
       "    .dataframe thead th {\n",
       "        text-align: right;\n",
       "    }\n",
       "</style>\n",
       "<table border=\"1\" class=\"dataframe\">\n",
       "  <thead>\n",
       "    <tr style=\"text-align: right;\">\n",
       "      <th></th>\n",
       "      <th></th>\n",
       "      <th>num_passengers</th>\n",
       "      <th>num_employees</th>\n",
       "      <th>net_income</th>\n",
       "      <th>op_revenue</th>\n",
       "      <th>arr_delay</th>\n",
       "    </tr>\n",
       "    <tr>\n",
       "      <th>carrier</th>\n",
       "      <th>year</th>\n",
       "      <th></th>\n",
       "      <th></th>\n",
       "      <th></th>\n",
       "      <th></th>\n",
       "      <th></th>\n",
       "    </tr>\n",
       "  </thead>\n",
       "  <tbody>\n",
       "    <tr>\n",
       "      <th rowspan=\"2\" valign=\"top\">9E</th>\n",
       "      <th>2018.0</th>\n",
       "      <td>4014.628576</td>\n",
       "      <td>4520.689444</td>\n",
       "      <td>-58.257424</td>\n",
       "      <td>6.777076e+02</td>\n",
       "      <td>4.658430</td>\n",
       "    </tr>\n",
       "    <tr>\n",
       "      <th>2019.0</th>\n",
       "      <td>4446.090125</td>\n",
       "      <td>4561.015037</td>\n",
       "      <td>-175.036233</td>\n",
       "      <td>2.173688e+03</td>\n",
       "      <td>5.408237</td>\n",
       "    </tr>\n",
       "    <tr>\n",
       "      <th rowspan=\"2\" valign=\"top\">AA</th>\n",
       "      <th>2018.0</th>\n",
       "      <td>23268.530942</td>\n",
       "      <td>108235.374425</td>\n",
       "      <td>327957.960236</td>\n",
       "      <td>4.718503e+06</td>\n",
       "      <td>5.450770</td>\n",
       "    </tr>\n",
       "    <tr>\n",
       "      <th>2019.0</th>\n",
       "      <td>23569.687294</td>\n",
       "      <td>107378.773560</td>\n",
       "      <td>354389.320074</td>\n",
       "      <td>4.988195e+06</td>\n",
       "      <td>9.003290</td>\n",
       "    </tr>\n",
       "    <tr>\n",
       "      <th rowspan=\"2\" valign=\"top\">AS</th>\n",
       "      <th>2018.0</th>\n",
       "      <td>19124.103051</td>\n",
       "      <td>17596.949769</td>\n",
       "      <td>138440.971365</td>\n",
       "      <td>2.003187e+06</td>\n",
       "      <td>-0.501335</td>\n",
       "    </tr>\n",
       "    <tr>\n",
       "      <th>2019.0</th>\n",
       "      <td>18147.475503</td>\n",
       "      <td>17601.004359</td>\n",
       "      <td>141553.665680</td>\n",
       "      <td>2.005744e+06</td>\n",
       "      <td>1.541319</td>\n",
       "    </tr>\n",
       "    <tr>\n",
       "      <th rowspan=\"2\" valign=\"top\">B6</th>\n",
       "      <th>2018.0</th>\n",
       "      <td>12591.604522</td>\n",
       "      <td>20893.851006</td>\n",
       "      <td>65282.142451</td>\n",
       "      <td>7.139808e+05</td>\n",
       "      <td>11.432516</td>\n",
       "    </tr>\n",
       "    <tr>\n",
       "      <th>2019.0</th>\n",
       "      <td>12888.982779</td>\n",
       "      <td>21504.969356</td>\n",
       "      <td>96236.577219</td>\n",
       "      <td>1.563347e+06</td>\n",
       "      <td>11.396351</td>\n",
       "    </tr>\n",
       "    <tr>\n",
       "      <th rowspan=\"2\" valign=\"top\">DL</th>\n",
       "      <th>2018.0</th>\n",
       "      <td>24322.768032</td>\n",
       "      <td>88644.887274</td>\n",
       "      <td>541721.357289</td>\n",
       "      <td>7.924858e+06</td>\n",
       "      <td>-0.307333</td>\n",
       "    </tr>\n",
       "    <tr>\n",
       "      <th>2019.0</th>\n",
       "      <td>25267.591904</td>\n",
       "      <td>90025.979850</td>\n",
       "      <td>658685.108938</td>\n",
       "      <td>8.370675e+06</td>\n",
       "      <td>1.262195</td>\n",
       "    </tr>\n",
       "    <tr>\n",
       "      <th rowspan=\"2\" valign=\"top\">EV</th>\n",
       "      <th>2018.0</th>\n",
       "      <td>3071.421371</td>\n",
       "      <td>3636.244552</td>\n",
       "      <td>29.480316</td>\n",
       "      <td>5.351630e+03</td>\n",
       "      <td>8.800700</td>\n",
       "    </tr>\n",
       "    <tr>\n",
       "      <th>2019.0</th>\n",
       "      <td>2588.231749</td>\n",
       "      <td>2751.968501</td>\n",
       "      <td>15596.919509</td>\n",
       "      <td>1.474623e+04</td>\n",
       "      <td>16.429955</td>\n",
       "    </tr>\n",
       "    <tr>\n",
       "      <th rowspan=\"2\" valign=\"top\">F9</th>\n",
       "      <th>2018.0</th>\n",
       "      <td>4787.696628</td>\n",
       "      <td>4002.878641</td>\n",
       "      <td>31221.312926</td>\n",
       "      <td>3.836345e+05</td>\n",
       "      <td>14.213311</td>\n",
       "    </tr>\n",
       "    <tr>\n",
       "      <th>2019.0</th>\n",
       "      <td>4767.037528</td>\n",
       "      <td>4511.667175</td>\n",
       "      <td>44682.808807</td>\n",
       "      <td>5.500876e+05</td>\n",
       "      <td>10.146858</td>\n",
       "    </tr>\n",
       "    <tr>\n",
       "      <th rowspan=\"2\" valign=\"top\">G4</th>\n",
       "      <th>2018.0</th>\n",
       "      <td>2332.761579</td>\n",
       "      <td>4046.258456</td>\n",
       "      <td>47756.809420</td>\n",
       "      <td>3.994046e+05</td>\n",
       "      <td>10.001162</td>\n",
       "    </tr>\n",
       "    <tr>\n",
       "      <th>2019.0</th>\n",
       "      <td>2695.614093</td>\n",
       "      <td>4092.779381</td>\n",
       "      <td>84830.930220</td>\n",
       "      <td>4.500050e+05</td>\n",
       "      <td>7.920306</td>\n",
       "    </tr>\n",
       "    <tr>\n",
       "      <th rowspan=\"2\" valign=\"top\">HA</th>\n",
       "      <th>2018.0</th>\n",
       "      <td>44779.563901</td>\n",
       "      <td>7088.610041</td>\n",
       "      <td>63717.743151</td>\n",
       "      <td>4.321023e+05</td>\n",
       "      <td>0.746902</td>\n",
       "    </tr>\n",
       "    <tr>\n",
       "      <th>2019.0</th>\n",
       "      <td>42580.207083</td>\n",
       "      <td>7299.055450</td>\n",
       "      <td>54088.491336</td>\n",
       "      <td>5.054917e+05</td>\n",
       "      <td>0.966587</td>\n",
       "    </tr>\n",
       "    <tr>\n",
       "      <th rowspan=\"2\" valign=\"top\">MQ</th>\n",
       "      <th>2018.0</th>\n",
       "      <td>4134.905133</td>\n",
       "      <td>14922.715648</td>\n",
       "      <td>-217.504423</td>\n",
       "      <td>6.968720e+03</td>\n",
       "      <td>5.357280</td>\n",
       "    </tr>\n",
       "    <tr>\n",
       "      <th>2019.0</th>\n",
       "      <td>4064.395926</td>\n",
       "      <td>16015.797087</td>\n",
       "      <td>8804.336225</td>\n",
       "      <td>3.323960e+05</td>\n",
       "      <td>8.631919</td>\n",
       "    </tr>\n",
       "    <tr>\n",
       "      <th rowspan=\"2\" valign=\"top\">NK</th>\n",
       "      <th>2018.0</th>\n",
       "      <td>7942.497268</td>\n",
       "      <td>7352.599150</td>\n",
       "      <td>44798.170744</td>\n",
       "      <td>6.111351e+05</td>\n",
       "      <td>5.171453</td>\n",
       "    </tr>\n",
       "    <tr>\n",
       "      <th>2019.0</th>\n",
       "      <td>8240.706784</td>\n",
       "      <td>7946.680428</td>\n",
       "      <td>76707.295618</td>\n",
       "      <td>8.263095e+05</td>\n",
       "      <td>5.754062</td>\n",
       "    </tr>\n",
       "    <tr>\n",
       "      <th rowspan=\"2\" valign=\"top\">OH</th>\n",
       "      <th>2018.0</th>\n",
       "      <td>5710.626015</td>\n",
       "      <td>3825.787065</td>\n",
       "      <td>53.293171</td>\n",
       "      <td>2.609144e+02</td>\n",
       "      <td>8.237351</td>\n",
       "    </tr>\n",
       "    <tr>\n",
       "      <th>2019.0</th>\n",
       "      <td>5768.549150</td>\n",
       "      <td>4184.286278</td>\n",
       "      <td>6603.370675</td>\n",
       "      <td>2.035202e+05</td>\n",
       "      <td>6.492045</td>\n",
       "    </tr>\n",
       "    <tr>\n",
       "      <th rowspan=\"2\" valign=\"top\">OO</th>\n",
       "      <th>2018.0</th>\n",
       "      <td>4433.147532</td>\n",
       "      <td>15302.317059</td>\n",
       "      <td>58343.980937</td>\n",
       "      <td>6.583074e+05</td>\n",
       "      <td>7.044141</td>\n",
       "    </tr>\n",
       "    <tr>\n",
       "      <th>2019.0</th>\n",
       "      <td>4328.479720</td>\n",
       "      <td>16861.896086</td>\n",
       "      <td>45311.588740</td>\n",
       "      <td>7.094545e+05</td>\n",
       "      <td>9.291782</td>\n",
       "    </tr>\n",
       "    <tr>\n",
       "      <th rowspan=\"2\" valign=\"top\">UA</th>\n",
       "      <th>2018.0</th>\n",
       "      <td>22094.017791</td>\n",
       "      <td>88515.025190</td>\n",
       "      <td>395115.867214</td>\n",
       "      <td>6.432481e+06</td>\n",
       "      <td>5.819221</td>\n",
       "    </tr>\n",
       "    <tr>\n",
       "      <th>2019.0</th>\n",
       "      <td>21816.467005</td>\n",
       "      <td>89867.086617</td>\n",
       "      <td>437066.015713</td>\n",
       "      <td>6.513840e+06</td>\n",
       "      <td>9.735209</td>\n",
       "    </tr>\n",
       "    <tr>\n",
       "      <th rowspan=\"2\" valign=\"top\">WN</th>\n",
       "      <th>2018.0</th>\n",
       "      <td>15863.823455</td>\n",
       "      <td>59014.798397</td>\n",
       "      <td>602991.782284</td>\n",
       "      <td>5.358671e+06</td>\n",
       "      <td>4.500014</td>\n",
       "    </tr>\n",
       "    <tr>\n",
       "      <th>2019.0</th>\n",
       "      <td>15680.966647</td>\n",
       "      <td>60613.224931</td>\n",
       "      <td>551553.649608</td>\n",
       "      <td>5.373360e+06</td>\n",
       "      <td>4.130126</td>\n",
       "    </tr>\n",
       "    <tr>\n",
       "      <th rowspan=\"2\" valign=\"top\">YV</th>\n",
       "      <th>2018.0</th>\n",
       "      <td>5305.821742</td>\n",
       "      <td>3322.281006</td>\n",
       "      <td>13289.417558</td>\n",
       "      <td>9.433044e+04</td>\n",
       "      <td>8.853066</td>\n",
       "    </tr>\n",
       "    <tr>\n",
       "      <th>2019.0</th>\n",
       "      <td>4944.696822</td>\n",
       "      <td>3519.403598</td>\n",
       "      <td>10497.316005</td>\n",
       "      <td>1.650387e+05</td>\n",
       "      <td>11.311218</td>\n",
       "    </tr>\n",
       "    <tr>\n",
       "      <th rowspan=\"2\" valign=\"top\">YX</th>\n",
       "      <th>2018.0</th>\n",
       "      <td>5661.142299</td>\n",
       "      <td>5854.201808</td>\n",
       "      <td>13445.859329</td>\n",
       "      <td>2.374045e+05</td>\n",
       "      <td>3.076687</td>\n",
       "    </tr>\n",
       "    <tr>\n",
       "      <th>2019.0</th>\n",
       "      <td>5037.572113</td>\n",
       "      <td>6113.238880</td>\n",
       "      <td>18417.326848</td>\n",
       "      <td>3.212593e+05</td>\n",
       "      <td>6.040039</td>\n",
       "    </tr>\n",
       "  </tbody>\n",
       "</table>\n",
       "</div>"
      ],
      "text/plain": [
       "                num_passengers  num_employees     net_income    op_revenue  \\\n",
       "carrier year                                                                 \n",
       "9E      2018.0     4014.628576    4520.689444     -58.257424  6.777076e+02   \n",
       "        2019.0     4446.090125    4561.015037    -175.036233  2.173688e+03   \n",
       "AA      2018.0    23268.530942  108235.374425  327957.960236  4.718503e+06   \n",
       "        2019.0    23569.687294  107378.773560  354389.320074  4.988195e+06   \n",
       "AS      2018.0    19124.103051   17596.949769  138440.971365  2.003187e+06   \n",
       "        2019.0    18147.475503   17601.004359  141553.665680  2.005744e+06   \n",
       "B6      2018.0    12591.604522   20893.851006   65282.142451  7.139808e+05   \n",
       "        2019.0    12888.982779   21504.969356   96236.577219  1.563347e+06   \n",
       "DL      2018.0    24322.768032   88644.887274  541721.357289  7.924858e+06   \n",
       "        2019.0    25267.591904   90025.979850  658685.108938  8.370675e+06   \n",
       "EV      2018.0     3071.421371    3636.244552      29.480316  5.351630e+03   \n",
       "        2019.0     2588.231749    2751.968501   15596.919509  1.474623e+04   \n",
       "F9      2018.0     4787.696628    4002.878641   31221.312926  3.836345e+05   \n",
       "        2019.0     4767.037528    4511.667175   44682.808807  5.500876e+05   \n",
       "G4      2018.0     2332.761579    4046.258456   47756.809420  3.994046e+05   \n",
       "        2019.0     2695.614093    4092.779381   84830.930220  4.500050e+05   \n",
       "HA      2018.0    44779.563901    7088.610041   63717.743151  4.321023e+05   \n",
       "        2019.0    42580.207083    7299.055450   54088.491336  5.054917e+05   \n",
       "MQ      2018.0     4134.905133   14922.715648    -217.504423  6.968720e+03   \n",
       "        2019.0     4064.395926   16015.797087    8804.336225  3.323960e+05   \n",
       "NK      2018.0     7942.497268    7352.599150   44798.170744  6.111351e+05   \n",
       "        2019.0     8240.706784    7946.680428   76707.295618  8.263095e+05   \n",
       "OH      2018.0     5710.626015    3825.787065      53.293171  2.609144e+02   \n",
       "        2019.0     5768.549150    4184.286278    6603.370675  2.035202e+05   \n",
       "OO      2018.0     4433.147532   15302.317059   58343.980937  6.583074e+05   \n",
       "        2019.0     4328.479720   16861.896086   45311.588740  7.094545e+05   \n",
       "UA      2018.0    22094.017791   88515.025190  395115.867214  6.432481e+06   \n",
       "        2019.0    21816.467005   89867.086617  437066.015713  6.513840e+06   \n",
       "WN      2018.0    15863.823455   59014.798397  602991.782284  5.358671e+06   \n",
       "        2019.0    15680.966647   60613.224931  551553.649608  5.373360e+06   \n",
       "YV      2018.0     5305.821742    3322.281006   13289.417558  9.433044e+04   \n",
       "        2019.0     4944.696822    3519.403598   10497.316005  1.650387e+05   \n",
       "YX      2018.0     5661.142299    5854.201808   13445.859329  2.374045e+05   \n",
       "        2019.0     5037.572113    6113.238880   18417.326848  3.212593e+05   \n",
       "\n",
       "                arr_delay  \n",
       "carrier year               \n",
       "9E      2018.0   4.658430  \n",
       "        2019.0   5.408237  \n",
       "AA      2018.0   5.450770  \n",
       "        2019.0   9.003290  \n",
       "AS      2018.0  -0.501335  \n",
       "        2019.0   1.541319  \n",
       "B6      2018.0  11.432516  \n",
       "        2019.0  11.396351  \n",
       "DL      2018.0  -0.307333  \n",
       "        2019.0   1.262195  \n",
       "EV      2018.0   8.800700  \n",
       "        2019.0  16.429955  \n",
       "F9      2018.0  14.213311  \n",
       "        2019.0  10.146858  \n",
       "G4      2018.0  10.001162  \n",
       "        2019.0   7.920306  \n",
       "HA      2018.0   0.746902  \n",
       "        2019.0   0.966587  \n",
       "MQ      2018.0   5.357280  \n",
       "        2019.0   8.631919  \n",
       "NK      2018.0   5.171453  \n",
       "        2019.0   5.754062  \n",
       "OH      2018.0   8.237351  \n",
       "        2019.0   6.492045  \n",
       "OO      2018.0   7.044141  \n",
       "        2019.0   9.291782  \n",
       "UA      2018.0   5.819221  \n",
       "        2019.0   9.735209  \n",
       "WN      2018.0   4.500014  \n",
       "        2019.0   4.130126  \n",
       "YV      2018.0   8.853066  \n",
       "        2019.0  11.311218  \n",
       "YX      2018.0   3.076687  \n",
       "        2019.0   6.040039  "
      ]
     },
     "execution_count": 53,
     "metadata": {
      "tags": []
     },
     "output_type": "execute_result"
    }
   ],
   "source": [
    "flight_delays.groupby(['carrier','year'])['num_passengers','num_employees','net_income','op_revenue','arr_delay'].agg('mean')"
   ]
  },
  {
   "cell_type": "markdown",
   "metadata": {
    "colab_type": "text",
    "deletable": true,
    "editable": true,
    "id": "cUby2FgFM_8x"
   },
   "source": [
    "The result above shows the correlation of the 4 variables of \"number of passengers\",\"number of employees\", \"net income of the carrier\",\"operating revenue of the carrier\" with the Average Arrival Delay w.r.t the carrier.\n",
    "Onething that i could decipher from the above result is that The Bigger the airline Carrier both w.r.t size (Number of Passengers and Employees) and financial perspective, have lesser delay, means that bigger airlines have better service and have less delay in their flights.\n",
    "A Caveat:\n",
    "---\n",
    "So, all these variables explained above that explains the size of an airline are correlated to each other, and are giving the same information about the Arrival Delay, so i would just use one variable in the final prediction model to avoid the hazard of \"Collinearity between variables\".\n",
    "And i would use \"Number of Passengers\" in the final prediction model as it has a very strong negative correlation with the arrival delay."
   ]
  },
  {
   "cell_type": "markdown",
   "metadata": {
    "colab_type": "text",
    "deletable": true,
    "editable": true,
    "id": "jr8mIATaM_8z"
   },
   "source": [
    "# Important Variables for the Prediction Task:\n",
    "We have found some of the important variables that could be used in predicting the average flight delays. So, these variables are:\n",
    "-  1. Departure Delay 2. Year 3. Quarter 4. Month 5. *Carrier* 6. *Route/Flight_Number* 7. Flight Departure Time (Categorical Variable) 8. Number of Passenegrs 9. Flight Arrival Time (Categorical Variable) 10. Week of Month 11. Origin State 12. Destination State 13. Number of Passengers\n",
    "- Starred Variables are the grouping variables, because prediction would be made w.r.t to these variables.\n",
    "\n",
    "Now, there are a few caveats. We found these variables to be important for average arrival delay, but here the prediction is to be made w.r.t each Flight and Carrier. So, we cannot just use some of the above explained variables in there crude form, we have to transform them and create another dataset from the original Flight Delays dataset, so that we can feed it to the model and generate predictions for our task.\n",
    "- Thus, strategy here id to first predict the average delays w.r.t each flight number and then grouping all the predicted arrival delays w.r.t each flight with the carrier those flights fall in, and calculating the average flight delays w.r.t each carrier.\n",
    "\n",
    "Let me re-iterate the task here:\n",
    "The task is to design a model that would predict the average arrival delay w.r.t Airline and Flight/Route for the 3rd Quarter of 2019.\n",
    "So, i have written a few lines on how to transform each of these important variables below.\n",
    "Variables Transformation:\n",
    "---\n",
    "- Departure Delay: As shown that the departure delay is a very important predictor with strong correlation with the Arrival Delay. I explained this fact above through visualizations that there are differences in Departure Delay w.r.t each Carrier and state. Thus, we can use this for our prediction model. Now the Question arises, how can we use it. I would use \"Avg Departure Delay for States\" and \"Carrriers\". \"Also, Avg Departure delay for each route.\" (3 Variables)\n",
    "- Arrival Delay: As we did for the Departure Delay, same would be done for Arrival Delay, and 3 variables for Route, Carrier and State would be created.\n",
    "- Flight Departure Time: I would create a variable using this Flight Departure Time such that, one would be w.r.t each Flight Num: For each flight number what is time it departs the most at.\n",
    "- Number of Passengers: It's been shown above that larger the size of passengers associated with a carrier or in other words (bigger the carrier) the better service it provides with smaller arrival delay, so this variable would be used.\n",
    "- Flight Arrival Time: I would create a variable using this Flight Arrival Time such that, one would be w.r.t each Flight Num: For each flight number what is time it Arrives the most at.\n",
    "- Week of Month: Week of month is a deciding factor as well, as we saw earlier that flights in second and third week are delayed the most.\n",
    "- Destination and Origin State: Destination and Origin States have an important role in deciding the delay as we looked certain states like CA and GA has abnormally high number for average delays. But if we just consider the route variable, i think these two variables can be taken into account with just the route variable, as route takes into account the origin and destination state.\n",
    "- Number of Passengers: Number of Passenegrs of the carrier in each year"
   ]
  },
  {
   "cell_type": "code",
   "execution_count": null,
   "metadata": {
    "colab": {},
    "colab_type": "code",
    "collapsed": false,
    "deletable": true,
    "editable": true,
    "id": "9wKP8UYhM_80",
    "outputId": "68f2790a-d2da-4380-ca62-ccaf568b2c6c"
   },
   "outputs": [
    {
     "data": {
      "text/html": [
       "<div>\n",
       "<style scoped>\n",
       "    .dataframe tbody tr th:only-of-type {\n",
       "        vertical-align: middle;\n",
       "    }\n",
       "\n",
       "    .dataframe tbody tr th {\n",
       "        vertical-align: top;\n",
       "    }\n",
       "\n",
       "    .dataframe thead th {\n",
       "        text-align: right;\n",
       "    }\n",
       "</style>\n",
       "<table border=\"1\" class=\"dataframe\">\n",
       "  <thead>\n",
       "    <tr style=\"text-align: right;\">\n",
       "      <th></th>\n",
       "      <th>year</th>\n",
       "      <th>quarter</th>\n",
       "      <th>month</th>\n",
       "      <th>carrier</th>\n",
       "      <th>flight_num</th>\n",
       "      <th>route</th>\n",
       "      <th>origin</th>\n",
       "      <th>dest</th>\n",
       "      <th>d_city</th>\n",
       "      <th>d_state</th>\n",
       "      <th>...</th>\n",
       "      <th>op_revenue</th>\n",
       "      <th>dep_flight_times</th>\n",
       "      <th>arr_flight_times</th>\n",
       "      <th>week_day/end</th>\n",
       "      <th>week_of_month</th>\n",
       "      <th>air_delay</th>\n",
       "      <th>time_land_gate</th>\n",
       "      <th>time_gate_takeoff</th>\n",
       "      <th>o_city</th>\n",
       "      <th>o_state</th>\n",
       "    </tr>\n",
       "  </thead>\n",
       "  <tbody>\n",
       "    <tr>\n",
       "      <th>0</th>\n",
       "      <td>2018.0</td>\n",
       "      <td>1.0</td>\n",
       "      <td>1.0</td>\n",
       "      <td>9E</td>\n",
       "      <td>3331.0</td>\n",
       "      <td>42.0</td>\n",
       "      <td>ABY</td>\n",
       "      <td>ATL</td>\n",
       "      <td>Atlanta, GA</td>\n",
       "      <td>GA</td>\n",
       "      <td>...</td>\n",
       "      <td>674.25</td>\n",
       "      <td>Late/Odd Time</td>\n",
       "      <td>Morning Time</td>\n",
       "      <td>weekend</td>\n",
       "      <td>first_week</td>\n",
       "      <td>-8.0</td>\n",
       "      <td>6.0</td>\n",
       "      <td>51.0</td>\n",
       "      <td>Albany</td>\n",
       "      <td>GA</td>\n",
       "    </tr>\n",
       "    <tr>\n",
       "      <th>1</th>\n",
       "      <td>2018.0</td>\n",
       "      <td>1.0</td>\n",
       "      <td>1.0</td>\n",
       "      <td>9E</td>\n",
       "      <td>3940.0</td>\n",
       "      <td>42.0</td>\n",
       "      <td>ABY</td>\n",
       "      <td>ATL</td>\n",
       "      <td>Atlanta, GA</td>\n",
       "      <td>GA</td>\n",
       "      <td>...</td>\n",
       "      <td>674.25</td>\n",
       "      <td>Evening Time</td>\n",
       "      <td>Evening Time</td>\n",
       "      <td>weekend</td>\n",
       "      <td>first_week</td>\n",
       "      <td>-11.0</td>\n",
       "      <td>46.0</td>\n",
       "      <td>11.0</td>\n",
       "      <td>Albany</td>\n",
       "      <td>GA</td>\n",
       "    </tr>\n",
       "    <tr>\n",
       "      <th>2</th>\n",
       "      <td>2018.0</td>\n",
       "      <td>1.0</td>\n",
       "      <td>1.0</td>\n",
       "      <td>9E</td>\n",
       "      <td>3409.0</td>\n",
       "      <td>42.0</td>\n",
       "      <td>ABY</td>\n",
       "      <td>ATL</td>\n",
       "      <td>Atlanta, GA</td>\n",
       "      <td>GA</td>\n",
       "      <td>...</td>\n",
       "      <td>674.25</td>\n",
       "      <td>Late/Odd Time</td>\n",
       "      <td>Late/Odd Time</td>\n",
       "      <td>weekend</td>\n",
       "      <td>first_week</td>\n",
       "      <td>-1.0</td>\n",
       "      <td>9.0</td>\n",
       "      <td>13.0</td>\n",
       "      <td>Albany</td>\n",
       "      <td>GA</td>\n",
       "    </tr>\n",
       "    <tr>\n",
       "      <th>3</th>\n",
       "      <td>2018.0</td>\n",
       "      <td>1.0</td>\n",
       "      <td>1.0</td>\n",
       "      <td>9E</td>\n",
       "      <td>3940.0</td>\n",
       "      <td>42.0</td>\n",
       "      <td>ABY</td>\n",
       "      <td>ATL</td>\n",
       "      <td>Atlanta, GA</td>\n",
       "      <td>GA</td>\n",
       "      <td>...</td>\n",
       "      <td>674.25</td>\n",
       "      <td>Evening Time</td>\n",
       "      <td>Evening Time</td>\n",
       "      <td>weekend</td>\n",
       "      <td>first_week</td>\n",
       "      <td>-14.0</td>\n",
       "      <td>6.0</td>\n",
       "      <td>11.0</td>\n",
       "      <td>Albany</td>\n",
       "      <td>GA</td>\n",
       "    </tr>\n",
       "    <tr>\n",
       "      <th>4</th>\n",
       "      <td>2018.0</td>\n",
       "      <td>1.0</td>\n",
       "      <td>1.0</td>\n",
       "      <td>9E</td>\n",
       "      <td>3353.0</td>\n",
       "      <td>42.0</td>\n",
       "      <td>ABY</td>\n",
       "      <td>ATL</td>\n",
       "      <td>Atlanta, GA</td>\n",
       "      <td>GA</td>\n",
       "      <td>...</td>\n",
       "      <td>674.25</td>\n",
       "      <td>Late/Odd Time</td>\n",
       "      <td>Late/Odd Time</td>\n",
       "      <td>weekend</td>\n",
       "      <td>first_week</td>\n",
       "      <td>-4.0</td>\n",
       "      <td>11.0</td>\n",
       "      <td>11.0</td>\n",
       "      <td>Albany</td>\n",
       "      <td>GA</td>\n",
       "    </tr>\n",
       "  </tbody>\n",
       "</table>\n",
       "<p>5 rows × 30 columns</p>\n",
       "</div>"
      ],
      "text/plain": [
       "     year  quarter  month carrier  flight_num  route origin dest       d_city  \\\n",
       "0  2018.0      1.0    1.0      9E      3331.0   42.0    ABY  ATL  Atlanta, GA   \n",
       "1  2018.0      1.0    1.0      9E      3940.0   42.0    ABY  ATL  Atlanta, GA   \n",
       "2  2018.0      1.0    1.0      9E      3409.0   42.0    ABY  ATL  Atlanta, GA   \n",
       "3  2018.0      1.0    1.0      9E      3940.0   42.0    ABY  ATL  Atlanta, GA   \n",
       "4  2018.0      1.0    1.0      9E      3353.0   42.0    ABY  ATL  Atlanta, GA   \n",
       "\n",
       "  d_state  ...  op_revenue  dep_flight_times  arr_flight_times  week_day/end  \\\n",
       "0      GA  ...      674.25     Late/Odd Time      Morning Time       weekend   \n",
       "1      GA  ...      674.25      Evening Time      Evening Time       weekend   \n",
       "2      GA  ...      674.25     Late/Odd Time     Late/Odd Time       weekend   \n",
       "3      GA  ...      674.25      Evening Time      Evening Time       weekend   \n",
       "4      GA  ...      674.25     Late/Odd Time     Late/Odd Time       weekend   \n",
       "\n",
       "   week_of_month  air_delay  time_land_gate  time_gate_takeoff  o_city  \\\n",
       "0     first_week       -8.0             6.0               51.0  Albany   \n",
       "1     first_week      -11.0            46.0               11.0  Albany   \n",
       "2     first_week       -1.0             9.0               13.0  Albany   \n",
       "3     first_week      -14.0             6.0               11.0  Albany   \n",
       "4     first_week       -4.0            11.0               11.0  Albany   \n",
       "\n",
       "   o_state  \n",
       "0       GA  \n",
       "1       GA  \n",
       "2       GA  \n",
       "3       GA  \n",
       "4       GA  \n",
       "\n",
       "[5 rows x 30 columns]"
      ]
     },
     "execution_count": 43,
     "metadata": {
      "tags": []
     },
     "output_type": "execute_result"
    }
   ],
   "source": [
    "flight_delays.head()"
   ]
  },
  {
   "cell_type": "code",
   "execution_count": null,
   "metadata": {
    "colab": {},
    "colab_type": "code",
    "collapsed": true,
    "deletable": true,
    "editable": true,
    "id": "HUmxRz9LM_82"
   },
   "outputs": [],
   "source": [
    "data_1=flight_delays.groupby(['carrier','route','year','quarter','month','week_of_month'])['dep_delay','arr_delay'].agg('mean').reset_index()"
   ]
  },
  {
   "cell_type": "code",
   "execution_count": null,
   "metadata": {
    "colab": {},
    "colab_type": "code",
    "collapsed": false,
    "deletable": true,
    "editable": true,
    "id": "jTcT4A7hM_87",
    "outputId": "a9cf605e-587e-49ff-eac1-ad7ec7f41e53"
   },
   "outputs": [
    {
     "data": {
      "text/plain": [
       "(645516, 8)"
      ]
     },
     "execution_count": 107,
     "metadata": {
      "tags": []
     },
     "output_type": "execute_result"
    }
   ],
   "source": [
    "data_1.shape"
   ]
  },
  {
   "cell_type": "code",
   "execution_count": null,
   "metadata": {
    "colab": {},
    "colab_type": "code",
    "collapsed": true,
    "deletable": true,
    "editable": true,
    "id": "mVrEU2V4M_89"
   },
   "outputs": [],
   "source": [
    "k=flight_delays.groupby(['carrier','route','year','quarter','month','week_of_month','dep_flight_times'])['dep_flight_times'].agg({'counts':'count'})\n",
    "k=k.reset_index().sort_values(['carrier','route','year','quarter','month','week_of_month','counts'],ascending=[True,True,True,True,True,True,False])\n",
    "data_2=k.groupby(['carrier','route','year','quarter','month','week_of_month']).head(1).drop('counts',axis=1)"
   ]
  },
  {
   "cell_type": "code",
   "execution_count": null,
   "metadata": {
    "colab": {},
    "colab_type": "code",
    "collapsed": true,
    "deletable": true,
    "editable": true,
    "id": "9RG0PUhvM_9B"
   },
   "outputs": [],
   "source": [
    "k=flight_delays.groupby(['carrier','route','year','quarter','month','week_of_month','arr_flight_times'])['arr_flight_times'].agg({'counts':'count'})\n",
    "k=k.reset_index().sort_values(['carrier','route','year','quarter','month','week_of_month','counts'],ascending=[True,True,True,True,True,True,False])\n",
    "data_3=k.groupby(['carrier','route','year','quarter','month','week_of_month']).head(1).drop('counts',axis=1)"
   ]
  },
  {
   "cell_type": "code",
   "execution_count": null,
   "metadata": {
    "colab": {},
    "colab_type": "code",
    "collapsed": true,
    "deletable": true,
    "editable": true,
    "id": "1g0_3Bj0M_9H"
   },
   "outputs": [],
   "source": [
    "main_dataframe=data_1.merge(data_2,on=['carrier','route','year','quarter','month','week_of_month'],how='inner')\n",
    "main_dataframe=main_dataframe.merge(data_3,on=['carrier','route','year','quarter','month','week_of_month'],how='inner')"
   ]
  },
  {
   "cell_type": "code",
   "execution_count": null,
   "metadata": {
    "colab": {},
    "colab_type": "code",
    "collapsed": true,
    "deletable": true,
    "editable": true,
    "id": "VfIylW_JM_9K"
   },
   "outputs": [],
   "source": [
    "del(data_1)\n",
    "del(data_2)\n",
    "del(data_3)"
   ]
  },
  {
   "cell_type": "code",
   "execution_count": 4,
   "metadata": {
    "colab": {},
    "colab_type": "code",
    "collapsed": true,
    "deletable": true,
    "editable": true,
    "id": "e75M_2U6M_9L"
   },
   "outputs": [],
   "source": [
    "# Saving the dataframe for prediction model:\n",
    "path_file='C:\\\\Users\\\\Muhammad Hussain\\\\Desktop\\\\CompetitionData'\n",
    "file_path=os.path.join(path_file,'competition_final_dataframe_newest.xlsx')\n",
    "# main_dataframe.to_excel(file_path)\n",
    "main_dataframe=pd.read_excel(file_path)"
   ]
  },
  {
   "cell_type": "code",
   "execution_count": null,
   "metadata": {
    "colab": {},
    "colab_type": "code",
    "collapsed": true,
    "deletable": true,
    "editable": true,
    "id": "DCz22AMRM_9P"
   },
   "outputs": [],
   "source": [
    "colab_path='/content/gdrive/My Drive'\n",
    "file_path=os.path.join(colab_path,'competition_final_dataframe_newest.xlsx')\n",
    "main_dataframe=pd.read_excel(file_path)"
   ]
  },
  {
   "cell_type": "code",
   "execution_count": 5,
   "metadata": {
    "colab": {},
    "colab_type": "code",
    "collapsed": true,
    "deletable": true,
    "editable": true,
    "id": "CfM8CgoqM_9R"
   },
   "outputs": [],
   "source": [
    "main_dataframe=main_dataframe.drop('Unnamed: 0',axis=1)\n"
   ]
  },
  {
   "cell_type": "markdown",
   "metadata": {
    "colab_type": "text",
    "deletable": true,
    "editable": true,
    "id": "tB8cTTzEM_9T"
   },
   "source": [
    "# Trends of average delay with month and year:\n",
    "Let's look at the trend of delays for each carrier w.r.t each month (for first six months) and year. This would give us an idea of how the Arrival Delays have changed over the months and the two years of 2018 and 2019.\n"
   ]
  },
  {
   "cell_type": "code",
   "execution_count": 78,
   "metadata": {
    "colab": {},
    "colab_type": "code",
    "collapsed": false,
    "deletable": true,
    "editable": true,
    "id": "6dhU2YUgM_9T",
    "outputId": "72257884-833f-4546-f39e-a30b2203e643"
   },
   "outputs": [
    {
     "data": {
      "text/plain": [
       "<matplotlib.legend.Legend at 0x216e891b8d0>"
      ]
     },
     "execution_count": 78,
     "metadata": {},
     "output_type": "execute_result"
    },
    {
     "data": {
      "image/png": "[encoded data removed]",
      "text/plain": [
       "<Figure size 432x288 with 1 Axes>"
      ]
     },
     "metadata": {
      "needs_background": "light"
     },
     "output_type": "display_data"
    }
   ],
   "source": [
    "plotu=main_dataframe.groupby(['year','month'])['arr_delay'].agg({'avg_delay':'mean'}).reset_index()\n",
    "plotu=plotu.loc[plotu['month']<=6,:]\n",
    "plotu=plotu.astype({'year':'int'})\n",
    "import seaborn as sns\n",
    "g=sns.lineplot(x='month',y='avg_delay',hue='year',data=plotu)\n",
    "\n",
    "g.set_title('Monthly Average Arrival Delay for years 2018-19')\n",
    "g.set_xlabel('Month')\n",
    "g.set_ylabel('Average Delay')\n",
    "plt.legend(loc='upper left')"
   ]
  },
  {
   "cell_type": "code",
   "execution_count": null,
   "metadata": {
    "colab": {},
    "colab_type": "code",
    "collapsed": false,
    "deletable": true,
    "editable": true,
    "id": "xUxi4iTWM_9W",
    "outputId": "c2d9ff1d-8875-4c74-fa16-c4525db76cd4"
   },
   "outputs": [
    {
     "name": "stderr",
     "output_type": "stream",
     "text": [
      "C:\\Users\\Muhammad Hussain\\Anaconda3\\lib\\site-packages\\ipykernel_launcher.py:1: FutureWarning: using a dict on a Series for aggregation\n",
      "is deprecated and will be removed in a future version\n",
      "  \"\"\"Entry point for launching an IPython kernel.\n"
     ]
    },
    {
     "data": {
      "image/png": "[encoded data removed]",
      "text/plain": [
       "<Figure size 432x288 with 1 Axes>"
      ]
     },
     "metadata": {
      "needs_background": "light",
      "tags": []
     },
     "output_type": "display_data"
    }
   ],
   "source": [
    "plotu=main_dataframe.groupby(['year','month'])['arr_delay'].agg({'avg_delay':'mean'}).reset_index()\n",
    "plotu=plotu.loc[plotu['year']==2018,:]\n",
    "fig=sns.lineplot(x='month',y='avg_delay',data=plotu)\n",
    "fig.set(xlabel='month', ylabel='Average Delay', title='Trend of Average Arrival Delay for year 2018')\n",
    "plt.show()"
   ]
  },
  {
   "cell_type": "code",
   "execution_count": null,
   "metadata": {
    "colab": {},
    "colab_type": "code",
    "collapsed": true,
    "deletable": true,
    "editable": true,
    "id": "uNj4FA5rM_9Z"
   },
   "outputs": [],
   "source": [
    "del(plotu)"
   ]
  },
  {
   "cell_type": "code",
   "execution_count": 79,
   "metadata": {
    "colab": {},
    "colab_type": "code",
    "collapsed": false,
    "deletable": true,
    "editable": true,
    "id": "rJrq_wZLM_9c",
    "outputId": "fc5d87df-1587-41ac-daba-684be1a2a23c"
   },
   "outputs": [
    {
     "data": {
      "text/plain": [
       "[Text(0, 0.5, 'Average Arrival Delay 2018'),\n",
       " Text(0.5, 0, 'Average Arrival Delay 2018'),\n",
       " Text(0.5, 1.0, 'Arrival Delay Comparison for first 6 months b/w 2018-19')]"
      ]
     },
     "execution_count": 79,
     "metadata": {},
     "output_type": "execute_result"
    },
    {
     "data": {
      "image/png": "[encoded data removed]",
      "text/plain": [
       "<Figure size 720x432 with 1 Axes>"
      ]
     },
     "metadata": {
      "needs_background": "light"
     },
     "output_type": "display_data"
    }
   ],
   "source": [
    "summary_1=main_dataframe.groupby(['year','month'])['arr_delay'].agg({'avg_delay':'mean'}).reset_index()\n",
    "\n",
    "summary_1=summary_1.loc[summary_1['month']<=6,:]\n",
    "\n",
    "summary_1=summary_1.pivot_table(index=['month'],columns=['year'],values=['avg_delay'])\n",
    "summary_1.columns=['avg_delay_2018','avg_delay_2019']\n",
    "\n",
    "\n",
    "plt.figure(figsize=(10,6))\n",
    "g=sns.regplot(x='avg_delay_2018',y='avg_delay_2019',data=summary_1)\n",
    "g.set(xlabel='Average Arrival Delay 2018',ylabel='Average Arrival Delay 2018',title='Arrival Delay Comparison for first 6 months b/w 2018-19')"
   ]
  },
  {
   "cell_type": "code",
   "execution_count": null,
   "metadata": {
    "colab": {},
    "colab_type": "code",
    "collapsed": false,
    "deletable": true,
    "editable": true,
    "id": "7JStkyzAM_9f",
    "outputId": "1d516445-3dff-4d9b-b4d7-d20f7200a4a0",
    "scrolled": true
   },
   "outputs": [
    {
     "name": "stderr",
     "output_type": "stream",
     "text": [
      "C:\\Users\\Muhammad Hussain\\Anaconda3\\lib\\site-packages\\numpy\\core\\fromnumeric.py:2389: FutureWarning: Method .ptp is deprecated and will be removed in a future version. Use numpy.ptp instead.\n",
      "  return ptp(axis=axis, out=out, **kwargs)\n",
      "C:\\Users\\Muhammad Hussain\\Anaconda3\\lib\\site-packages\\statsmodels\\stats\\stattools.py:72: ValueWarning: omni_normtest is not valid with less than 8 observations; 6 samples were given.\n",
      "  \"samples were given.\" % int(n), ValueWarning)\n"
     ]
    },
    {
     "data": {
      "text/html": [
       "<table class=\"simpletable\">\n",
       "<caption>OLS Regression Results</caption>\n",
       "<tr>\n",
       "  <th>Dep. Variable:</th>     <td>avg_delay_2019</td>  <th>  R-squared:         </th> <td>   0.750</td>\n",
       "</tr>\n",
       "<tr>\n",
       "  <th>Model:</th>                   <td>OLS</td>       <th>  Adj. R-squared:    </th> <td>   0.687</td>\n",
       "</tr>\n",
       "<tr>\n",
       "  <th>Method:</th>             <td>Least Squares</td>  <th>  F-statistic:       </th> <td>   11.98</td>\n",
       "</tr>\n",
       "<tr>\n",
       "  <th>Date:</th>             <td>Mon, 04 May 2020</td> <th>  Prob (F-statistic):</th>  <td>0.0258</td> \n",
       "</tr>\n",
       "<tr>\n",
       "  <th>Time:</th>                 <td>11:21:18</td>     <th>  Log-Likelihood:    </th> <td> -10.746</td>\n",
       "</tr>\n",
       "<tr>\n",
       "  <th>No. Observations:</th>      <td>     6</td>      <th>  AIC:               </th> <td>   25.49</td>\n",
       "</tr>\n",
       "<tr>\n",
       "  <th>Df Residuals:</th>          <td>     4</td>      <th>  BIC:               </th> <td>   25.08</td>\n",
       "</tr>\n",
       "<tr>\n",
       "  <th>Df Model:</th>              <td>     1</td>      <th>                     </th>     <td> </td>   \n",
       "</tr>\n",
       "<tr>\n",
       "  <th>Covariance Type:</th>      <td>nonrobust</td>    <th>                     </th>     <td> </td>   \n",
       "</tr>\n",
       "</table>\n",
       "<table class=\"simpletable\">\n",
       "<tr>\n",
       "         <td></td>           <th>coef</th>     <th>std err</th>      <th>t</th>      <th>P>|t|</th>  <th>[0.025</th>    <th>0.975]</th>  \n",
       "</tr>\n",
       "<tr>\n",
       "  <th>const</th>          <td>    1.0218</td> <td>    1.892</td> <td>    0.540</td> <td> 0.618</td> <td>   -4.231</td> <td>    6.275</td>\n",
       "</tr>\n",
       "<tr>\n",
       "  <th>avg_delay_2018</th> <td>    1.1212</td> <td>    0.324</td> <td>    3.462</td> <td> 0.026</td> <td>    0.222</td> <td>    2.021</td>\n",
       "</tr>\n",
       "</table>\n",
       "<table class=\"simpletable\">\n",
       "<tr>\n",
       "  <th>Omnibus:</th>       <td>   nan</td> <th>  Durbin-Watson:     </th> <td>   2.314</td>\n",
       "</tr>\n",
       "<tr>\n",
       "  <th>Prob(Omnibus):</th> <td>   nan</td> <th>  Jarque-Bera (JB):  </th> <td>   1.057</td>\n",
       "</tr>\n",
       "<tr>\n",
       "  <th>Skew:</th>          <td> 1.025</td> <th>  Prob(JB):          </th> <td>   0.590</td>\n",
       "</tr>\n",
       "<tr>\n",
       "  <th>Kurtosis:</th>      <td> 2.843</td> <th>  Cond. No.          </th> <td>    15.6</td>\n",
       "</tr>\n",
       "</table><br/><br/>Warnings:<br/>[1] Standard Errors assume that the covariance matrix of the errors is correctly specified."
      ],
      "text/plain": [
       "<class 'statsmodels.iolib.summary.Summary'>\n",
       "\"\"\"\n",
       "                            OLS Regression Results                            \n",
       "==============================================================================\n",
       "Dep. Variable:         avg_delay_2019   R-squared:                       0.750\n",
       "Model:                            OLS   Adj. R-squared:                  0.687\n",
       "Method:                 Least Squares   F-statistic:                     11.98\n",
       "Date:                Mon, 04 May 2020   Prob (F-statistic):             0.0258\n",
       "Time:                        11:21:18   Log-Likelihood:                -10.746\n",
       "No. Observations:                   6   AIC:                             25.49\n",
       "Df Residuals:                       4   BIC:                             25.08\n",
       "Df Model:                           1                                         \n",
       "Covariance Type:            nonrobust                                         \n",
       "==================================================================================\n",
       "                     coef    std err          t      P>|t|      [0.025      0.975]\n",
       "----------------------------------------------------------------------------------\n",
       "const              1.0218      1.892      0.540      0.618      -4.231       6.275\n",
       "avg_delay_2018     1.1212      0.324      3.462      0.026       0.222       2.021\n",
       "==============================================================================\n",
       "Omnibus:                          nan   Durbin-Watson:                   2.314\n",
       "Prob(Omnibus):                    nan   Jarque-Bera (JB):                1.057\n",
       "Skew:                           1.025   Prob(JB):                        0.590\n",
       "Kurtosis:                       2.843   Cond. No.                         15.6\n",
       "==============================================================================\n",
       "\n",
       "Warnings:\n",
       "[1] Standard Errors assume that the covariance matrix of the errors is correctly specified.\n",
       "\"\"\""
      ]
     },
     "execution_count": 309,
     "metadata": {
      "tags": []
     },
     "output_type": "execute_result"
    }
   ],
   "source": [
    "import statsmodels.api as sm\n",
    "\n",
    "x=summary_1['avg_delay_2018']\n",
    "y=summary_1['avg_delay_2019']\n",
    "\n",
    "# Note the difference in argument order\n",
    "x = sm.add_constant(x)\n",
    "model = sm.OLS(y, x).fit()\n",
    "predictions = model.predict(x) # make the predictions by the model\n",
    "\n",
    "# Print out the statistics\n",
    "model.summary()"
   ]
  },
  {
   "cell_type": "code",
   "execution_count": null,
   "metadata": {
    "colab": {},
    "colab_type": "code",
    "collapsed": false,
    "deletable": true,
    "editable": true,
    "id": "Nb-z1DE6M_9k",
    "outputId": "3b39be9f-7f79-4e2a-dcce-f1ab0ad6cd96"
   },
   "outputs": [
    {
     "data": {
      "text/html": [
       "<div>\n",
       "<style scoped>\n",
       "    .dataframe tbody tr th:only-of-type {\n",
       "        vertical-align: middle;\n",
       "    }\n",
       "\n",
       "    .dataframe tbody tr th {\n",
       "        vertical-align: top;\n",
       "    }\n",
       "\n",
       "    .dataframe thead th {\n",
       "        text-align: right;\n",
       "    }\n",
       "</style>\n",
       "<table border=\"1\" class=\"dataframe\">\n",
       "  <thead>\n",
       "    <tr style=\"text-align: right;\">\n",
       "      <th></th>\n",
       "      <th>avg_delay_2018</th>\n",
       "      <th>avg_delay_2019</th>\n",
       "    </tr>\n",
       "    <tr>\n",
       "      <th>month</th>\n",
       "      <th></th>\n",
       "      <th></th>\n",
       "    </tr>\n",
       "  </thead>\n",
       "  <tbody>\n",
       "    <tr>\n",
       "      <th>1.0</th>\n",
       "      <td>4.602744</td>\n",
       "      <td>5.172354</td>\n",
       "    </tr>\n",
       "    <tr>\n",
       "      <th>2.0</th>\n",
       "      <td>4.779588</td>\n",
       "      <td>9.475750</td>\n",
       "    </tr>\n",
       "    <tr>\n",
       "      <th>3.0</th>\n",
       "      <td>2.157435</td>\n",
       "      <td>3.749485</td>\n",
       "    </tr>\n",
       "    <tr>\n",
       "      <th>4.0</th>\n",
       "      <td>4.285847</td>\n",
       "      <td>5.308534</td>\n",
       "    </tr>\n",
       "    <tr>\n",
       "      <th>5.0</th>\n",
       "      <td>6.376595</td>\n",
       "      <td>7.233670</td>\n",
       "    </tr>\n",
       "    <tr>\n",
       "      <th>6.0</th>\n",
       "      <td>9.455899</td>\n",
       "      <td>12.069927</td>\n",
       "    </tr>\n",
       "  </tbody>\n",
       "</table>\n",
       "</div>"
      ],
      "text/plain": [
       "       avg_delay_2018  avg_delay_2019\n",
       "month                                \n",
       "1.0          4.602744        5.172354\n",
       "2.0          4.779588        9.475750\n",
       "3.0          2.157435        3.749485\n",
       "4.0          4.285847        5.308534\n",
       "5.0          6.376595        7.233670\n",
       "6.0          9.455899       12.069927"
      ]
     },
     "execution_count": 125,
     "metadata": {
      "tags": []
     },
     "output_type": "execute_result"
    }
   ],
   "source": [
    "summary_1"
   ]
  },
  {
   "cell_type": "markdown",
   "metadata": {
    "colab_type": "text",
    "deletable": true,
    "editable": true,
    "id": "W6DNWHtGM_9n"
   },
   "source": [
    "# Looking at the relationship of Departure Delay and Arrival Delay:"
   ]
  },
  {
   "cell_type": "code",
   "execution_count": 6,
   "metadata": {
    "colab": {
     "base_uri": "https://localhost:8080/",
     "height": 516
    },
    "colab_type": "code",
    "collapsed": false,
    "deletable": true,
    "editable": true,
    "id": "83C8nZfXB0UM",
    "outputId": "bf0edcbd-ff10-4b9f-939b-a5f60b57736c"
   },
   "outputs": [
    {
     "data": {
      "text/plain": [
       "[Text(0, 0.5, 'Arrival Delay'),\n",
       " Text(0.5, 0, 'Departure Delay'),\n",
       " Text(0.5, 1.0, 'Relationship between Departure Delay and Arrival Delay')]"
      ]
     },
     "execution_count": 6,
     "metadata": {},
     "output_type": "execute_result"
    },
    {
     "data": {
      "image/png": "[encoded data removed]",
      "text/plain": [
       "<Figure size 864x576 with 1 Axes>"
      ]
     },
     "metadata": {
      "needs_background": "light"
     },
     "output_type": "display_data"
    }
   ],
   "source": [
    "dd=main_dataframe[['dep_delay','arr_delay']]\n",
    "plt.figure(figsize=(12,8))\n",
    "g=sns.regplot(x='dep_delay',y='arr_delay',data=dd)\n",
    "g.set(xlabel='Departure Delay',ylabel='Arrival Delay',title='Relationship between Departure Delay and Arrival Delay')"
   ]
  },
  {
   "cell_type": "code",
   "execution_count": null,
   "metadata": {
    "colab": {},
    "colab_type": "code",
    "collapsed": true,
    "deletable": true,
    "editable": true,
    "id": "rCrwnj3nXpaY"
   },
   "outputs": [],
   "source": [
    "X=main_dataframe[['dep_delay']]\n",
    "y=main_dataframe[['arr_delay']]"
   ]
  },
  {
   "cell_type": "code",
   "execution_count": null,
   "metadata": {
    "colab": {},
    "colab_type": "code",
    "collapsed": true,
    "deletable": true,
    "editable": true,
    "id": "grzu0ohVaAP8"
   },
   "outputs": [],
   "source": [
    "from sklearn.linear_model import LinearRegression\n",
    "model=LinearRegression().fit(X,y)"
   ]
  },
  {
   "cell_type": "code",
   "execution_count": null,
   "metadata": {
    "colab": {},
    "colab_type": "code",
    "collapsed": true,
    "deletable": true,
    "editable": true,
    "id": "aAOXrQfTDVpA"
   },
   "outputs": [],
   "source": [
    "import statsmodels.api as sm\n",
    "\n",
    "# Note the difference in argument order\n",
    "X = sm.add_constant(X)\n",
    "model = sm.OLS(y, X).fit()\n",
    "predictions = model.predict(X) # make the predictions by the model\n"
   ]
  },
  {
   "cell_type": "code",
   "execution_count": null,
   "metadata": {
    "colab": {},
    "colab_type": "code",
    "collapsed": false,
    "deletable": true,
    "editable": true,
    "id": "fjiijtleM7eN",
    "outputId": "a8fb5811-72a4-4f9f-a737-e26c7e82f54a"
   },
   "outputs": [
    {
     "data": {
      "text/html": [
       "<table class=\"simpletable\">\n",
       "<caption>OLS Regression Results</caption>\n",
       "<tr>\n",
       "  <th>Dep. Variable:</th>        <td>arr_delay</td>    <th>  R-squared:         </th>  <td>   0.921</td>  \n",
       "</tr>\n",
       "<tr>\n",
       "  <th>Model:</th>                   <td>OLS</td>       <th>  Adj. R-squared:    </th>  <td>   0.921</td>  \n",
       "</tr>\n",
       "<tr>\n",
       "  <th>Method:</th>             <td>Least Squares</td>  <th>  F-statistic:       </th>  <td>1.244e+08</td> \n",
       "</tr>\n",
       "<tr>\n",
       "  <th>Date:</th>             <td>Wed, 13 May 2020</td> <th>  Prob (F-statistic):</th>   <td>  0.00</td>   \n",
       "</tr>\n",
       "<tr>\n",
       "  <th>Time:</th>                 <td>21:41:48</td>     <th>  Log-Likelihood:    </th> <td>-4.3107e+07</td>\n",
       "</tr>\n",
       "<tr>\n",
       "  <th>No. Observations:</th>     <td>10678269</td>     <th>  AIC:               </th>  <td>8.621e+07</td> \n",
       "</tr>\n",
       "<tr>\n",
       "  <th>Df Residuals:</th>         <td>10678267</td>     <th>  BIC:               </th>  <td>8.621e+07</td> \n",
       "</tr>\n",
       "<tr>\n",
       "  <th>Df Model:</th>              <td>     1</td>      <th>                     </th>      <td> </td>     \n",
       "</tr>\n",
       "<tr>\n",
       "  <th>Covariance Type:</th>      <td>nonrobust</td>    <th>                     </th>      <td> </td>     \n",
       "</tr>\n",
       "</table>\n",
       "<table class=\"simpletable\">\n",
       "<tr>\n",
       "      <td></td>         <th>coef</th>     <th>std err</th>      <th>t</th>      <th>P>|t|</th>  <th>[0.025</th>    <th>0.975]</th>  \n",
       "</tr>\n",
       "<tr>\n",
       "  <th>const</th>     <td>   -5.0133</td> <td>    0.004</td> <td>-1165.623</td> <td> 0.000</td> <td>   -5.022</td> <td>   -5.005</td>\n",
       "</tr>\n",
       "<tr>\n",
       "  <th>dep_delay</th> <td>    1.0078</td> <td> 9.04e-05</td> <td> 1.12e+04</td> <td> 0.000</td> <td>    1.008</td> <td>    1.008</td>\n",
       "</tr>\n",
       "</table>\n",
       "<table class=\"simpletable\">\n",
       "<tr>\n",
       "  <th>Omnibus:</th>       <td>5422332.046</td> <th>  Durbin-Watson:     </th>   <td>   1.361</td>   \n",
       "</tr>\n",
       "<tr>\n",
       "  <th>Prob(Omnibus):</th>   <td> 0.000</td>    <th>  Jarque-Bera (JB):  </th> <td>222369839.440</td>\n",
       "</tr>\n",
       "<tr>\n",
       "  <th>Skew:</th>            <td> 1.770</td>    <th>  Prob(JB):          </th>   <td>    0.00</td>   \n",
       "</tr>\n",
       "<tr>\n",
       "  <th>Kurtosis:</th>        <td>25.074</td>    <th>  Cond. No.          </th>   <td>    48.8</td>   \n",
       "</tr>\n",
       "</table>"
      ],
      "text/plain": [
       "<class 'statsmodels.iolib.summary.Summary'>\n",
       "\"\"\"\n",
       "                            OLS Regression Results                            \n",
       "==============================================================================\n",
       "Dep. Variable:              arr_delay   R-squared:                       0.921\n",
       "Model:                            OLS   Adj. R-squared:                  0.921\n",
       "Method:                 Least Squares   F-statistic:                 1.244e+08\n",
       "Date:                Wed, 13 May 2020   Prob (F-statistic):               0.00\n",
       "Time:                        21:41:48   Log-Likelihood:            -4.3107e+07\n",
       "No. Observations:            10678269   AIC:                         8.621e+07\n",
       "Df Residuals:                10678267   BIC:                         8.621e+07\n",
       "Df Model:                           1                                         \n",
       "Covariance Type:            nonrobust                                         \n",
       "==============================================================================\n",
       "                 coef    std err          t      P>|t|      [0.025      0.975]\n",
       "------------------------------------------------------------------------------\n",
       "const         -5.0133      0.004  -1165.623      0.000      -5.022      -5.005\n",
       "dep_delay      1.0078   9.04e-05   1.12e+04      0.000       1.008       1.008\n",
       "==============================================================================\n",
       "Omnibus:                  5422332.046   Durbin-Watson:                   1.361\n",
       "Prob(Omnibus):                  0.000   Jarque-Bera (JB):        222369839.440\n",
       "Skew:                           1.770   Prob(JB):                         0.00\n",
       "Kurtosis:                      25.074   Cond. No.                         48.8\n",
       "==============================================================================\n",
       "\n",
       "Warnings:\n",
       "[1] Standard Errors assume that the covariance matrix of the errors is correctly specified.\n",
       "\"\"\""
      ]
     },
     "execution_count": 73,
     "metadata": {
      "tags": []
     },
     "output_type": "execute_result"
    }
   ],
   "source": [
    "model.summary()"
   ]
  },
  {
   "cell_type": "markdown",
   "metadata": {
    "colab_type": "text",
    "deletable": true,
    "editable": true,
    "id": "okQG-18CM7eQ"
   },
   "source": [
    "An adjusted R-Squared Value gives us an idea that Departure Delay explains about 92% of the variance in the Arrival Delay, so what if we can predict the Departure Delay for Q3 of 2019 using all the variables and then use this regression model to predict the arrival delays. We'll explore the strategy in the section below."
   ]
  },
  {
   "cell_type": "code",
   "execution_count": null,
   "metadata": {
    "colab": {},
    "colab_type": "code",
    "collapsed": true,
    "deletable": true,
    "editable": true,
    "id": "JmGGfUgpZ0_o"
   },
   "outputs": [],
   "source": [
    "filename = 'reg_model_model.sav'\n",
    "colab_path=path\n",
    "joblib.dump(model, os.path.join(colab_path,filename))"
   ]
  },
  {
   "cell_type": "markdown",
   "metadata": {
    "colab_type": "text",
    "deletable": true,
    "editable": true,
    "id": "PTYvgp-SJhr6"
   },
   "source": [
    "# Caveats:\n",
    "- One thing to note here is that the Arrival Delay can be predicted using the variables of \"Route, Carrier, etc\" and specially the \"Departure Delay\". As, i just used a regression model to see the relationship between the independent variables and the \"Arrival Delay\".\n",
    "- We are not given any data for Quarter 3 of 2019, as most of the variables of \"Route, Carrier, Departure Time, Month, Week of Departure etc\" are all categorical and we can use them for predicting the Arrival Delays for Q3 without any hassle as we have to use the same scenerios just for 3rd Quarter of 2019.\n",
    "- The problem arises how are we going to get the values for \"Departure Delay\" for Q3, 2019 to be used with the rest of the categorical variables in order to Predict Arrival Delays. And as explained Arrival Delay highly depends on Departure Delay, so it's important to get the values of Departure Delay for Q3, 2019 first."
   ]
  },
  {
   "cell_type": "markdown",
   "metadata": {
    "colab_type": "text",
    "deletable": true,
    "editable": true,
    "id": "Y_2kPdj1JREr"
   },
   "source": [
    "# Strategy For Predicting the Flight Delays by Flight and Routes for 3rd Quarter of 2019:\n",
    "My strategy is that as in main_dataframe dataset, we have most of the variables as categorical. The only variables that are continuous are \"Departure Delay\" and \"Arrival Delay\". As, arrival delay is highly correlated (R=0.96 :\"Strong Positive Correlation\") with the Departure Delay as explained above. And Departure Delay is dependent upon the categorical variables in the data. So, my idea is to use all the categorical variables to predict the departure delays for 3rd Quarter of 2019 and then use that forecasted Departure Delay data to predict the corresponding arrival delay using simple model like regression."
   ]
  },
  {
   "cell_type": "markdown",
   "metadata": {
    "colab_type": "text",
    "deletable": true,
    "editable": true,
    "id": "O9wIYqgzM_9o"
   },
   "source": [
    "# Modeling:"
   ]
  },
  {
   "cell_type": "markdown",
   "metadata": {
    "colab_type": "text",
    "deletable": true,
    "editable": true,
    "id": "JUc7nFTNM_9o"
   },
   "source": [
    "# Modeling the Categorical feature of \"Route\" as it has too many categories to be modeled as a dummy variable.\n"
   ]
  },
  {
   "cell_type": "code",
   "execution_count": null,
   "metadata": {
    "colab": {},
    "colab_type": "code",
    "collapsed": false,
    "deletable": true,
    "editable": true,
    "id": "6Rz8JGKHM_9p",
    "outputId": "a27388ba-f92a-4946-c62f-05f91b592ed7"
   },
   "outputs": [
    {
     "data": {
      "text/plain": [
       "6632"
      ]
     },
     "execution_count": 18,
     "metadata": {
      "tags": []
     },
     "output_type": "execute_result"
    }
   ],
   "source": [
    "main_dataframe.groupby('route')['route'].count()\n",
    "main_dataframe.route.nunique()"
   ]
  },
  {
   "cell_type": "markdown",
   "metadata": {
    "colab_type": "text",
    "deletable": true,
    "editable": true,
    "id": "nBNRFNSBM_9s"
   },
   "source": [
    "So, as we found that there are about 6632 unqie routes that are present in the dataset, previously there were 6684 routes, so the 52 routes were excluded for not having enough data for predicting the flight delays, thus we would consider these 6632 routes data. So, if i use one hot encoding for categorical variable encoding, the feature space is going to explode. So, i would say using the Binary Encoding Technique where number of feature from converting categorical variable using \"Binary Encoding\" we get Logbase2(number of unique categories), which makes 6632 categories in Categorical feature of \"Route\" to 13 encoded feature as compared to 6632 features using the \"One Hot Encoding\"."
   ]
  },
  {
   "cell_type": "markdown",
   "metadata": {
    "colab_type": "text",
    "deletable": true,
    "editable": true,
    "id": "WVh0RCWHM_-L"
   },
   "source": [
    "# Trying Binary Encoding for Route Variable and creating Training and Test Set:"
   ]
  },
  {
   "cell_type": "code",
   "execution_count": null,
   "metadata": {
    "colab": {},
    "colab_type": "code",
    "collapsed": true,
    "deletable": true,
    "editable": true,
    "id": "FYvo6P4uOouC"
   },
   "outputs": [],
   "source": [
    "!pip install category_encoders"
   ]
  },
  {
   "cell_type": "code",
   "execution_count": null,
   "metadata": {
    "colab": {},
    "colab_type": "code",
    "collapsed": true,
    "deletable": true,
    "editable": true,
    "id": "ZJkqiqNOM7eb"
   },
   "outputs": [],
   "source": [
    "import category_encoders as ce"
   ]
  },
  {
   "cell_type": "code",
   "execution_count": null,
   "metadata": {
    "colab": {},
    "colab_type": "code",
    "collapsed": true,
    "deletable": true,
    "editable": true,
    "id": "O7MhWzYNM_-L"
   },
   "outputs": [],
   "source": [
    "from sklearn.model_selection import train_test_split\n",
    "dataset_catboost=main_dataframe.drop(['arr_delay','quarter'],axis=1)\n",
    "dataset_catboost=dataset_catboost.astype({'route':'category','year':'category'})\n",
    "\n",
    "route_var=dataset_catboost['route']\n",
    "rest_data=dataset_catboost.drop('route',axis=1)\n",
    "rest_data=pd.get_dummies(rest_data)\n",
    "route_var=ce.BinaryEncoder().fit_transform(route_var)\n",
    "\n",
    "dataset_catboost=pd.concat([rest_data,route_var],axis=1)\n",
    "\n",
    "X=dataset_catboost.drop('dep_delay',axis=1)\n",
    "y=dataset_catboost['dep_delay']\n",
    "\n",
    "# Train_Test:\n",
    "X_train,X_test,y_train,y_test=train_test_split(X,y,train_size=0.85)\n",
    "\n",
    "# Train_Validation:\n",
    "X_train_new,X_valid_new,y_train_new,y_valid_new=train_test_split(X_train,y_train,train_size=0.85)\n",
    "\n"
   ]
  },
  {
   "cell_type": "markdown",
   "metadata": {
    "colab_type": "text",
    "deletable": true,
    "editable": true,
    "id": "885Rg24ILvP7"
   },
   "source": [
    "# Algorithms:\n",
    "I am going to focus here on Tree like algorithms, as we have most of the data in categorical form, and the dependent variable of \"Departure Delay\" is different among different scenerios of categorical variables.\n",
    "Also, in this data we have categories which can have a hierarchial relationship with each other.\n",
    "E.g we have a carrier \"AA (American Airlines)\" and it is being operated along several different routes and would have different delays among different routes. So, a tree like algorithm would first split on the basis of carrier and then further split on the basis of other variables like \"Route\" or \"Departure Times\" etc. So, with this intuition Tree algorithms feel the best fit for our task.\n",
    "I would try 3 types algorithms from Decision Trees:\n",
    "1. Random Forest\n",
    "2. Gradient Boosting Trees\n",
    "3. CatBoost Algorithm "
   ]
  },
  {
   "cell_type": "markdown",
   "metadata": {
    "colab_type": "text",
    "deletable": true,
    "editable": true,
    "id": "vd1sEswjM_-P"
   },
   "source": [
    "# Random Forest Regressor\n",
    "Selecting Optimal Parameters using Cross Validation\n",
    "---"
   ]
  },
  {
   "cell_type": "code",
   "execution_count": null,
   "metadata": {
    "colab": {},
    "colab_type": "code",
    "collapsed": true,
    "deletable": true,
    "editable": true,
    "id": "gxeavJxeO3CC"
   },
   "outputs": [],
   "source": [
    "from sklearn.ensemble import RandomForestRegressor\n",
    "from sklearn.metrics import mean_squared_error as mse"
   ]
  },
  {
   "cell_type": "code",
   "execution_count": null,
   "metadata": {
    "colab": {},
    "colab_type": "code",
    "collapsed": true,
    "deletable": true,
    "editable": true,
    "id": "wgykIVT0M_-P"
   },
   "outputs": [],
   "source": [
    "n_estimators=[50,70,90,100,120,130,150,180,200]\n",
    "max_features=[4,5,6,7,8,9,10,11,13,15,20]\n",
    "dictu={}\n",
    "combination=1\n",
    "for estimators in n_estimators:\n",
    "    for features in max_features:\n",
    "        random_forest=RandomForestRegressor(n_estimators=estimators,max_features=features,random_state=5)\n",
    "        random_forest.fit(X_train_new,y_train_new)\n",
    "        predictions=random_forest.predict(X_valid_new)\n",
    "        error=mse(predictions,y_valid_new)\n",
    "        xp=str(estimators)+\"-\"+str(features)\n",
    "        dictu[xp]=error\n",
    "        combination+=1\n"
   ]
  },
  {
   "cell_type": "code",
   "execution_count": null,
   "metadata": {
    "colab": {},
    "colab_type": "code",
    "collapsed": true,
    "deletable": true,
    "editable": true,
    "id": "KLhxqVDOM_-T"
   },
   "outputs": [],
   "source": [
    "optimal_params=min(dictu.keys(), key=(lambda k: dictu[k]))"
   ]
  },
  {
   "cell_type": "code",
   "execution_count": null,
   "metadata": {
    "colab": {},
    "colab_type": "code",
    "collapsed": true,
    "deletable": true,
    "editable": true,
    "id": "utXFBjjXM_-W"
   },
   "outputs": [],
   "source": [
    "n_estimator=int(optimal_params.split('-')[0])\n",
    "max_features=int(optimal_params.split('-')[1])"
   ]
  },
  {
   "cell_type": "code",
   "execution_count": null,
   "metadata": {
    "colab": {},
    "colab_type": "code",
    "collapsed": false,
    "deletable": true,
    "editable": true,
    "id": "ygiIAIcXM7ev",
    "outputId": "08dae4a4-d328-41ec-ab2a-3dd4b57ca9d4"
   },
   "outputs": [
    {
     "name": "stdout",
     "output_type": "stream",
     "text": [
      "120\n",
      "7\n"
     ]
    }
   ],
   "source": [
    "print(n_estimator)\n",
    "print(max_features)"
   ]
  },
  {
   "cell_type": "code",
   "execution_count": null,
   "metadata": {
    "colab": {},
    "colab_type": "code",
    "collapsed": true,
    "deletable": true,
    "editable": true,
    "id": "XQxQHg7qM_-Y"
   },
   "outputs": [],
   "source": [
    "random_forest=RandomForestRegressor(n_estimators=120,max_features=7,random_state=5)\n",
    "random_forest.fit(X_train,y_train)\n",
    "predictions=random_forest.predict(X_test)\n",
    "error_rf=mse(predictions,y_test)"
   ]
  },
  {
   "cell_type": "code",
   "execution_count": null,
   "metadata": {
    "colab": {},
    "colab_type": "code",
    "collapsed": false,
    "deletable": true,
    "editable": true,
    "id": "-RE0KGbEM_-a",
    "outputId": "11e3c286-fb89-4262-ef81-ee4070bd5829"
   },
   "outputs": [
    {
     "name": "stdout",
     "output_type": "stream",
     "text": [
      "Error from Random Forest is: 567.99\n"
     ]
    }
   ],
   "source": [
    "print('Error from Random Forest is: '+str(round(error_rf,2)))"
   ]
  },
  {
   "cell_type": "markdown",
   "metadata": {
    "colab_type": "text",
    "deletable": true,
    "editable": true,
    "id": "BDXkYmwCM_-d"
   },
   "source": [
    "# Gradient Boosting Machines\n",
    "Selecting Optimal Parameters through Cross Validation\n",
    "---"
   ]
  },
  {
   "cell_type": "code",
   "execution_count": null,
   "metadata": {
    "colab": {},
    "colab_type": "code",
    "collapsed": true,
    "deletable": true,
    "editable": true,
    "id": "trnuK3BX_bZ1"
   },
   "outputs": [],
   "source": [
    "from sklearn.ensemble import GradientBoostingRegressor"
   ]
  },
  {
   "cell_type": "code",
   "execution_count": null,
   "metadata": {
    "colab": {},
    "colab_type": "code",
    "collapsed": true,
    "deletable": true,
    "editable": true,
    "id": "AUB6RT9dM_-d"
   },
   "outputs": [],
   "source": [
    "from sklearn.ensemble import GradientBoostingRegressor\n",
    "n_estimators=[120,130,150,200]\n",
    "max_depths=[5,8,10,15]\n",
    "learning_rates=[0.01,0.05,0.1]\n",
    "\n",
    "dictu={}\n",
    "combination=1\n",
    "for n_estimator in n_estimators:\n",
    "    for max_depth in max_depths:\n",
    "        for learning_rate in learning_rates:\n",
    "            print(\"Trying \"+str(combination)+' Combination')\n",
    "            booster=GradientBoostingRegressor(subsample=0.8,max_depth=max_depth,n_estimators=n_estimator,learning_rate=learning_rate)\n",
    "            booster.fit(X_train_new,y_train_new)\n",
    "            predictions=booster.predict(X_valid_new)\n",
    "            error=mse(predictions,y_valid_new)\n",
    "            key=str(n_estimator)+'-'+str(max_depth)+'-'+str(learning_rate)\n",
    "            dictu[key]=error\n",
    "            combination+=1\n"
   ]
  },
  {
   "cell_type": "code",
   "execution_count": null,
   "metadata": {
    "colab": {},
    "colab_type": "code",
    "collapsed": true,
    "deletable": true,
    "editable": true,
    "id": "4ZFaQ-1MM_-f"
   },
   "outputs": [],
   "source": [
    "k=min(dictu.keys(),key=(lambda k: dictu[k])).split('-')\n",
    "n_estim=int(k[0])\n",
    "max_dep=int(k[1])\n",
    "lr=float(k[2])"
   ]
  },
  {
   "cell_type": "code",
   "execution_count": 12,
   "metadata": {
    "colab": {
     "base_uri": "https://localhost:8080/",
     "height": 183
    },
    "colab_type": "code",
    "collapsed": false,
    "deletable": true,
    "editable": true,
    "id": "wE1_1ZPk_YR4",
    "outputId": "0166a879-225a-4d81-9de4-d0e69c46cf08"
   },
   "outputs": [
    {
     "data": {
      "text/plain": [
       "GradientBoostingRegressor(alpha=0.9, ccp_alpha=0.0, criterion='friedman_mse',\n",
       "                          init=None, learning_rate=0.1, loss='lad',\n",
       "                          max_depth=15, max_features=None, max_leaf_nodes=None,\n",
       "                          min_impurity_decrease=0.0, min_impurity_split=None,\n",
       "                          min_samples_leaf=30, min_samples_split=2,\n",
       "                          min_weight_fraction_leaf=0.0, n_estimators=200,\n",
       "                          n_iter_no_change=None, presort='deprecated',\n",
       "                          random_state=None, subsample=0.8, tol=0.0001,\n",
       "                          validation_fraction=0.1, verbose=0, warm_start=False)"
      ]
     },
     "execution_count": 12,
     "metadata": {
      "tags": []
     },
     "output_type": "execute_result"
    }
   ],
   "source": [
    "booster=GradientBoostingRegressor(subsample=0.8,max_depth=15,n_estimators=200,learning_rate=0.1,\n",
    "                                 criterion='friedman_mse',loss='lad',min_samples_leaf=30)\n",
    "booster.fit(X_train,y_train)"
   ]
  },
  {
   "cell_type": "code",
   "execution_count": null,
   "metadata": {
    "colab": {},
    "colab_type": "code",
    "collapsed": true,
    "deletable": true,
    "editable": true,
    "id": "ZcQBh9rrM_-h"
   },
   "outputs": [],
   "source": [
    "# booster=GradientBoostingRegressor(subsample=0.8,max_depth=max_dep,n_estimators=n_estim,learning_rate=lr)\n",
    "booster=GradientBoostingRegressor(subsample=0.8,max_depth=15,n_estimators=200,learning_rate=0.1)\n",
    "booster.fit(X_train,y_train)"
   ]
  },
  {
   "cell_type": "code",
   "execution_count": null,
   "metadata": {
    "colab": {},
    "colab_type": "code",
    "collapsed": true,
    "deletable": true,
    "editable": true,
    "id": "D9IvfPaCFByT"
   },
   "outputs": [],
   "source": [
    "from sklearn.metrics import mean_squared_error as mse"
   ]
  },
  {
   "cell_type": "code",
   "execution_count": null,
   "metadata": {
    "colab": {},
    "colab_type": "code",
    "collapsed": true,
    "deletable": true,
    "editable": true,
    "id": "FDYz7dmSM_-k"
   },
   "outputs": [],
   "source": [
    "predictions=booster.predict(X_test)\n",
    "error_booster=mse(predictions,y_test)"
   ]
  },
  {
   "cell_type": "code",
   "execution_count": 16,
   "metadata": {
    "colab": {
     "base_uri": "https://localhost:8080/",
     "height": 35
    },
    "colab_type": "code",
    "collapsed": false,
    "deletable": true,
    "editable": true,
    "id": "vRVRxgElM_-m",
    "outputId": "99472826-dd48-4c16-cf48-8701912ac17b"
   },
   "outputs": [
    {
     "name": "stdout",
     "output_type": "stream",
     "text": [
      "Error from GBM is: 553.18\n"
     ]
    }
   ],
   "source": [
    "print('Error from GBM is: '+str(round(error_booster,2)))"
   ]
  },
  {
   "cell_type": "markdown",
   "metadata": {
    "colab_type": "text",
    "deletable": true,
    "editable": true,
    "id": "EjSDBmuJM__k"
   },
   "source": [
    "# CatBoost Algorithm:\n",
    "Catboost Algorithm uses the same concept of gradient boosting on decision trees as applied above, but the one edge of using Catboost Algorithm instead of \"Gradient Boosting\" from Scikit-Learn is that the \"CatBoost\" can take categorical variables aswell. Thus, this can save us from the hassle of going through the process of transforming Categorical Variables into Numerical ones.\n",
    "I won't go too deep into the details of how the Catboost use the transformation of Categorical Variables. for a reference i would say that the Catboost Algorithm uses Supervised methods of Transforming categorical variables by looking at the response variable and then using different buckets of distinct classes in which different labels of categorical variable would fall.\n",
    "I had used \"Binary Encoding\" previously for Gradient Boosting Algorithm, here we can see how well the Catboost Performs on our dataset with its own categorical variable encoding techniques.\n"
   ]
  },
  {
   "cell_type": "code",
   "execution_count": null,
   "metadata": {
    "colab": {},
    "colab_type": "code",
    "collapsed": true,
    "deletable": true,
    "editable": true,
    "id": "Qv37ASkyM__p"
   },
   "outputs": [],
   "source": [
    "dataset_catboost=main_dataframe.drop(['arr_delay','quarter'],axis=1)\n",
    "dataset_catboost=dataset_catboost.astype({'route':'category','year':'category','month':'float64'})"
   ]
  },
  {
   "cell_type": "code",
   "execution_count": null,
   "metadata": {
    "colab": {},
    "colab_type": "code",
    "collapsed": true,
    "deletable": true,
    "editable": true,
    "id": "A3p6R6N1M__r"
   },
   "outputs": [],
   "source": [
    "X=dataset_catboost.drop('dep_delay',axis=1)\n",
    "y=dataset_catboost['dep_delay']"
   ]
  },
  {
   "cell_type": "code",
   "execution_count": null,
   "metadata": {
    "colab": {},
    "colab_type": "code",
    "collapsed": true,
    "deletable": true,
    "editable": true,
    "id": "buPoG2qoM__t"
   },
   "outputs": [],
   "source": [
    "X_train,X_test,y_train,y_test=train_test_split(X,y,train_size=0.80)"
   ]
  },
  {
   "cell_type": "code",
   "execution_count": null,
   "metadata": {
    "colab": {},
    "colab_type": "code",
    "collapsed": true,
    "deletable": true,
    "editable": true,
    "id": "yAvwl5MpM__u"
   },
   "outputs": [],
   "source": [
    "# Validation set data:\n",
    "X_train_new,X_valid_new,y_train_new,y_valid_new=train_test_split(X_train,y_train,train_size=0.75)"
   ]
  },
  {
   "cell_type": "code",
   "execution_count": null,
   "metadata": {
    "colab": {},
    "colab_type": "code",
    "collapsed": true,
    "deletable": true,
    "editable": true,
    "id": "OeWYuHEXM__w"
   },
   "outputs": [],
   "source": [
    "categorical_features_indices=np.where(X.dtypes != np.float)[0]"
   ]
  },
  {
   "cell_type": "code",
   "execution_count": null,
   "metadata": {
    "colab": {},
    "colab_type": "code",
    "collapsed": true,
    "deletable": true,
    "editable": true,
    "id": "xPmCBO_YMmNd"
   },
   "outputs": [],
   "source": [
    "!pip install catboost"
   ]
  },
  {
   "cell_type": "code",
   "execution_count": null,
   "metadata": {
    "collapsed": true
   },
   "outputs": [],
   "source": [
    "from catboost import CatBoostRegressor\n",
    "iterations=[100,120,150,200,250,300]\n",
    "depth=[6,8,10,12,15]\n",
    "erru={}\n",
    "for i in iterations:\n",
    "    for j in depth:\n",
    "        model=CatBoostRegressor(iterations=i, depth=j, learning_rate=0.01, loss_function='Lq:q=2.2',\n",
    "                       od_type='IncToDec',eval_metric='MAE',\n",
    "                       od_pval=0.001,od_wait=5,use_best_model=True)\n",
    "        model.fit(X_train_new, y_train_new,cat_features=categorical_features_indices,eval_set=(X_valid_new, y_valid_new),plot=True)\n",
    "        preds=model.predict(X_valid_new)\n",
    "        err=mse(preds,y_valid_new)\n",
    "        erru[str(i)+'-'+str(j)]=err"
   ]
  },
  {
   "cell_type": "code",
   "execution_count": null,
   "metadata": {
    "colab": {},
    "colab_type": "code",
    "collapsed": false,
    "deletable": true,
    "editable": true,
    "id": "3R4Z9iopNAAp",
    "outputId": "d04bd0e0-8094-47d7-8fe0-e8b22783557d"
   },
   "outputs": [
    {
     "data": {
      "text/plain": [
       "'300-15'"
      ]
     },
     "execution_count": 154,
     "metadata": {
      "tags": []
     },
     "output_type": "execute_result"
    }
   ],
   "source": [
    "min(erru.keys(),key=(lambda k: erru[k]))"
   ]
  },
  {
   "cell_type": "markdown",
   "metadata": {
    "colab_type": "text",
    "deletable": true,
    "editable": true,
    "id": "hEKPhaoqnyxq"
   },
   "source": [
    "I have used the Lq loss function in this algorithm as this is like the Mean Squared Error Loss function where the only difference is that in this \"Loss Function\",we have the liberty to choose the power coefficient instead of using the squared error in the MSE Loss Function. So, i used about 2.2 as the power coefficient as i wanted the model to punish itself more for predictions that are way off. So, why i considered it is because as i show below that the \"Departure Delay\" is pretty volatile with a standard deviation of 23. So, i want the model to catch different delay values correctly through differnt configurations of our feature space."
   ]
  },
  {
   "cell_type": "code",
   "execution_count": null,
   "metadata": {
    "colab": {},
    "colab_type": "code",
    "collapsed": true,
    "deletable": true,
    "editable": true,
    "id": "UagvKL4PP9Wq"
   },
   "outputs": [],
   "source": [
    "model4=CatBoostRegressor(iterations=300, depth=15, learning_rate=0.01, loss_function='Lq:q=2.2',min_data_in_leaf=60)\n",
    "model4.fit(X_train,y_train,cat_features=categorical_features_indices)"
   ]
  },
  {
   "cell_type": "code",
   "execution_count": 52,
   "metadata": {
    "colab": {
     "base_uri": "https://localhost:8080/",
     "height": 35
    },
    "colab_type": "code",
    "collapsed": false,
    "deletable": true,
    "editable": true,
    "id": "8AtOqV6NSrto",
    "outputId": "96e2540e-3513-4861-877e-5e261628147c"
   },
   "outputs": [
    {
     "name": "stdout",
     "output_type": "stream",
     "text": [
      "Test Error is: 491.51\n"
     ]
    }
   ],
   "source": [
    "predictions=model4.predict(X_test)\n",
    "error=mse(predictions,y_test)\n",
    "print('Test Error is: '+str(round(error,2)))"
   ]
  },
  {
   "cell_type": "markdown",
   "metadata": {
    "colab_type": "text",
    "deletable": true,
    "editable": true,
    "id": "E_vQ3t6eQnF-"
   },
   "source": [
    "# Result:\n",
    "The CatBoost Method has given us the smallest Test MSE of 491.51. So, i would use the boosting algorithm for predicting the Departure Delays for Q3, 2019 and then we can use that to predict the Arrival Delays for Q3, 2019."
   ]
  },
  {
   "cell_type": "markdown",
   "metadata": {
    "colab_type": "text",
    "deletable": true,
    "editable": true,
    "id": "-fLdXXgLQ-KN"
   },
   "source": [
    "# Predictions:"
   ]
  },
  {
   "cell_type": "markdown",
   "metadata": {
    "colab_type": "text",
    "deletable": true,
    "editable": true,
    "id": "EZcDLb2JbRC9"
   },
   "source": [
    "# Creating the Test Dataset for 3rd Quarter Predictions:"
   ]
  },
  {
   "cell_type": "code",
   "execution_count": null,
   "metadata": {
    "colab": {},
    "colab_type": "code",
    "collapsed": true,
    "deletable": true,
    "editable": true,
    "id": "X3610DQBM_-2"
   },
   "outputs": [],
   "source": [
    "dataset=main_dataframe.drop(['arr_delay','dep_delay'],axis=1)\n",
    "new_dat=dataset.drop_duplicates()\n",
    "new_dat=new_dat.reset_index()\n",
    "year=[]\n",
    "for i in range(len(new_dat)):\n",
    "    if new_dat['quarter'][i]==3:\n",
    "        year.append(2019)\n",
    "    else:\n",
    "        year.append(2018)\n",
    "new_dat['year']=year\n",
    "new_dat=new_dat.loc[new_dat['quarter']==3,:].drop('index',axis=1).drop_duplicates()\n",
    "new_dat=new_dat.astype({'route':'category','year':'category','month':'float64'})\n",
    "pred_dat=new_dat.drop('quarter',axis=1)"
   ]
  },
  {
   "cell_type": "markdown",
   "metadata": {
    "colab_type": "text",
    "deletable": true,
    "editable": true,
    "id": "jr7V1N43T6gy"
   },
   "source": [
    "CatBoost Prediction:\n",
    "---"
   ]
  },
  {
   "cell_type": "code",
   "execution_count": null,
   "metadata": {
    "colab": {},
    "colab_type": "code",
    "collapsed": true,
    "deletable": true,
    "editable": true,
    "id": "qgEMlb9qTl1Q"
   },
   "outputs": [],
   "source": [
    "dep_delay_q3=model4.predict(pred_dat)\n",
    "new_dat['dep_delay_q3']=dep_delay_q3"
   ]
  },
  {
   "cell_type": "code",
   "execution_count": null,
   "metadata": {
    "colab": {},
    "colab_type": "code",
    "collapsed": true,
    "deletable": true,
    "editable": true,
    "id": "FFDOoIsRrFT9"
   },
   "outputs": [],
   "source": [
    "predicted_dataset=new_dat"
   ]
  },
  {
   "cell_type": "code",
   "execution_count": null,
   "metadata": {
    "colab": {},
    "colab_type": "code",
    "collapsed": true,
    "deletable": true,
    "editable": true,
    "id": "AC0heISYrUJi"
   },
   "outputs": [],
   "source": [
    "predicted_dataset.to_excel(os.path.join(colab_path,'Predicted_Dataset.xlsx'))"
   ]
  },
  {
   "cell_type": "code",
   "execution_count": 62,
   "metadata": {
    "colab": {
     "base_uri": "https://localhost:8080/",
     "height": 206
    },
    "colab_type": "code",
    "collapsed": false,
    "deletable": true,
    "editable": true,
    "id": "lP5ueRNgviWs",
    "outputId": "8eb544f2-a451-43af-9369-191b623348d1"
   },
   "outputs": [
    {
     "data": {
      "text/html": [
       "<div>\n",
       "<style scoped>\n",
       "    .dataframe tbody tr th:only-of-type {\n",
       "        vertical-align: middle;\n",
       "    }\n",
       "\n",
       "    .dataframe tbody tr th {\n",
       "        vertical-align: top;\n",
       "    }\n",
       "\n",
       "    .dataframe thead th {\n",
       "        text-align: right;\n",
       "    }\n",
       "</style>\n",
       "<table border=\"1\" class=\"dataframe\">\n",
       "  <thead>\n",
       "    <tr style=\"text-align: right;\">\n",
       "      <th></th>\n",
       "      <th>carrier</th>\n",
       "      <th>route</th>\n",
       "      <th>year</th>\n",
       "      <th>quarter</th>\n",
       "      <th>month</th>\n",
       "      <th>week_of_month</th>\n",
       "      <th>dep_flight_times</th>\n",
       "      <th>arr_flight_times</th>\n",
       "      <th>dep_delay_q3</th>\n",
       "    </tr>\n",
       "  </thead>\n",
       "  <tbody>\n",
       "    <tr>\n",
       "      <th>14</th>\n",
       "      <td>9E</td>\n",
       "      <td>1</td>\n",
       "      <td>2019</td>\n",
       "      <td>3</td>\n",
       "      <td>8.0</td>\n",
       "      <td>last_week</td>\n",
       "      <td>Late/Odd Time</td>\n",
       "      <td>Morning Time</td>\n",
       "      <td>9.678354</td>\n",
       "    </tr>\n",
       "    <tr>\n",
       "      <th>15</th>\n",
       "      <td>9E</td>\n",
       "      <td>1</td>\n",
       "      <td>2019</td>\n",
       "      <td>3</td>\n",
       "      <td>8.0</td>\n",
       "      <td>third_week</td>\n",
       "      <td>Late/Odd Time</td>\n",
       "      <td>Morning Time</td>\n",
       "      <td>10.254446</td>\n",
       "    </tr>\n",
       "    <tr>\n",
       "      <th>16</th>\n",
       "      <td>9E</td>\n",
       "      <td>1</td>\n",
       "      <td>2019</td>\n",
       "      <td>3</td>\n",
       "      <td>9.0</td>\n",
       "      <td>first_week</td>\n",
       "      <td>Evening Time</td>\n",
       "      <td>Evening Time</td>\n",
       "      <td>8.015141</td>\n",
       "    </tr>\n",
       "    <tr>\n",
       "      <th>17</th>\n",
       "      <td>9E</td>\n",
       "      <td>1</td>\n",
       "      <td>2019</td>\n",
       "      <td>3</td>\n",
       "      <td>9.0</td>\n",
       "      <td>last_week</td>\n",
       "      <td>Evening Time</td>\n",
       "      <td>Evening Time</td>\n",
       "      <td>8.802708</td>\n",
       "    </tr>\n",
       "    <tr>\n",
       "      <th>18</th>\n",
       "      <td>9E</td>\n",
       "      <td>1</td>\n",
       "      <td>2019</td>\n",
       "      <td>3</td>\n",
       "      <td>9.0</td>\n",
       "      <td>second_week</td>\n",
       "      <td>Evening Time</td>\n",
       "      <td>Evening Time</td>\n",
       "      <td>9.315090</td>\n",
       "    </tr>\n",
       "  </tbody>\n",
       "</table>\n",
       "</div>"
      ],
      "text/plain": [
       "   carrier route  year  ...  dep_flight_times  arr_flight_times dep_delay_q3\n",
       "14      9E     1  2019  ...     Late/Odd Time      Morning Time     9.678354\n",
       "15      9E     1  2019  ...     Late/Odd Time      Morning Time    10.254446\n",
       "16      9E     1  2019  ...      Evening Time      Evening Time     8.015141\n",
       "17      9E     1  2019  ...      Evening Time      Evening Time     8.802708\n",
       "18      9E     1  2019  ...      Evening Time      Evening Time     9.315090\n",
       "\n",
       "[5 rows x 9 columns]"
      ]
     },
     "execution_count": 62,
     "metadata": {
      "tags": []
     },
     "output_type": "execute_result"
    }
   ],
   "source": [
    "predicted_dataset.head()"
   ]
  },
  {
   "cell_type": "code",
   "execution_count": null,
   "metadata": {
    "colab": {},
    "colab_type": "code",
    "collapsed": true,
    "deletable": true,
    "editable": true,
    "id": "l2YpweBO_vvN"
   },
   "outputs": [],
   "source": [
    "q3_dataset=pd.read_excel(os.path.join(colab_path,'Predicted_Dataset.xlsx'))\n",
    "q3_dataset=q3_dataset.drop('Unnamed: 0',axis=1)"
   ]
  },
  {
   "cell_type": "code",
   "execution_count": 69,
   "metadata": {
    "colab": {
     "base_uri": "https://localhost:8080/",
     "height": 206
    },
    "colab_type": "code",
    "collapsed": false,
    "deletable": true,
    "editable": true,
    "id": "RMUXfUmmWLtV",
    "outputId": "7a3b9179-19e5-4338-d7f4-041d73aa7d36"
   },
   "outputs": [
    {
     "data": {
      "text/html": [
       "<div>\n",
       "<style scoped>\n",
       "    .dataframe tbody tr th:only-of-type {\n",
       "        vertical-align: middle;\n",
       "    }\n",
       "\n",
       "    .dataframe tbody tr th {\n",
       "        vertical-align: top;\n",
       "    }\n",
       "\n",
       "    .dataframe thead th {\n",
       "        text-align: right;\n",
       "    }\n",
       "</style>\n",
       "<table border=\"1\" class=\"dataframe\">\n",
       "  <thead>\n",
       "    <tr style=\"text-align: right;\">\n",
       "      <th></th>\n",
       "      <th>carrier</th>\n",
       "      <th>route</th>\n",
       "      <th>year</th>\n",
       "      <th>quarter</th>\n",
       "      <th>month</th>\n",
       "      <th>week_of_month</th>\n",
       "      <th>dep_flight_times</th>\n",
       "      <th>arr_flight_times</th>\n",
       "      <th>dep_delay_q3</th>\n",
       "    </tr>\n",
       "  </thead>\n",
       "  <tbody>\n",
       "    <tr>\n",
       "      <th>0</th>\n",
       "      <td>9E</td>\n",
       "      <td>1</td>\n",
       "      <td>2019</td>\n",
       "      <td>3</td>\n",
       "      <td>8</td>\n",
       "      <td>last_week</td>\n",
       "      <td>Late/Odd Time</td>\n",
       "      <td>Morning Time</td>\n",
       "      <td>9.678354</td>\n",
       "    </tr>\n",
       "    <tr>\n",
       "      <th>1</th>\n",
       "      <td>9E</td>\n",
       "      <td>1</td>\n",
       "      <td>2019</td>\n",
       "      <td>3</td>\n",
       "      <td>8</td>\n",
       "      <td>third_week</td>\n",
       "      <td>Late/Odd Time</td>\n",
       "      <td>Morning Time</td>\n",
       "      <td>10.254446</td>\n",
       "    </tr>\n",
       "    <tr>\n",
       "      <th>2</th>\n",
       "      <td>9E</td>\n",
       "      <td>1</td>\n",
       "      <td>2019</td>\n",
       "      <td>3</td>\n",
       "      <td>9</td>\n",
       "      <td>first_week</td>\n",
       "      <td>Evening Time</td>\n",
       "      <td>Evening Time</td>\n",
       "      <td>8.015141</td>\n",
       "    </tr>\n",
       "    <tr>\n",
       "      <th>3</th>\n",
       "      <td>9E</td>\n",
       "      <td>1</td>\n",
       "      <td>2019</td>\n",
       "      <td>3</td>\n",
       "      <td>9</td>\n",
       "      <td>last_week</td>\n",
       "      <td>Evening Time</td>\n",
       "      <td>Evening Time</td>\n",
       "      <td>8.802708</td>\n",
       "    </tr>\n",
       "    <tr>\n",
       "      <th>4</th>\n",
       "      <td>9E</td>\n",
       "      <td>1</td>\n",
       "      <td>2019</td>\n",
       "      <td>3</td>\n",
       "      <td>9</td>\n",
       "      <td>second_week</td>\n",
       "      <td>Evening Time</td>\n",
       "      <td>Evening Time</td>\n",
       "      <td>9.315090</td>\n",
       "    </tr>\n",
       "  </tbody>\n",
       "</table>\n",
       "</div>"
      ],
      "text/plain": [
       "  carrier  route  year  ...  dep_flight_times  arr_flight_times dep_delay_q3\n",
       "0      9E      1  2019  ...     Late/Odd Time      Morning Time     9.678354\n",
       "1      9E      1  2019  ...     Late/Odd Time      Morning Time    10.254446\n",
       "2      9E      1  2019  ...      Evening Time      Evening Time     8.015141\n",
       "3      9E      1  2019  ...      Evening Time      Evening Time     8.802708\n",
       "4      9E      1  2019  ...      Evening Time      Evening Time     9.315090\n",
       "\n",
       "[5 rows x 9 columns]"
      ]
     },
     "execution_count": 69,
     "metadata": {
      "tags": []
     },
     "output_type": "execute_result"
    }
   ],
   "source": [
    "q3_dataset.head()"
   ]
  },
  {
   "cell_type": "markdown",
   "metadata": {
    "colab_type": "text",
    "deletable": true,
    "editable": true,
    "id": "GRjvsNM-VNsF"
   },
   "source": [
    "Using the Regression Model we trained earlier to predict the Arrival Delay for Q3 using the dataset for Q3 we created.\n",
    "---"
   ]
  },
  {
   "cell_type": "code",
   "execution_count": 27,
   "metadata": {
    "colab": {
     "base_uri": "https://localhost:8080/",
     "height": 35
    },
    "colab_type": "code",
    "collapsed": false,
    "deletable": true,
    "editable": true,
    "id": "2CuBcf6KbMLg",
    "outputId": "1d5ec5de-7dd8-4e3c-c2d2-00771730988b"
   },
   "outputs": [
    {
     "data": {
      "text/plain": [
       "(109252, 1)"
      ]
     },
     "execution_count": 27,
     "metadata": {
      "tags": []
     },
     "output_type": "execute_result"
    }
   ],
   "source": [
    "deps=q3_dataset[['dep_delay_q3']]"
   ]
  },
  {
   "cell_type": "code",
   "execution_count": null,
   "metadata": {
    "colab": {},
    "colab_type": "code",
    "collapsed": true,
    "deletable": true,
    "editable": true,
    "id": "Am8APbmBago8"
   },
   "outputs": [],
   "source": [
    "arr_Delay_q3=model.predict(deps)"
   ]
  },
  {
   "cell_type": "code",
   "execution_count": null,
   "metadata": {
    "colab": {},
    "colab_type": "code",
    "collapsed": true,
    "deletable": true,
    "editable": true,
    "id": "JhbE9G_LbRMJ"
   },
   "outputs": [],
   "source": [
    "q3_dataset['arrival_delay_q3']=arr_Delay_q3"
   ]
  },
  {
   "cell_type": "code",
   "execution_count": 35,
   "metadata": {
    "colab": {
     "base_uri": "https://localhost:8080/",
     "height": 206
    },
    "colab_type": "code",
    "collapsed": false,
    "deletable": true,
    "editable": true,
    "id": "dYc-1GinbVlg",
    "outputId": "1a56734c-9d6a-4c5a-c9c4-7155d48b47c5"
   },
   "outputs": [
    {
     "data": {
      "text/html": [
       "<div>\n",
       "<style scoped>\n",
       "    .dataframe tbody tr th:only-of-type {\n",
       "        vertical-align: middle;\n",
       "    }\n",
       "\n",
       "    .dataframe tbody tr th {\n",
       "        vertical-align: top;\n",
       "    }\n",
       "\n",
       "    .dataframe thead th {\n",
       "        text-align: right;\n",
       "    }\n",
       "</style>\n",
       "<table border=\"1\" class=\"dataframe\">\n",
       "  <thead>\n",
       "    <tr style=\"text-align: right;\">\n",
       "      <th></th>\n",
       "      <th>carrier</th>\n",
       "      <th>route</th>\n",
       "      <th>year</th>\n",
       "      <th>quarter</th>\n",
       "      <th>month</th>\n",
       "      <th>week_of_month</th>\n",
       "      <th>dep_flight_times</th>\n",
       "      <th>arr_flight_times</th>\n",
       "      <th>dep_delay_q3</th>\n",
       "      <th>arrival_delay_q3</th>\n",
       "    </tr>\n",
       "  </thead>\n",
       "  <tbody>\n",
       "    <tr>\n",
       "      <th>0</th>\n",
       "      <td>9E</td>\n",
       "      <td>1</td>\n",
       "      <td>2019</td>\n",
       "      <td>3</td>\n",
       "      <td>8</td>\n",
       "      <td>last_week</td>\n",
       "      <td>Late/Odd Time</td>\n",
       "      <td>Morning Time</td>\n",
       "      <td>9.678354</td>\n",
       "      <td>4.766236</td>\n",
       "    </tr>\n",
       "    <tr>\n",
       "      <th>1</th>\n",
       "      <td>9E</td>\n",
       "      <td>1</td>\n",
       "      <td>2019</td>\n",
       "      <td>3</td>\n",
       "      <td>8</td>\n",
       "      <td>third_week</td>\n",
       "      <td>Late/Odd Time</td>\n",
       "      <td>Morning Time</td>\n",
       "      <td>10.254446</td>\n",
       "      <td>5.350440</td>\n",
       "    </tr>\n",
       "    <tr>\n",
       "      <th>2</th>\n",
       "      <td>9E</td>\n",
       "      <td>1</td>\n",
       "      <td>2019</td>\n",
       "      <td>3</td>\n",
       "      <td>9</td>\n",
       "      <td>first_week</td>\n",
       "      <td>Evening Time</td>\n",
       "      <td>Evening Time</td>\n",
       "      <td>8.015141</td>\n",
       "      <td>3.079606</td>\n",
       "    </tr>\n",
       "    <tr>\n",
       "      <th>3</th>\n",
       "      <td>9E</td>\n",
       "      <td>1</td>\n",
       "      <td>2019</td>\n",
       "      <td>3</td>\n",
       "      <td>9</td>\n",
       "      <td>last_week</td>\n",
       "      <td>Evening Time</td>\n",
       "      <td>Evening Time</td>\n",
       "      <td>8.802708</td>\n",
       "      <td>3.878262</td>\n",
       "    </tr>\n",
       "    <tr>\n",
       "      <th>4</th>\n",
       "      <td>9E</td>\n",
       "      <td>1</td>\n",
       "      <td>2019</td>\n",
       "      <td>3</td>\n",
       "      <td>9</td>\n",
       "      <td>second_week</td>\n",
       "      <td>Evening Time</td>\n",
       "      <td>Evening Time</td>\n",
       "      <td>9.315090</td>\n",
       "      <td>4.397858</td>\n",
       "    </tr>\n",
       "  </tbody>\n",
       "</table>\n",
       "</div>"
      ],
      "text/plain": [
       "  carrier  route  year  ...  arr_flight_times  dep_delay_q3 arrival_delay_q3\n",
       "0      9E      1  2019  ...      Morning Time      9.678354         4.766236\n",
       "1      9E      1  2019  ...      Morning Time     10.254446         5.350440\n",
       "2      9E      1  2019  ...      Evening Time      8.015141         3.079606\n",
       "3      9E      1  2019  ...      Evening Time      8.802708         3.878262\n",
       "4      9E      1  2019  ...      Evening Time      9.315090         4.397858\n",
       "\n",
       "[5 rows x 10 columns]"
      ]
     },
     "execution_count": 35,
     "metadata": {
      "tags": []
     },
     "output_type": "execute_result"
    }
   ],
   "source": [
    "q3_dataset.head(5)"
   ]
  },
  {
   "cell_type": "code",
   "execution_count": null,
   "metadata": {
    "colab": {},
    "colab_type": "code",
    "collapsed": true,
    "deletable": true,
    "editable": true,
    "id": "sYkuKRq6M7i8"
   },
   "outputs": [],
   "source": [
    "q3_dataset.to_excel(os.path.join(colab_path,'Final_Predicted_Dataset_newest.xlsx'))"
   ]
  },
  {
   "cell_type": "markdown",
   "metadata": {
    "colab_type": "text",
    "deletable": true,
    "editable": true,
    "id": "4gvj9MIYM7i9"
   },
   "source": [
    "Let's look at the Trend of Arrival Delay over the months in 3rd Quarter:\n",
    "---"
   ]
  },
  {
   "cell_type": "code",
   "execution_count": 82,
   "metadata": {
    "colab": {},
    "colab_type": "code",
    "collapsed": true,
    "deletable": true,
    "editable": true,
    "id": "fTuGXxBxM7i-"
   },
   "outputs": [],
   "source": [
    "path=os.getcwd()"
   ]
  },
  {
   "cell_type": "code",
   "execution_count": 83,
   "metadata": {
    "colab": {},
    "colab_type": "code",
    "collapsed": true,
    "deletable": true,
    "editable": true,
    "id": "nsIWtcoeM7i_"
   },
   "outputs": [],
   "source": [
    "q3_dataset=pd.read_excel(os.path.join(path,'Final_Predicted_Dataset_newest.xlsx'))\n"
   ]
  },
  {
   "cell_type": "code",
   "execution_count": 86,
   "metadata": {
    "collapsed": true,
    "deletable": true,
    "editable": true
   },
   "outputs": [],
   "source": [
    "q3_dataset=q3_dataset.drop('Unnamed: 0',axis=1)\n"
   ]
  },
  {
   "cell_type": "code",
   "execution_count": null,
   "metadata": {
    "colab": {},
    "colab_type": "code",
    "collapsed": true,
    "deletable": true,
    "editable": true,
    "id": "7njvAEcTM7jG"
   },
   "outputs": [],
   "source": [
    "dataset_2019=q3_dataset[['year','month','arrival_delay_q3']]\n",
    "dataset_2018=main_dataframe.loc[main_dataframe['quarter']==3,['year','month','arr_delay']]\n",
    "dataset_2019=dataset_2019.rename(columns={'arrival_delay_q3':'arr_delay'})"
   ]
  },
  {
   "cell_type": "code",
   "execution_count": null,
   "metadata": {
    "colab": {},
    "colab_type": "code",
    "collapsed": true,
    "deletable": true,
    "editable": true,
    "id": "ucFqrDvPM7jI"
   },
   "outputs": [],
   "source": [
    "datu=pd.concat([dataset_2019,dataset_2018],axis=0)\n"
   ]
  },
  {
   "cell_type": "code",
   "execution_count": null,
   "metadata": {
    "colab": {},
    "colab_type": "code",
    "collapsed": true,
    "deletable": true,
    "editable": true,
    "id": "Sszhs8VOdMQU"
   },
   "outputs": [],
   "source": [
    "result=datu.groupby(['year','month'])['arr_delay'].agg({'mean'}).reset_index()"
   ]
  },
  {
   "cell_type": "markdown",
   "metadata": {
    "colab_type": "text",
    "deletable": true,
    "editable": true,
    "id": "ZS10nNo7l1y4"
   },
   "source": [
    "In the plot below i just tried to show the Monthly Average Arrival Delay for 3rd Quarter in 2018 for reference so that we can compare these with our predictions for Arrival Delay aggregated over the months in 3rd quarter of 2019."
   ]
  },
  {
   "cell_type": "code",
   "execution_count": 58,
   "metadata": {
    "colab": {
     "base_uri": "https://localhost:8080/",
     "height": 531
    },
    "colab_type": "code",
    "collapsed": false,
    "deletable": true,
    "editable": true,
    "id": "kmAsg8KKdo7x",
    "outputId": "3f3e082c-d989-44ff-c29b-ef80f1817860"
   },
   "outputs": [
    {
     "data": {
      "text/plain": [
       "Text(0, 0.5, 'Average Arrival Delay')"
      ]
     },
     "execution_count": 58,
     "metadata": {
      "tags": []
     },
     "output_type": "execute_result"
    },
    {
     "data": {
      "image/png": "[encoded data removed]",
      "text/plain": [
       "<Figure size 720x576 with 1 Axes>"
      ]
     },
     "metadata": {
      "needs_background": "light",
      "tags": []
     },
     "output_type": "display_data"
    }
   ],
   "source": [
    "plt.figure(figsize=(10,8))\n",
    "g=sns.lineplot(x='month',y='mean',hue='year',data=result)\n",
    "plt.title('Average Monthly Arrival Delay for the months in 3rd Quarter')\n",
    "g.set_xlabel('Month')\n",
    "g.set_ylabel('Average Arrival Delay')\n",
    "plt.show()"
   ]
  },
  {
   "cell_type": "code",
   "execution_count": 87,
   "metadata": {
    "collapsed": false,
    "deletable": true,
    "editable": true
   },
   "outputs": [
    {
     "data": {
      "text/html": [
       "<div>\n",
       "<style scoped>\n",
       "    .dataframe tbody tr th:only-of-type {\n",
       "        vertical-align: middle;\n",
       "    }\n",
       "\n",
       "    .dataframe tbody tr th {\n",
       "        vertical-align: top;\n",
       "    }\n",
       "\n",
       "    .dataframe thead th {\n",
       "        text-align: right;\n",
       "    }\n",
       "</style>\n",
       "<table border=\"1\" class=\"dataframe\">\n",
       "  <thead>\n",
       "    <tr style=\"text-align: right;\">\n",
       "      <th></th>\n",
       "      <th>carrier</th>\n",
       "      <th>route</th>\n",
       "      <th>year</th>\n",
       "      <th>quarter</th>\n",
       "      <th>month</th>\n",
       "      <th>week_of_month</th>\n",
       "      <th>dep_flight_times</th>\n",
       "      <th>arr_flight_times</th>\n",
       "      <th>dep_delay_q3</th>\n",
       "      <th>arrival_delay_q3</th>\n",
       "    </tr>\n",
       "  </thead>\n",
       "  <tbody>\n",
       "    <tr>\n",
       "      <th>0</th>\n",
       "      <td>9E</td>\n",
       "      <td>1</td>\n",
       "      <td>2019</td>\n",
       "      <td>3</td>\n",
       "      <td>8</td>\n",
       "      <td>last_week</td>\n",
       "      <td>Late/Odd Time</td>\n",
       "      <td>Morning Time</td>\n",
       "      <td>9.678354</td>\n",
       "      <td>4.766236</td>\n",
       "    </tr>\n",
       "    <tr>\n",
       "      <th>1</th>\n",
       "      <td>9E</td>\n",
       "      <td>1</td>\n",
       "      <td>2019</td>\n",
       "      <td>3</td>\n",
       "      <td>8</td>\n",
       "      <td>third_week</td>\n",
       "      <td>Late/Odd Time</td>\n",
       "      <td>Morning Time</td>\n",
       "      <td>10.254446</td>\n",
       "      <td>5.350440</td>\n",
       "    </tr>\n",
       "    <tr>\n",
       "      <th>2</th>\n",
       "      <td>9E</td>\n",
       "      <td>1</td>\n",
       "      <td>2019</td>\n",
       "      <td>3</td>\n",
       "      <td>9</td>\n",
       "      <td>first_week</td>\n",
       "      <td>Evening Time</td>\n",
       "      <td>Evening Time</td>\n",
       "      <td>8.015141</td>\n",
       "      <td>3.079606</td>\n",
       "    </tr>\n",
       "    <tr>\n",
       "      <th>3</th>\n",
       "      <td>9E</td>\n",
       "      <td>1</td>\n",
       "      <td>2019</td>\n",
       "      <td>3</td>\n",
       "      <td>9</td>\n",
       "      <td>last_week</td>\n",
       "      <td>Evening Time</td>\n",
       "      <td>Evening Time</td>\n",
       "      <td>8.802708</td>\n",
       "      <td>3.878262</td>\n",
       "    </tr>\n",
       "    <tr>\n",
       "      <th>4</th>\n",
       "      <td>9E</td>\n",
       "      <td>1</td>\n",
       "      <td>2019</td>\n",
       "      <td>3</td>\n",
       "      <td>9</td>\n",
       "      <td>second_week</td>\n",
       "      <td>Evening Time</td>\n",
       "      <td>Evening Time</td>\n",
       "      <td>9.315090</td>\n",
       "      <td>4.397858</td>\n",
       "    </tr>\n",
       "  </tbody>\n",
       "</table>\n",
       "</div>"
      ],
      "text/plain": [
       "  carrier  route  year  quarter  month week_of_month dep_flight_times  \\\n",
       "0      9E      1  2019        3      8     last_week    Late/Odd Time   \n",
       "1      9E      1  2019        3      8    third_week    Late/Odd Time   \n",
       "2      9E      1  2019        3      9    first_week     Evening Time   \n",
       "3      9E      1  2019        3      9     last_week     Evening Time   \n",
       "4      9E      1  2019        3      9   second_week     Evening Time   \n",
       "\n",
       "  arr_flight_times  dep_delay_q3  arrival_delay_q3  \n",
       "0     Morning Time      9.678354          4.766236  \n",
       "1     Morning Time     10.254446          5.350440  \n",
       "2     Evening Time      8.015141          3.079606  \n",
       "3     Evening Time      8.802708          3.878262  \n",
       "4     Evening Time      9.315090          4.397858  "
      ]
     },
     "execution_count": 87,
     "metadata": {},
     "output_type": "execute_result"
    }
   ],
   "source": [
    "q3_dataset.head()"
   ]
  },
  {
   "cell_type": "markdown",
   "metadata": {
    "deletable": true,
    "editable": true
   },
   "source": [
    "File \"Predicted Dataset\" loaded as q3_dataset here contains all the predictions to the very granular level, where the predicted arrival delay is available for each Carrier and the Route for specified month, week of month, departure time and the arrival time of the flight.\n",
    "\n",
    "You can read the first line such that for a flight from carrier \"9E\", flying on the route \"1\", in the last week of month of \"August\", sometime Late at night (i.e after 12:00 AM) and reaching at the destination aometime in the Morning, would have a predicted arrival delay of 4.7 Minutes."
   ]
  },
  {
   "cell_type": "markdown",
   "metadata": {
    "deletable": true,
    "editable": true
   },
   "source": [
    "Arrival Delay w.r.t Carrier:\n",
    "---"
   ]
  },
  {
   "cell_type": "code",
   "execution_count": 90,
   "metadata": {
    "collapsed": false,
    "deletable": true,
    "editable": true
   },
   "outputs": [
    {
     "name": "stdout",
     "output_type": "stream",
     "text": [
      "         Averge Arrival Delay\n",
      "carrier                      \n",
      "9E                   9.049937\n",
      "AA                   9.902548\n",
      "AS                  -0.427958\n",
      "B6                  12.826210\n",
      "DL                   4.606234\n",
      "EV                  14.132746\n",
      "F9                  13.971295\n",
      "G4                   7.804996\n",
      "HA                   2.193851\n",
      "MQ                   8.327221\n",
      "NK                   8.698569\n",
      "OH                  10.742237\n",
      "OO                   7.998950\n",
      "UA                  10.119288\n",
      "WN                   7.704059\n",
      "YV                  10.934402\n",
      "YX                   5.106613\n"
     ]
    }
   ],
   "source": [
    "Carrier_Predicted_Delay=q3_dataset.groupby('carrier')['arrival_delay_q3'].agg({'Averge Arrival Delay':'mean'})\n",
    "print(Carrier_Predicted_Delay)"
   ]
  },
  {
   "cell_type": "code",
   "execution_count": 95,
   "metadata": {
    "collapsed": true,
    "deletable": true,
    "editable": true
   },
   "outputs": [],
   "source": [
    "Carrier_Predicted_Delay.to_excel(os.path.join(path,'Carrier_Predicted_Delays.xlsx'))"
   ]
  },
  {
   "cell_type": "markdown",
   "metadata": {
    "deletable": true,
    "editable": true
   },
   "source": [
    "Arrival Delay w.r.t Route:\n",
    "---"
   ]
  },
  {
   "cell_type": "code",
   "execution_count": 94,
   "metadata": {
    "collapsed": true,
    "deletable": true,
    "editable": true
   },
   "outputs": [],
   "source": [
    "Route_Predicted_Delay=q3_dataset.groupby('route')['arrival_delay_q3'].agg({'Averge Arrival Delay':'mean'})\n",
    "Route_Predicted_Delay.to_excel(os.path.join(path,'Route_Predicted_Delays.xlsx'))"
   ]
  }
 ],
 "metadata": {
  "accelerator": "GPU",
  "colab": {
   "collapsed_sections": [
    "9lHb3HxQM_7D",
    "hv0Zi4_GM_8G",
    "zRoy95WLM_8Y",
    "lmLjGALQM_8p",
    "cUby2FgFM_8x",
    "O9wIYqgzM_9o",
    "JUc7nFTNM_9o"
   ],
   "machine_shape": "hm",
   "name": "datascience_competition_final_file.ipynb",
   "provenance": []
  },
  "kernelspec": {
   "display_name": "Python 3",
   "language": "python",
   "name": "python3"
  },
  "language_info": {
   "codemirror_mode": {
    "name": "ipython",
    "version": 3
   },
   "file_extension": ".py",
   "mimetype": "text/x-python",
   "name": "python",
   "nbconvert_exporter": "python",
   "pygments_lexer": "ipython3",
   "version": "3.7.3"
  }
 },
 "nbformat": 4,
 "nbformat_minor": 2
}
